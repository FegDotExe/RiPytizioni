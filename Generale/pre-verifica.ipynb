{
 "cells": [
  {
   "cell_type": "markdown",
   "metadata": {},
   "source": [
    "# Media\n",
    "\n",
    "- Vogliamo avere un input che chieda all'utente di fornire numeri\n",
    "- Vogliamo convertire l'input in int\n",
    "- Vogliamo anche tenere conto di quanti numeri vengono forniti"
   ]
  },
  {
   "cell_type": "code",
   "execution_count": 6,
   "metadata": {},
   "outputs": [
    {
     "name": "stdout",
     "output_type": "stream",
     "text": [
      "True\n",
      "False\n"
     ]
    }
   ],
   "source": [
    "#variabile=input(\"Scrivi qualcosa>\")\n",
    "\n",
    "print(5>3)\n",
    "print(5<3)"
   ]
  },
  {
   "cell_type": "code",
   "execution_count": 12,
   "metadata": {},
   "outputs": [
    {
     "name": "stdout",
     "output_type": "stream",
     "text": [
      "9.0\n"
     ]
    }
   ],
   "source": [
    "def media():\n",
    "    somma=0\n",
    "    quantiNumeri=0\n",
    "    while True:\n",
    "        numeroFornito=input(\"Scrivi un numero>\")\n",
    "        if numeroFornito==\"\":\n",
    "            break\n",
    "        else:\n",
    "            somma=somma+int(numeroFornito)\n",
    "            quantiNumeri=quantiNumeri+1\n",
    "    return somma/quantiNumeri\n",
    "\n",
    "print(media())"
   ]
  },
  {
   "cell_type": "markdown",
   "metadata": {},
   "source": [
    "# Fibonacci\n",
    "\n",
    "0=0  \n",
    "1=1  \n",
    "2=(0+1)=1  \n",
    "3=(1+1)=2  \n",
    "4=(2+1)=3  \n",
    "5=(3+2)=5  \n",
    "6=(5+3)=8  \n",
    "7=(8+5)=13  "
   ]
  },
  {
   "cell_type": "code",
   "execution_count": 21,
   "metadata": {},
   "outputs": [
    {
     "name": "stdout",
     "output_type": "stream",
     "text": [
      "1\n"
     ]
    }
   ],
   "source": [
    "def fibonacci(indice):\n",
    "    precedente1=0\n",
    "    precedente2=0\n",
    "\n",
    "    output=0\n",
    "\n",
    "    i=0\n",
    "    while i<=indice:\n",
    "        output=precedente1+precedente2\n",
    "\n",
    "        if i==1:\n",
    "            output=1\n",
    "        if i>0:\n",
    "            precedente1=precedente2\n",
    "            precedente2=output\n",
    "\n",
    "        i=i+1\n",
    "    \n",
    "    return output\n",
    "\n",
    "print(fibonacci(1))"
   ]
  },
  {
   "cell_type": "code",
   "execution_count": 23,
   "metadata": {},
   "outputs": [
    {
     "name": "stdout",
     "output_type": "stream",
     "text": [
      "8\n"
     ]
    }
   ],
   "source": [
    "def fibonacciRicorsivo(indice):\n",
    "    if indice==0:\n",
    "        return 0\n",
    "    elif indice==1:\n",
    "        return 1\n",
    "    elif indice >=2:\n",
    "        return fibonacciRicorsivo(indice-1)+fibonacciRicorsivo(indice-2)\n",
    "\n",
    "print(fibonacciRicorsivo(6))"
   ]
  },
  {
   "cell_type": "markdown",
   "metadata": {},
   "source": [
    "# Separatore di cifre"
   ]
  },
  {
   "cell_type": "code",
   "execution_count": 29,
   "metadata": {},
   "outputs": [
    {
     "name": "stdout",
     "output_type": "stream",
     "text": [
      "1,2,3,4,5\n"
     ]
    }
   ],
   "source": [
    "def cifreSeparate(numero):\n",
    "    divisore=1#Rappresenta il multiplo di 10 per cui si dividerà il numero fornito\n",
    "    output=\"\"#Rappresenta la stringa che verrà restituita alla fine della funzione\n",
    "\n",
    "    while divisore<=numero:#Ripete l'operazione mentre il multiplo di 10 è minore del numero fornito\n",
    "        numeroTemporaneo=(numero//(divisore*10))*10#Crea un numero temporaneo pari alla divisione intera successiva del numero dato, moltiplicato poi per 10. Se il numero dato fosse 1234 e questa fosse la prima volta che il loop viene eseguito, restituirebbe 1234//10->123, 123*10->1230\n",
    "        \n",
    "        if divisore==1:#Se il divisore è pari a 1, quindi si sta considerando il primo numero a destra, non serve mettere la virgola alla fine della stringa\n",
    "            output=str((numero//divisore)-numeroTemporaneo)+output#Alla destra della stringa di output viene aggiunta la divisione intera del numero fornito per il divisore corrente, sottratto al numero temporaneo dichiarato sopra. Se il numero dato fosse 1234 e questa fosse la prima volta che il loop viene eseguito, restituirebbe 1234//1->1234, 1234-1230->4\n",
    "        else:\n",
    "            output=str((numero//divisore)-numeroTemporaneo)+\",\"+output\n",
    "\n",
    "        divisore=divisore*10#Moltiplica il divisore per 10 ogni volta che il loop arriva a conclusione\n",
    "        \n",
    "    return output#Restituisce la stringa formata\n",
    "\n",
    "print(cifreSeparate(12345))"
   ]
  },
  {
   "cell_type": "markdown",
   "metadata": {},
   "source": [
    "# Cavalletta matematica"
   ]
  },
  {
   "cell_type": "markdown",
   "metadata": {},
   "source": [
    "## Primo"
   ]
  },
  {
   "cell_type": "code",
   "execution_count": 34,
   "metadata": {},
   "outputs": [
    {
     "name": "stdout",
     "output_type": "stream",
     "text": [
      "False\n"
     ]
    }
   ],
   "source": [
    "def primo(n):\n",
    "    isPrimo=True\n",
    "    for i in range(2,n):\n",
    "        if n%i==0:\n",
    "            isPrimo=False\n",
    "            break\n",
    "    return isPrimo\n",
    "\n",
    "print(primo(4))"
   ]
  },
  {
   "cell_type": "markdown",
   "metadata": {},
   "source": [
    "## Cavalletta matematica"
   ]
  },
  {
   "cell_type": "code",
   "execution_count": 38,
   "metadata": {},
   "outputs": [
    {
     "name": "stdout",
     "output_type": "stream",
     "text": [
      "189\n",
      "7\n"
     ]
    }
   ],
   "source": [
    "import random\n",
    "\n",
    "def mangia(n):\n",
    "    #Se è primo allora vale qualcosa, altrimenti vale 0\n",
    "    if primo(n):\n",
    "        #Fai delle cose\n",
    "        return n\n",
    "    else:\n",
    "        return 0\n",
    "\n",
    "def cavallettaMatematica(inizio,fine):\n",
    "    posizione=inizio\n",
    "    robeMangiate=0\n",
    "    volteMangiate=0#Numero di volte nelle quali la cavalletta ha mangiato\n",
    "\n",
    "    while posizione<fine:\n",
    "        salto=random.randint(1,3)\n",
    "        posizione=posizione+salto\n",
    "\n",
    "        robeMangiate=robeMangiate+mangia(posizione)\n",
    "\n",
    "        if mangia(posizione)!=0:#Potrei anche scrivere \"if primo(posizione):\"\n",
    "            #print(\"Ho mangiato il numero {cammello}\".format(cammello=posizione))\n",
    "            volteMangiate=volteMangiate+1\n",
    "\n",
    "    return robeMangiate, volteMangiate\n",
    "\n",
    "numero1, numero2 = cavallettaMatematica(1,50)\n",
    "print(numero1)\n",
    "print(numero2)"
   ]
  }
 ],
 "metadata": {
  "interpreter": {
   "hash": "e083722571f9f0ec84a5baf48f347dbe11928b35218b5666fd9f4885e1b3b744"
  },
  "kernelspec": {
   "display_name": "Python 3.9.0 64-bit",
   "language": "python",
   "name": "python3"
  },
  "language_info": {
   "codemirror_mode": {
    "name": "ipython",
    "version": 3
   },
   "file_extension": ".py",
   "mimetype": "text/x-python",
   "name": "python",
   "nbconvert_exporter": "python",
   "pygments_lexer": "ipython3",
   "version": "3.9.0"
  },
  "orig_nbformat": 4
 },
 "nbformat": 4,
 "nbformat_minor": 2
}
