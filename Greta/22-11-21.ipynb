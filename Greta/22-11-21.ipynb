{
 "cells": [
  {
   "cell_type": "code",
   "execution_count": 47,
   "metadata": {},
   "outputs": [],
   "source": [
    "def fattura(nomeFileIngresso, nomeFileUscita):\n",
    "    fileDiviso=[]\n",
    "    totale=0.0\n",
    "\n",
    "    lunghezzaParole=[0,0,0,0]\n",
    "\n",
    "    with open(nomeFileIngresso, \"r\") as fin:\n",
    "        contenuto=fin.readlines()\n",
    "\n",
    "        for i in range(len(contenuto)):\n",
    "            #fileDiviso+=[contenuto[i].split(\",\")]\n",
    "\n",
    "            riga=[]\n",
    "            virgole=0 #Il numero di virgole trovate\n",
    "            inizioParola=0\n",
    "\n",
    "            for j in range(len(contenuto[i])): #j varia da 0 alla lunghezza della riga considerata\n",
    "                if contenuto[i][j]==\",\" and virgole < 4:\n",
    "                    if i > 0:\n",
    "                        if virgole==1 or virgole==3:\n",
    "                            riga+=[float(contenuto[i][inizioParola:j])]\n",
    "                        elif virgole==2:\n",
    "                            riga+=[int(contenuto[i][inizioParola:j])]\n",
    "                        else:\n",
    "                            riga+=[contenuto[i][inizioParola:j]]\n",
    "                    else:\n",
    "                        riga+=[contenuto[i][inizioParola:j]]\n",
    "                    #Modo equivalente: riga.append(contenuto[i][inizioParola:j])\n",
    "                    inizioParola=j+1\n",
    "                    virgole+=1\n",
    "            riga+=[contenuto[i][inizioParola:len(contenuto[i])+1]]\n",
    "\n",
    "            if i==0:\n",
    "                lunghezzaParole[0]=len(riga[0])\n",
    "                lunghezzaParole[1]=len(riga[1])\n",
    "                lunghezzaParole[2]=len(riga[2])\n",
    "                lunghezzaParole[3]=len(riga[3])\n",
    "            elif len(riga[0])>lunghezzaParole[0]:\n",
    "                lunghezzaParole[0]=len(riga[0])\n",
    "            \n",
    "            fileDiviso+=[riga]\n",
    "\n",
    "            if i > 0:\n",
    "                totale+=fileDiviso[i][3]\n",
    "        \n",
    "    with open(nomeFileUscita, \"w\") as fout:\n",
    "        for riga in fileDiviso:\n",
    "            fout.write(\"{parola:{fill}{align}{width}}\".format(parola=riga[0], fill=\" \", align=\"<\", width=lunghezzaParole[0]+1))\n",
    "            fout.write(\"{parola:{fill}{align}{width}}\".format(parola=riga[1], fill=\" \", align=\">\", width=lunghezzaParole[1]+1))\n",
    "            fout.write(\"{parola:{fill}{align}{width}}\".format(parola=riga[2], fill=\" \", align=\">\", width=lunghezzaParole[2]+1))\n",
    "            fout.write(\"{parola:{fill}{align}{width}}\".format(parola=riga[3], fill=\" \", align=\">\", width=lunghezzaParole[3]+1))\n",
    "            fout.write(riga[4])\n",
    "        fout.write(\"\\n\")\n",
    "        fout.write(\"{parola:{fill}{align}{width}}\".format(parola=\"Totale\", fill=\" \", align=\"<\", width=lunghezzaParole[0]+1))\n",
    "        fout.write(\"{parola:{fill}{align}{width}}\".format(parola=totale, fill=\" \", align=\">\", width=lunghezzaParole[1]+1))\n",
    "\n",
    "fattura(\"22-11-20-preventivo.csv\",\"22-11-21-preventivo-output.csv\")"
   ]
  }
 ],
 "metadata": {
  "kernelspec": {
   "display_name": "Python 3.9.0 64-bit",
   "language": "python",
   "name": "python3"
  },
  "language_info": {
   "codemirror_mode": {
    "name": "ipython",
    "version": 3
   },
   "file_extension": ".py",
   "mimetype": "text/x-python",
   "name": "python",
   "nbconvert_exporter": "python",
   "pygments_lexer": "ipython3",
   "version": "3.9.0"
  },
  "orig_nbformat": 4,
  "vscode": {
   "interpreter": {
    "hash": "ad0bde7d7f50bc082869a74b98121bcd367071a3ca0bcf1838fa0731e0e55dce"
   }
  }
 },
 "nbformat": 4,
 "nbformat_minor": 2
}
