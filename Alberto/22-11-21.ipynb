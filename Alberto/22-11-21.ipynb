{
 "cells": [
  {
   "cell_type": "markdown",
   "metadata": {},
   "source": [
    "# Ripasso sui file"
   ]
  },
  {
   "cell_type": "markdown",
   "metadata": {},
   "source": [
    "Lettura \"base dei file\""
   ]
  },
  {
   "cell_type": "code",
   "execution_count": null,
   "metadata": {},
   "outputs": [],
   "source": [
    "fileLetto=open(\"NomeFile.txt\",\"r\")\n",
    "fileLetto.close()"
   ]
  },
  {
   "cell_type": "markdown",
   "metadata": {},
   "source": [
    "Maniera più semplice:"
   ]
  },
  {
   "cell_type": "code",
   "execution_count": null,
   "metadata": {},
   "outputs": [],
   "source": [
    "with open(\"NomeFile.txt\",\"r\") as fileLetto:\n",
    "    print(\"Cose\")\n",
    "# Quando si esce dal with, è come se automaticamente si fosse chiamato fileLetto.close()"
   ]
  },
  {
   "cell_type": "markdown",
   "metadata": {},
   "source": [
    "## Lettura"
   ]
  },
  {
   "cell_type": "code",
   "execution_count": null,
   "metadata": {},
   "outputs": [],
   "source": [
    "with open(\"NomeFile.txt\",\"r\") as fileLetto:\n",
    "    listaRighe=fileLetto.readlines() #Con questo si leggono tutte le righe\n",
    "    #ATTENZIONE: vengono conservati i caratteri come \\n"
   ]
  },
  {
   "cell_type": "markdown",
   "metadata": {},
   "source": [
    "# Lettura file csv"
   ]
  },
  {
   "cell_type": "code",
   "execution_count": 2,
   "metadata": {},
   "outputs": [
    {
     "name": "stdout",
     "output_type": "stream",
     "text": [
      "45.43800000000002\n"
     ]
    }
   ],
   "source": [
    "def media(nomeFileInput):\n",
    "    listaValori=[]\n",
    "    with open(nomeFileInput,\"r\") as fin:\n",
    "        listaValori=fin.readlines()\n",
    "        for i in range(len(listaValori)):\n",
    "            listaValori[i]=float(listaValori[i])\n",
    "\n",
    "    somma=0.0\n",
    "    numeroValori=0\n",
    "    for valore in listaValori:\n",
    "        somma+=valore\n",
    "        numeroValori+=1\n",
    "\n",
    "    return somma/numeroValori\n",
    "\n",
    "print(media(\"22-11-21-colonnamedia.txt\"))"
   ]
  },
  {
   "cell_type": "markdown",
   "metadata": {},
   "source": [
    "# Esercizio extra"
   ]
  },
  {
   "cell_type": "code",
   "execution_count": 29,
   "metadata": {},
   "outputs": [
    {
     "data": {
      "text/plain": [
       "3.5"
      ]
     },
     "execution_count": 29,
     "metadata": {},
     "output_type": "execute_result"
    }
   ],
   "source": [
    "def mediaColonne(nomeFileInput, numeroColonna):\n",
    "    somma=0\n",
    "    numeroValori=0\n",
    "    \n",
    "    with open(nomeFileInput, \"r\") as fin:\n",
    "        matrice=[]\n",
    "        righe=fin.readlines()\n",
    "\n",
    "        for i in range(len(righe)):\n",
    "            matrice+=[righe[i].split(\",\")]\n",
    "            #Scrittura equiv: matrice.append(righe[i].split(\",\"))\n",
    "\n",
    "        for i in range(1,len(matrice)): #i va da 0 al numero di righe nella matrice\n",
    "            #print(matrice[i][numeroColonna])\n",
    "\n",
    "            somma+=int(matrice[i][numeroColonna])\n",
    "            numeroValori+=1\n",
    "\n",
    "    return somma/numeroValori\n",
    "\n",
    "mediaColonne(\"22-11-21-tabellamedie.csv\",4)"
   ]
  }
 ],
 "metadata": {
  "kernelspec": {
   "display_name": "Python 3.9.0 64-bit",
   "language": "python",
   "name": "python3"
  },
  "language_info": {
   "codemirror_mode": {
    "name": "ipython",
    "version": 3
   },
   "file_extension": ".py",
   "mimetype": "text/x-python",
   "name": "python",
   "nbconvert_exporter": "python",
   "pygments_lexer": "ipython3",
   "version": "3.9.0"
  },
  "orig_nbformat": 4,
  "vscode": {
   "interpreter": {
    "hash": "ad0bde7d7f50bc082869a74b98121bcd367071a3ca0bcf1838fa0731e0e55dce"
   }
  }
 },
 "nbformat": 4,
 "nbformat_minor": 2
}
