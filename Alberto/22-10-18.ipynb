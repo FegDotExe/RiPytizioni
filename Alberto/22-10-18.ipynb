{
 "cells": [
  {
   "cell_type": "markdown",
   "metadata": {},
   "source": [
    "# Ripasso\n",
    "Scrivere una funzione speculareOrizzontale(m) che accetta come unico parametro una matrice M quadrata di interi e che ritorna il valore true se gli elementi sopra della prima metà (orizzontale) sono speculari rispetto alla metà inferiore; ritorna false altrimenti."
   ]
  },
  {
   "cell_type": "code",
   "execution_count": 9,
   "metadata": {},
   "outputs": [
    {
     "name": "stdout",
     "output_type": "stream",
     "text": [
      "True\n",
      "False\n"
     ]
    }
   ],
   "source": [
    "def speculareOrizzontale(m): #m=[[]]\n",
    "    i=0\n",
    "    j=0\n",
    "    while i<len(m) and j<len(m[i]): #Qui guardo le colonne della riga\n",
    "        if m[i][j] != m[j][i]:\n",
    "            return False\n",
    "\n",
    "        j=j+1\n",
    "\n",
    "        if j==len(m[i]): #E' arrivato alla fine della riga\n",
    "            i=i+1\n",
    "            j=i\n",
    "\n",
    "    return True\n",
    "\n",
    "print(speculareOrizzontale([\n",
    "    [0,2,3],\n",
    "    [2,0,4],\n",
    "    [3,4,0]\n",
    "]))\n",
    "\n",
    "print(speculareOrizzontale([\n",
    "    [0,2,3],\n",
    "    [2,0,4],\n",
    "    [3,6,0]\n",
    "]))"
   ]
  },
  {
   "cell_type": "markdown",
   "metadata": {},
   "source": [
    "Scrivere una funzione generaMatrice(n,m) che dati due interi passati come parametri che rappresentano il numero di righe e colonne restituisce una matrice nxm di numeri casuali (interi) compresi tra 0 e 9, estremi compresi."
   ]
  },
  {
   "cell_type": "markdown",
   "metadata": {},
   "source": [
    "Altra maniera per importare librerie:"
   ]
  },
  {
   "cell_type": "code",
   "execution_count": 11,
   "metadata": {},
   "outputs": [
    {
     "data": {
      "text/plain": [
       "9"
      ]
     },
     "execution_count": 11,
     "metadata": {},
     "output_type": "execute_result"
    }
   ],
   "source": [
    "from random import randint\n",
    "\n",
    "randint(0,9)"
   ]
  },
  {
   "cell_type": "code",
   "execution_count": 12,
   "metadata": {},
   "outputs": [
    {
     "name": "stdout",
     "output_type": "stream",
     "text": [
      "[[4, 7, 3, 2, 4, 1, 8, 3, 5, 2], [2, 6, 0, 3, 8, 3, 1, 7, 8, 3], [7, 7, 0, 0, 7, 5, 8, 1, 1, 3], [1, 8, 8, 9, 5, 2, 9, 1, 5, 1], [3, 4, 0, 2, 9, 3, 6, 6, 2, 0], [8, 9, 9, 0, 7, 1, 3, 7, 5, 4], [2, 0, 1, 3, 0, 0, 0, 5, 0, 0], [6, 1, 2, 9, 3, 7, 9, 7, 8, 7], [6, 8, 8, 8, 8, 1, 7, 7, 0, 2], [2, 9, 5, 3, 7, 4, 8, 6, 1, 3]]\n"
     ]
    }
   ],
   "source": [
    "import random\n",
    "\n",
    "def generaMatrice(n,m):\n",
    "    matrice=[]\n",
    "    for i in range(0,n): #Per ogni riga\n",
    "        riga=[]\n",
    "        for j in range(0,m): #Per ogni colonna nella riga\n",
    "            riga.append(randint(0,9)) #Mette il valore nella riga\n",
    "        matrice.append(riga) #Mette la riga nella matrice\n",
    "    return matrice\n",
    "\n",
    "print(generaMatrice(10,10))"
   ]
  },
  {
   "cell_type": "markdown",
   "metadata": {},
   "source": [
    "# Leggere file\n",
    "Dato un file che contiene una sequenza di valori con virgola disposti uno per riga, scrivere una funzione di nome media(s) che riceve come unico parametro il valore s con il nome del file in input e che restituisce il valore media."
   ]
  },
  {
   "cell_type": "code",
   "execution_count": 22,
   "metadata": {},
   "outputs": [
    {
     "name": "stdout",
     "output_type": "stream",
     "text": [
      "123\n",
      "20\n"
     ]
    }
   ],
   "source": [
    "with open(\"test.txt\",\"r\") as testo:\n",
    "    riga=testo.readline()\n",
    "\n",
    "    if riga[-1]==\"\\n\": #Se l'ultima lettera è invio\n",
    "        # print(riga[-1]) #Scrive una cosa vuota\n",
    "        # print(riga[-2])\n",
    "        print(riga[0:-2])\n",
    "    else:\n",
    "        print(riga)\n",
    "\n",
    "stringa=\"10\"\n",
    "numero=int(stringa)\n",
    "\n",
    "print(numero*2)"
   ]
  },
  {
   "cell_type": "code",
   "execution_count": 27,
   "metadata": {},
   "outputs": [
    {
     "name": "stdout",
     "output_type": "stream",
     "text": [
      "7.0\n"
     ]
    }
   ],
   "source": [
    "def media(s):\n",
    "    media=0\n",
    "    numeri=0\n",
    "    with open(s,\"r\") as testo:\n",
    "        for riga in testo:\n",
    "            if riga[-1]==\"\\n\":\n",
    "                media+=int(riga[0:-2])\n",
    "                numeri+=1\n",
    "            else:\n",
    "                media+=int(riga)\n",
    "                numeri+=1\n",
    "    return media/numeri\n",
    "\n",
    "\n",
    "print(media(\"test.txt\"))"
   ]
  }
 ],
 "metadata": {
  "kernelspec": {
   "display_name": "Python 3.9.0 64-bit",
   "language": "python",
   "name": "python3"
  },
  "language_info": {
   "codemirror_mode": {
    "name": "ipython",
    "version": 3
   },
   "file_extension": ".py",
   "mimetype": "text/x-python",
   "name": "python",
   "nbconvert_exporter": "python",
   "pygments_lexer": "ipython3",
   "version": "3.9.0"
  },
  "orig_nbformat": 4,
  "vscode": {
   "interpreter": {
    "hash": "ad0bde7d7f50bc082869a74b98121bcd367071a3ca0bcf1838fa0731e0e55dce"
   }
  }
 },
 "nbformat": 4,
 "nbformat_minor": 2
}
