{
 "cells": [
  {
   "cell_type": "markdown",
   "metadata": {},
   "source": [
    "# Files\n",
    "Cosa farò:\n",
    "- Leggere il file\n",
    "- Costruire una matrice (contando solo le prime 4 virgole)\n",
    "- Leggi tutti i valori della prima colonna e trova quanto è lungo quello più lungo (in modo da fare una colonna ben formattata)\n",
    "- Fare il print di tutti i valori formattati correttamente"
   ]
  },
  {
   "cell_type": "code",
   "execution_count": 41,
   "metadata": {},
   "outputs": [],
   "source": [
    "def fattura(nomeFileIngresso:str, nomeFileUscita:str):\n",
    "    with open(nomeFileIngresso, \"r\") as fileIngresso:\n",
    "        lines=fileIngresso.readlines()\n",
    "\n",
    "        totale=0\n",
    "\n",
    "        #Costruisco la matrice\n",
    "        matrix=[]\n",
    "        for i in range(1,len(lines)):\n",
    "            line=lines[i]\n",
    "            j=0 #La posizione del cursore nella linea\n",
    "            virgole=0 #Il numero di virgole trovate\n",
    "            parola=\"\" #La parola che sta venendo considerata\n",
    "            mtx_line=[] #La linea della matrice che sta venendo costrutita\n",
    "            while j<len(line) and virgole<4:\n",
    "                if line[j]==\",\":\n",
    "                    if virgole==1 or virgole==3:\n",
    "                        mtx_line.append(float(parola))\n",
    "                        if virgole==3:\n",
    "                            totale+=float(parola)\n",
    "                    elif virgole==2:\n",
    "                        mtx_line.append(int(parola))\n",
    "                    else:\n",
    "                        mtx_line.append(parola)\n",
    "                    parola=\"\"\n",
    "                    virgole+=1\n",
    "                else:\n",
    "                    parola+=line[j]\n",
    "                j+=1\n",
    "            mtx_line.append(line[j:len(line)+1])\n",
    "            matrix.append(mtx_line)\n",
    "        \n",
    "        #Trovo il prodotto dal nome più lungo\n",
    "        lunghezzaMax=len(\"Totale\")\n",
    "        for riga in matrix:\n",
    "            if len(riga[0])>lunghezzaMax:\n",
    "                lunghezzaMax=len(riga[0])\n",
    "        \n",
    "        with open(nomeFileUscita, \"w\") as fileUscita:\n",
    "            for linea in matrix:\n",
    "                fileUscita.write(\"{word:{fill}{align}{width}}\".format(word=linea[0], fill=\" \", align=\"<\", width=lunghezzaMax+1)) #Scrive il nome della riga\n",
    "                #fileUscita.write(\"%5.1f\"%linea[1])\n",
    "                fileUscita.write(\"{number:{fill}{align}{width}}\".format(number=linea[1],fill=\" \", align=\">\", width=5)) #Equivalente alla riga sopra\n",
    "                fileUscita.write(\"{number:{fill}{align}{width}}\".format(number=linea[2],fill=\" \", align=\">\", width=5))\n",
    "                fileUscita.write(\"{number:{fill}{align}{width}}\".format(number=linea[3],fill=\" \", align=\">\", width=7))\n",
    "                fileUscita.write(linea[4])\n",
    "\n",
    "            fileUscita.write(\"\\n{word:{fill}{align}{width}}\".format(word=\"Totale\", fill=\" \", align=\"<\", width=lunghezzaMax+1)) #Scrive il nome della riga\n",
    "            fileUscita.write(\"{number:{fill}{align}{width}}\".format(number=totale,fill=\" \", align=\">\", width=5))\n",
    "\n",
    "fattura(\"22-11-20-preventivo.csv\",\"22-11-20-preventivo-output.csv\")"
   ]
  }
 ],
 "metadata": {
  "kernelspec": {
   "display_name": "Python 3.9.0 64-bit",
   "language": "python",
   "name": "python3"
  },
  "language_info": {
   "codemirror_mode": {
    "name": "ipython",
    "version": 3
   },
   "file_extension": ".py",
   "mimetype": "text/x-python",
   "name": "python",
   "nbconvert_exporter": "python",
   "pygments_lexer": "ipython3",
   "version": "3.9.0"
  },
  "orig_nbformat": 4,
  "vscode": {
   "interpreter": {
    "hash": "ad0bde7d7f50bc082869a74b98121bcd367071a3ca0bcf1838fa0731e0e55dce"
   }
  }
 },
 "nbformat": 4,
 "nbformat_minor": 2
}
