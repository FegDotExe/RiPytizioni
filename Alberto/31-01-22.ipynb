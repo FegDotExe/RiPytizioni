{
 "cells": [
  {
   "cell_type": "markdown",
   "metadata": {},
   "source": [
    "# Esercizi\n",
    "## 1: figura quadrato\n",
    "Scrivere una funzione di nome quadrato, che riceva un parametro che rappresenta la dimensione del lato e che restituisca una stringa che rappresenti un quadrato. Usare print per verificare la correttezza."
   ]
  },
  {
   "cell_type": "code",
   "execution_count": 5,
   "metadata": {},
   "outputs": [
    {
     "name": "stdout",
     "output_type": "stream",
     "text": [
      "*****\n",
      "*****\n",
      "*****\n",
      "*****\n",
      "*****\n",
      "\n"
     ]
    }
   ],
   "source": [
    "def quadrato(lato):\n",
    "    stringa=\"\"\n",
    "    for y in range(lato):\n",
    "        for x in range(lato):\n",
    "            stringa=stringa+\"*\"\n",
    "        stringa=stringa+\"\\n\"\n",
    "    return stringa\n",
    "print(quadrato(5))"
   ]
  },
  {
   "cell_type": "markdown",
   "metadata": {},
   "source": [
    "Caratteri speciali"
   ]
  },
  {
   "cell_type": "code",
   "execution_count": 7,
   "metadata": {},
   "outputs": [
    {
     "name": "stdout",
     "output_type": "stream",
     "text": [
      "\tCiao\n",
      "Ciao\n"
     ]
    }
   ],
   "source": [
    "print(\"\\tCiao\")\n",
    "print(\"Ciao\")"
   ]
  },
  {
   "cell_type": "code",
   "execution_count": 9,
   "metadata": {},
   "outputs": [
    {
     "name": "stdout",
     "output_type": "stream",
     "text": [
      "Arrivederci\n"
     ]
    }
   ],
   "source": [
    "print(\"Ciao\", end=\"\\r\")\n",
    "input(\"\")\n",
    "print(\"Arrivederci\")"
   ]
  },
  {
   "cell_type": "markdown",
   "metadata": {},
   "source": [
    "## Esercizio 2\n",
    "Scrivi una funzione di nome rombo_dispari(lato) che data la lunghezza del lato (fissato ad un numero dispari), disegni la figura di un rombo contenuto in un quadrato di lato x lato"
   ]
  },
  {
   "cell_type": "code",
   "execution_count": 23,
   "metadata": {},
   "outputs": [
    {
     "name": "stdout",
     "output_type": "stream",
     "text": [
      "  *  \n",
      " *** \n",
      "*****\n",
      " *** \n",
      "  *  \n",
      "\n"
     ]
    }
   ],
   "source": [
    "def rombo_dispari(lato):\n",
    "    stringa=\"\"\n",
    "    numero_meta=lato//2\n",
    "    asterischi_in_riga=1\n",
    "    for y in range(lato):\n",
    "        spazi_in_riga=(lato-asterischi_in_riga)/2\n",
    "        for x in range(lato):\n",
    "            if x<spazi_in_riga or x>=spazi_in_riga+asterischi_in_riga:\n",
    "                stringa+=\" \"\n",
    "            else:\n",
    "                stringa+=\"*\"\n",
    "        if y<numero_meta:\n",
    "            asterischi_in_riga+=2\n",
    "        else:\n",
    "            asterischi_in_riga-=2\n",
    "        stringa+=\"\\n\"\n",
    "    return stringa\n",
    "\n",
    "print(rombo_dispari(5))"
   ]
  },
  {
   "cell_type": "markdown",
   "metadata": {},
   "source": [
    "# Bot di telegram"
   ]
  },
  {
   "cell_type": "code",
   "execution_count": 35,
   "metadata": {},
   "outputs": [],
   "source": [
    "import telebot\n",
    "\n",
    "token=\"5128042337:AAFvTJXGnxrJVbXNqBv4RP8nUBRx4g6rmPU\"\n",
    "\n",
    "bot=telebot.TeleBot(token)\n",
    "\n",
    "class Variabili:\n",
    "    persona1=0\n",
    "    persona2=0\n",
    "\n",
    "@bot.message_handler(commands=['start'])\n",
    "def start(message):\n",
    "    print(message.from_user.first_name)\n",
    "    bot.send_message(message.chat.id, \"Ciao {user}!\".format(user=message.from_user.first_name))\n",
    "    #bot.send_message(message.chat.id, \"Ecco un altro messaggio\")\n",
    "\n",
    "@bot.message_handler(commands=['register'])\n",
    "def register(message):\n",
    "    if Variabili.persona1==0:\n",
    "        Variabili.persona1=message.chat.id\n",
    "        bot.send_message(message.chat.id, \"{user}, sei stato registrato come prima persona\".format(user=message.from_user.first_name))\n",
    "    else:\n",
    "        Variabili.persona2=message.chat.id\n",
    "        bot.send_message(message.chat.id, \"{user}, sei stato registrato come seconda persona\".format(user=message.from_user.first_name))\n",
    "\n",
    "@bot.message_handler(commands=['scrivi']) #/scrivi Ciao!\n",
    "def scrivi(message):\n",
    "    testo=message.text.replace(\"/scrivi\", \"\")\n",
    "    if message.chat.id==Variabili.persona1:\n",
    "        bot.send_message(Variabili.persona2, testo)\n",
    "    elif message.chat.id==Variabili.persona2:\n",
    "        bot.send_message(Variabili.persona1, testo)\n",
    "\n",
    "def start_polling():\n",
    "    bot.polling()\n",
    "\n",
    "start_polling()"
   ]
  }
 ],
 "metadata": {
  "interpreter": {
   "hash": "e083722571f9f0ec84a5baf48f347dbe11928b35218b5666fd9f4885e1b3b744"
  },
  "kernelspec": {
   "display_name": "Python 3.9.0 64-bit",
   "language": "python",
   "name": "python3"
  },
  "language_info": {
   "codemirror_mode": {
    "name": "ipython",
    "version": 3
   },
   "file_extension": ".py",
   "mimetype": "text/x-python",
   "name": "python",
   "nbconvert_exporter": "python",
   "pygments_lexer": "ipython3",
   "version": "3.9.0"
  },
  "orig_nbformat": 4
 },
 "nbformat": 4,
 "nbformat_minor": 2
}
