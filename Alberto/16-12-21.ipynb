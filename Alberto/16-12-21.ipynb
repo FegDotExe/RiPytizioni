{
 "cells": [
  {
   "cell_type": "markdown",
   "metadata": {},
   "source": [
    "# Esercizi e simili\n",
    "\n",
    "Scrivere una funzione di nome capovolgi(s), che data una stringa s passata come parametro restituisce la stringa capovolta\n",
    "\n",
    "Test: leggere da input una stringa e lanciare la funzione per verificare il corretto funzionamento"
   ]
  },
  {
   "cell_type": "code",
   "execution_count": 1,
   "metadata": {},
   "outputs": [
    {
     "name": "stdout",
     "output_type": "stream",
     "text": [
      "Ciao\n"
     ]
    }
   ],
   "source": [
    "stringa1=\"Ci\"\n",
    "stringa2=\"ao\"\n",
    "\n",
    "print(stringa1+stringa2)"
   ]
  },
  {
   "cell_type": "code",
   "execution_count": null,
   "metadata": {},
   "outputs": [],
   "source": [
    "stringaPartenza=\"Ciao\" #Vogliamo arrivare con una stringa capovolta, quindi:\n",
    "stringaArrivo=\"o\"+\"a\"+\"i\"+\"C\""
   ]
  },
  {
   "cell_type": "code",
   "execution_count": 5,
   "metadata": {},
   "outputs": [
    {
     "name": "stdout",
     "output_type": "stream",
     "text": [
      "oaiC\n"
     ]
    }
   ],
   "source": [
    "def capovolgi(s):\n",
    "    stringaCapovolta=\"\"\n",
    "    for lettera in s:\n",
    "        stringaCapovolta=lettera+stringaCapovolta #C->iC->aiC->oaiC\n",
    "    return stringaCapovolta\n",
    "\n",
    "print(capovolgi(\"Ciao\"))"
   ]
  },
  {
   "cell_type": "code",
   "execution_count": 6,
   "metadata": {},
   "outputs": [
    {
     "name": "stdout",
     "output_type": "stream",
     "text": [
      "ollemmaC\n"
     ]
    }
   ],
   "source": [
    "print(capovolgi(input(\"Inserisci una stringa: \")))"
   ]
  },
  {
   "cell_type": "markdown",
   "metadata": {},
   "source": [
    "# Altri trick con le liste"
   ]
  },
  {
   "cell_type": "code",
   "execution_count": 12,
   "metadata": {},
   "outputs": [
    {
     "name": "stdout",
     "output_type": "stream",
     "text": [
      "10\n"
     ]
    }
   ],
   "source": [
    "listaNumeri=[1,2,3,4,5,6,7,8,9,10]\n",
    "\n",
    "print(listaNumeri[-1]) #Stampa l'ultimo elemento della lista"
   ]
  },
  {
   "cell_type": "code",
   "execution_count": 13,
   "metadata": {},
   "outputs": [
    {
     "name": "stdout",
     "output_type": "stream",
     "text": [
      "[1, 2, 3, 4, 5]\n"
     ]
    }
   ],
   "source": [
    "#Stampa gli elementi dal primo al quinto\n",
    "print(listaNumeri[0:5])"
   ]
  },
  {
   "cell_type": "markdown",
   "metadata": {},
   "source": [
    "Un utilizzo più interessante:"
   ]
  },
  {
   "cell_type": "code",
   "execution_count": 14,
   "metadata": {},
   "outputs": [
    {
     "name": "stdout",
     "output_type": "stream",
     "text": [
      "[1, 2, 3, 4, 5, 6, 7, 8]\n"
     ]
    }
   ],
   "source": [
    "print(listaNumeri[0:-2])"
   ]
  },
  {
   "cell_type": "code",
   "execution_count": 15,
   "metadata": {},
   "outputs": [
    {
     "name": "stdout",
     "output_type": "stream",
     "text": [
      "[1, 2, 3, 4, 5, 6, 7, 8, 9, 10]\n"
     ]
    }
   ],
   "source": [
    "#Esiste una maniera per creare stringhe che ha più o meno questo aspetto:\n",
    "listaPazza=[numero for numero in range(1,11)]\n",
    "print(listaPazza)"
   ]
  },
  {
   "cell_type": "markdown",
   "metadata": {},
   "source": [
    "Questa scrittura equivale a:"
   ]
  },
  {
   "cell_type": "code",
   "execution_count": 16,
   "metadata": {},
   "outputs": [
    {
     "name": "stdout",
     "output_type": "stream",
     "text": [
      "[1, 2, 3, 4, 5, 6, 7, 8, 9, 10]\n"
     ]
    }
   ],
   "source": [
    "listaPazza=[]\n",
    "for numero in range(1,11):\n",
    "    listaPazza.append(numero)\n",
    "print(listaPazza)"
   ]
  },
  {
   "cell_type": "markdown",
   "metadata": {},
   "source": [
    "# If in una sola riga"
   ]
  },
  {
   "cell_type": "code",
   "execution_count": 19,
   "metadata": {},
   "outputs": [
    {
     "name": "stdout",
     "output_type": "stream",
     "text": [
      "10\n"
     ]
    }
   ],
   "source": [
    "raddoppiato=True\n",
    "numero=5\n",
    "\n",
    "numeroFinale=numero*2 if raddoppiato else numero\n",
    "print(numeroFinale)"
   ]
  },
  {
   "cell_type": "markdown",
   "metadata": {},
   "source": [
    "# Argomenti da tastiera"
   ]
  },
  {
   "cell_type": "markdown",
   "metadata": {},
   "source": [
    "In generale siamo abituati al fatto che le funzioni abbiano un numero definito di parametri, tutti obbligatori"
   ]
  },
  {
   "cell_type": "code",
   "execution_count": 20,
   "metadata": {},
   "outputs": [
    {
     "ename": "TypeError",
     "evalue": "funzioneACaso() missing 2 required positional arguments: 'b' and 'c'",
     "output_type": "error",
     "traceback": [
      "\u001b[1;31m---------------------------------------------------------------------------\u001b[0m",
      "\u001b[1;31mTypeError\u001b[0m                                 Traceback (most recent call last)",
      "\u001b[1;32m~\\AppData\\Local\\Temp/ipykernel_13788/967784262.py\u001b[0m in \u001b[0;36m<module>\u001b[1;34m\u001b[0m\n\u001b[0;32m      2\u001b[0m     \u001b[0mprint\u001b[0m\u001b[1;33m(\u001b[0m\u001b[0ma\u001b[0m\u001b[1;33m,\u001b[0m\u001b[0mb\u001b[0m\u001b[1;33m,\u001b[0m\u001b[0mc\u001b[0m\u001b[1;33m)\u001b[0m\u001b[1;33m\u001b[0m\u001b[1;33m\u001b[0m\u001b[0m\n\u001b[0;32m      3\u001b[0m \u001b[1;33m\u001b[0m\u001b[0m\n\u001b[1;32m----> 4\u001b[1;33m \u001b[0mfunzioneACaso\u001b[0m\u001b[1;33m(\u001b[0m\u001b[1;34m\"Ciao\"\u001b[0m\u001b[1;33m)\u001b[0m\u001b[1;33m\u001b[0m\u001b[1;33m\u001b[0m\u001b[0m\n\u001b[0m",
      "\u001b[1;31mTypeError\u001b[0m: funzioneACaso() missing 2 required positional arguments: 'b' and 'c'"
     ]
    }
   ],
   "source": [
    "def funzioneACaso(a,b,c):\n",
    "    print(a,b,c)\n",
    "\n",
    "funzioneACaso(\"Ciao\")"
   ]
  },
  {
   "cell_type": "markdown",
   "metadata": {},
   "source": [
    "Ma se volessi che la funzione vada anche senza darle b e c?"
   ]
  },
  {
   "cell_type": "code",
   "execution_count": 2,
   "metadata": {},
   "outputs": [
    {
     "name": "stdout",
     "output_type": "stream",
     "text": [
      "Ciao mi chiamo Giovanni\n",
      "Ciao  cammelli\n"
     ]
    }
   ],
   "source": [
    "#Posso inventare dei valori che b e c hanno fin da subito\n",
    "def funzioneACaso(a,b=\"\",c=\"\"):\n",
    "    print(a,b,c)\n",
    "\n",
    "funzioneACaso(\"Ciao\",\"mi chiamo\",\"Giovanni\")\n",
    "\n",
    "funzioneACaso(\"Ciao\",c=\"cammelli\")"
   ]
  },
  {
   "cell_type": "markdown",
   "metadata": {},
   "source": [
    "Ora ci possiamo spiegare alcune cose del passato"
   ]
  },
  {
   "cell_type": "code",
   "execution_count": null,
   "metadata": {},
   "outputs": [],
   "source": [
    "print(\"Salve\",end=\"!\")\n",
    "\"\"\"\n",
    "E' come se di solito print fosse fatto così:\n",
    "def print(stringa, end=\"\\n\"):\n",
    "    \n",
    "\"\"\""
   ]
  },
  {
   "cell_type": "markdown",
   "metadata": {},
   "source": [
    "Volendo possiamo fare una nostra versione:"
   ]
  },
  {
   "cell_type": "code",
   "execution_count": 7,
   "metadata": {},
   "outputs": [
    {
     "name": "stdout",
     "output_type": "stream",
     "text": [
      "Ciao!!!!!\n",
      "Salve\n",
      "Buondì???\n"
     ]
    }
   ],
   "source": [
    "def mioPrint(stringa,end=\"\\n\"):\n",
    "    print(stringa+end,end=\"\")\n",
    "\n",
    "mioPrint(\"Ciao\",end=\"!!!!!\\n\")#End può essere messo come anche omesso\n",
    "mioPrint(\"Salve\")\n",
    "mioPrint(\"Buondì\",\"???\\n\")#Non serve per forza scrivere end=...."
   ]
  },
  {
   "cell_type": "markdown",
   "metadata": {},
   "source": [
    "E' molto importante scrivere **prima** gli argomenti posizionali e solo **poi** quelli da tastiera"
   ]
  },
  {
   "cell_type": "markdown",
   "metadata": {},
   "source": [
    "# Esercizio\n",
    "Scrivere una funzione di nome minMax(n1,n2,n3) che riceve come argomenti 3 numeri e ritorna come valore sia il valore minimo che il valore massimo"
   ]
  },
  {
   "cell_type": "code",
   "execution_count": 8,
   "metadata": {},
   "outputs": [
    {
     "name": "stdout",
     "output_type": "stream",
     "text": [
      "(10, 30)\n"
     ]
    }
   ],
   "source": [
    "def minMax(n1,n2,n3):\n",
    "    massimo=n1\n",
    "    minimo=n1\n",
    "    #Capire quale è il massimo\n",
    "    if n2>massimo:\n",
    "        massimo=n2\n",
    "    if n3>massimo:\n",
    "        massimo=n3\n",
    "    #Capire quale è il minimo\n",
    "    if n2<minimo:\n",
    "        minimo=n2\n",
    "    if n3<minimo:\n",
    "        minimo=n3\n",
    "\n",
    "    return minimo,massimo\n",
    "\n",
    "print(minMax(10,30,20))"
   ]
  },
  {
   "cell_type": "markdown",
   "metadata": {},
   "source": [
    "Guardando oltre, ad un modo più \"pythonico\":"
   ]
  },
  {
   "cell_type": "code",
   "execution_count": 9,
   "metadata": {},
   "outputs": [
    {
     "name": "stdout",
     "output_type": "stream",
     "text": [
      "(10, 30)\n"
     ]
    }
   ],
   "source": [
    "def minMax(n1,n2,n3):\n",
    "    return min(n1,n2,n3) , max(n1,n2,n3)\n",
    "\n",
    "print(minMax(10,30,20))"
   ]
  },
  {
   "cell_type": "markdown",
   "metadata": {},
   "source": [
    "## Esercizio con la lista\n",
    "Viene data una lista di numeri, e con il metodo minMaxList bisogna determinare quali numeri sono il massimo e il minimo"
   ]
  },
  {
   "cell_type": "code",
   "execution_count": 12,
   "metadata": {},
   "outputs": [
    {
     "name": "stdout",
     "output_type": "stream",
     "text": [
      "(-5623, 696)\n"
     ]
    }
   ],
   "source": [
    "def minMaxList(lista):\n",
    "    minimo=lista[0]\n",
    "    massimo=lista[0]\n",
    "    for numero in lista:\n",
    "        if numero>massimo:\n",
    "            massimo=numero\n",
    "        if numero<minimo:\n",
    "            minimo=numero\n",
    "    return minimo,massimo\n",
    "\n",
    "print(minMaxList([-5,3,4,6,76,123,696,-5623]))"
   ]
  },
  {
   "cell_type": "markdown",
   "metadata": {},
   "source": [
    "# E' abbondante\n",
    "Costruire una funzione di nome eAbbondante(n) che dato un numero n passato come parametro, ritorna true se il numero è abbondante, altrimenti false.\n",
    "\n",
    "Per la matematica, un numero è abbondante quando è minore della somma dei propri fattori escluso sè stesso."
   ]
  },
  {
   "cell_type": "code",
   "execution_count": 14,
   "metadata": {},
   "outputs": [
    {
     "name": "stdout",
     "output_type": "stream",
     "text": [
      "True\n"
     ]
    }
   ],
   "source": [
    "def eAbbondante(n):\n",
    "    div=1\n",
    "    #cont=0\n",
    "    sommaDiv=0\n",
    "    while div<n:\n",
    "        if n%div==0:\n",
    "            sommaDiv=sommaDiv+div\n",
    "            #cont=cont+1\n",
    "        div=div+1\n",
    "    if n<sommaDiv:\n",
    "        return True\n",
    "    else:\n",
    "        return False\n",
    "\n",
    "print(eAbbondante(12))"
   ]
  },
  {
   "cell_type": "markdown",
   "metadata": {},
   "source": [
    "## Stessa cosa, ma con le liste\n",
    "Per prima cosa voglio una funzione che mi ritorna una lista dei fattori di un numero"
   ]
  },
  {
   "cell_type": "code",
   "execution_count": 20,
   "metadata": {},
   "outputs": [
    {
     "name": "stdout",
     "output_type": "stream",
     "text": [
      "True\n"
     ]
    }
   ],
   "source": [
    "def listaFattori(n):\n",
    "    lista=[]\n",
    "    i=1\n",
    "    while i<n:\n",
    "        if n%i==0:\n",
    "            lista.append(i)\n",
    "        i=i+1\n",
    "    return lista\n",
    "\n",
    "def eAbbondante(n):\n",
    "    listaDeiFattori=listaFattori(n)\n",
    "    somma=sum(listaDeiFattori)#Fa la somma di tutti gli elementi della lista\n",
    "    if n<somma:\n",
    "        return True\n",
    "    else:\n",
    "        return False\n",
    "\n",
    "print(eAbbondante(12))"
   ]
  },
  {
   "cell_type": "markdown",
   "metadata": {},
   "source": [
    "# Lancio dadi\n",
    "Costruire una funzione di nome quanteCoppie(n) che simula n lanci composti ognuno da 2 dadi a 6 facce. Ritorna il valore di quante coppie si sono verificate in questi n lanci e quante volte si è presentata una faccia pari"
   ]
  },
  {
   "cell_type": "code",
   "execution_count": 21,
   "metadata": {},
   "outputs": [
    {
     "name": "stdout",
     "output_type": "stream",
     "text": [
      "3 3\n",
      "4 3\n",
      "2 3\n",
      "5 2\n",
      "4 2\n",
      "6 2\n",
      "6 5\n",
      "(1, 8)\n"
     ]
    }
   ],
   "source": [
    "import random\n",
    "def quanteCoppie(n):\n",
    "    nLanci=1\n",
    "    faccePari=0\n",
    "    facceUguali=0\n",
    "\n",
    "    while nLanci<=n:\n",
    "        dado1=random.randint(1,6)\n",
    "        dado2=random.randint(1,6)\n",
    "        print(dado1,end=\" \")\n",
    "        print(dado2)\n",
    "        #Questo print si può fare anche così: print(dado1,dado2)\n",
    "        #Oppure anche print(str(dado1)+\" \"+str(dado2))\n",
    "        #Versione nobiliare: print(\"{numero1} {numero2}\".format(numero1=dado1,numero2=dado2))\n",
    "\n",
    "        if dado1==dado2:\n",
    "            facceUguali+=1\n",
    "        if dado1%2==0:\n",
    "            faccePari+=1\n",
    "        if dado2%2==0:\n",
    "            faccePari+=1\n",
    "        nLanci+=1\n",
    "    return facceUguali,faccePari\n",
    "\n",
    "print(quanteCoppie(7))"
   ]
  }
 ],
 "metadata": {
  "interpreter": {
   "hash": "e083722571f9f0ec84a5baf48f347dbe11928b35218b5666fd9f4885e1b3b744"
  },
  "kernelspec": {
   "display_name": "Python 3.9.0 64-bit",
   "language": "python",
   "name": "python3"
  },
  "language_info": {
   "codemirror_mode": {
    "name": "ipython",
    "version": 3
   },
   "file_extension": ".py",
   "mimetype": "text/x-python",
   "name": "python",
   "nbconvert_exporter": "python",
   "pygments_lexer": "ipython3",
   "version": "3.9.0"
  },
  "orig_nbformat": 4
 },
 "nbformat": 4,
 "nbformat_minor": 2
}
