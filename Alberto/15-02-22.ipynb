{
 "cells": [
  {
   "cell_type": "markdown",
   "metadata": {},
   "source": [
    "# Ripasso Stringhe"
   ]
  },
  {
   "cell_type": "markdown",
   "metadata": {},
   "source": [
    "Una stringa si tratta come una lista di lettere"
   ]
  },
  {
   "cell_type": "code",
   "execution_count": 2,
   "metadata": {},
   "outputs": [
    {
     "name": "stdout",
     "output_type": "stream",
     "text": [
      "C\n",
      "o\n",
      "o\n"
     ]
    }
   ],
   "source": [
    "stringa=\"Ciao\"\n",
    "\n",
    "print(stringa[0])\n",
    "print(stringa[-1])\n",
    "print(stringa[len(stringa)-1]) #Come quello sopra ma in versione esplicita"
   ]
  },
  {
   "cell_type": "markdown",
   "metadata": {},
   "source": [
    "Non si possono cambiare i valori di una stringa"
   ]
  },
  {
   "cell_type": "code",
   "execution_count": 3,
   "metadata": {},
   "outputs": [
    {
     "ename": "TypeError",
     "evalue": "'str' object does not support item assignment",
     "output_type": "error",
     "traceback": [
      "\u001b[1;31m---------------------------------------------------------------------------\u001b[0m",
      "\u001b[1;31mTypeError\u001b[0m                                 Traceback (most recent call last)",
      "\u001b[1;32m~\\AppData\\Local\\Temp/ipykernel_10128/282726846.py\u001b[0m in \u001b[0;36m<module>\u001b[1;34m\u001b[0m\n\u001b[0;32m      1\u001b[0m \u001b[0mstringa\u001b[0m\u001b[1;33m=\u001b[0m\u001b[1;34m\"Ciao\"\u001b[0m\u001b[1;33m\u001b[0m\u001b[1;33m\u001b[0m\u001b[0m\n\u001b[1;32m----> 2\u001b[1;33m \u001b[0mstringa\u001b[0m\u001b[1;33m[\u001b[0m\u001b[1;36m0\u001b[0m\u001b[1;33m]\u001b[0m\u001b[1;33m=\u001b[0m\u001b[1;34m\"a\"\u001b[0m\u001b[1;33m\u001b[0m\u001b[1;33m\u001b[0m\u001b[0m\n\u001b[0m",
      "\u001b[1;31mTypeError\u001b[0m: 'str' object does not support item assignment"
     ]
    }
   ],
   "source": [
    "stringa=\"Ciao\"\n",
    "stringa[0]=\"a\""
   ]
  },
  {
   "cell_type": "markdown",
   "metadata": {},
   "source": [
    "Con le liste invece si può"
   ]
  },
  {
   "cell_type": "code",
   "execution_count": 5,
   "metadata": {},
   "outputs": [
    {
     "name": "stdout",
     "output_type": "stream",
     "text": [
      "['a', 'i', 'a', 'o']\n"
     ]
    }
   ],
   "source": [
    "lista=[\"c\",\"i\",\"a\",\"o\"]\n",
    "lista[0]=\"a\"\n",
    "print(lista)"
   ]
  },
  {
   "cell_type": "markdown",
   "metadata": {},
   "source": [
    "Sorge una domanda: come cambio una stringa?"
   ]
  },
  {
   "cell_type": "code",
   "execution_count": 7,
   "metadata": {},
   "outputs": [
    {
     "name": "stdout",
     "output_type": "stream",
     "text": [
      "aiao\n"
     ]
    }
   ],
   "source": [
    "stringa1=\"Ciao\"\n",
    "stringa2=\"a\"+stringa1[1:]\n",
    "print(stringa2)"
   ]
  },
  {
   "cell_type": "markdown",
   "metadata": {},
   "source": [
    "Indici relativi"
   ]
  },
  {
   "cell_type": "code",
   "execution_count": 11,
   "metadata": {},
   "outputs": [
    {
     "name": "stdout",
     "output_type": "stream",
     "text": [
      "vagente\n",
      "Sal\n",
      "vag\n"
     ]
    }
   ],
   "source": [
    "stringa3=\"Salvagente\"\n",
    "print(stringa3[3:]) #Tutto quello che viene dall'indice 3 in poi (incluso)\n",
    "print(stringa3[:3]) #Tutto quello che viene prima dell'indice 3 (escluso)\n",
    "\n",
    "print(stringa3[3:6])"
   ]
  },
  {
   "cell_type": "markdown",
   "metadata": {},
   "source": [
    "For speciali con le stringhe\n",
    "\n",
    "Ci sono due modi per stampare tutte le lettere in una parola"
   ]
  },
  {
   "cell_type": "code",
   "execution_count": 13,
   "metadata": {},
   "outputs": [
    {
     "name": "stdout",
     "output_type": "stream",
     "text": [
      "C\n",
      "a\n",
      "m\n",
      "m\n",
      "e\n",
      "l\n",
      "l\n",
      "o\n"
     ]
    }
   ],
   "source": [
    "#Questa è la versione un po' più lunga\n",
    "stringa4=\"Cammello\"\n",
    "for i in range(0,len(stringa4)):\n",
    "    print(stringa4[i])"
   ]
  },
  {
   "cell_type": "code",
   "execution_count": 14,
   "metadata": {},
   "outputs": [
    {
     "name": "stdout",
     "output_type": "stream",
     "text": [
      "C\n",
      "a\n",
      "m\n",
      "m\n",
      "e\n",
      "l\n",
      "l\n",
      "o\n"
     ]
    }
   ],
   "source": [
    "for lettera in stringa4:\n",
    "    print(lettera)"
   ]
  },
  {
   "cell_type": "markdown",
   "metadata": {},
   "source": [
    "## In su stringhe"
   ]
  },
  {
   "cell_type": "code",
   "execution_count": 16,
   "metadata": {},
   "outputs": [],
   "source": [
    "stringa5=\"Ciao\"\n",
    "if \"o\" in stringa5:\n",
    "    print(\"La stringa ha una o\")"
   ]
  },
  {
   "cell_type": "markdown",
   "metadata": {},
   "source": [
    "# Esercizio"
   ]
  },
  {
   "cell_type": "code",
   "execution_count": 28,
   "metadata": {},
   "outputs": [
    {
     "name": "stdout",
     "output_type": "stream",
     "text": [
      "['Ciao', 'a', 'tutti', 'come', 'va?']\n"
     ]
    }
   ],
   "source": [
    "def fraseALista(s):\n",
    "    parola=\"\"\n",
    "    lista=[]\n",
    "    for i in range(0,len(s)):\n",
    "        lettera=s[i]\n",
    "        if lettera!=\" \":\n",
    "            parola=parola+lettera\n",
    "            if i==len(s)-1:\n",
    "                lista.append(parola)\n",
    "        else:\n",
    "            lista.append(parola)\n",
    "            parola=\"\"\n",
    "    return lista\n",
    "\n",
    "print(fraseALista(\"Ciao a tutti come va?\"))#Questo dovrebbe darmi una lista fatta così: [\"Ciao\",\"a\",\"tutti\",\"come\",\"va?\"]\n",
    "\n",
    "risultato=[\"Ciao\",\"a\",\"tutti\",\"come\",\"va?\"]"
   ]
  },
  {
   "cell_type": "markdown",
   "metadata": {},
   "source": [
    "# Altri esercizi già fatti"
   ]
  },
  {
   "cell_type": "markdown",
   "metadata": {},
   "source": [
    "## Esercizio 1"
   ]
  },
  {
   "cell_type": "code",
   "execution_count": 37,
   "metadata": {},
   "outputs": [
    {
     "name": "stdout",
     "output_type": "stream",
     "text": [
      "2\n"
     ]
    }
   ],
   "source": [
    "def quantiDiversi(s1,s2):\n",
    "    cont=0\n",
    "    membros1=s1[0]\n",
    "    membros2=s2[0]\n",
    "    for i in range(len(s1)):\n",
    "        membros1=s1[i]\n",
    "        membros2=s2[i]\n",
    "        if membros1!=membros2:\n",
    "            cont=cont+1\n",
    "    return cont\n",
    "\n",
    "print(quantiDiversi(\"abcd\",\"aqcz\"))"
   ]
  },
  {
   "cell_type": "markdown",
   "metadata": {},
   "source": [
    "Risoluzione del caso limite in cui le due stringhe hanno lunghezza diversa"
   ]
  },
  {
   "cell_type": "code",
   "execution_count": 43,
   "metadata": {},
   "outputs": [
    {
     "name": "stdout",
     "output_type": "stream",
     "text": [
      "2\n"
     ]
    }
   ],
   "source": [
    "def quantiDiversi(s1,s2):\n",
    "    cont=0\n",
    "    membros1=s1[0]\n",
    "    membros2=s2[0]\n",
    "\n",
    "    lunghezzaPiuPiccola=min(len(s1),len(s2))#Si prende la lunghezza della stringa minore\n",
    "\n",
    "    for i in range(lunghezzaPiuPiccola):\n",
    "        membros1=s1[i]\n",
    "        membros2=s2[i]\n",
    "        if membros1!=membros2:\n",
    "            cont=cont+1\n",
    "\n",
    "    cont+=max(len(s1),len(s2))-lunghezzaPiuPiccola#Si fa una sottrazione tra la lunghezza della stringa maggiore e quella minore\n",
    "\n",
    "    return cont\n",
    "\n",
    "print(quantiDiversi(\"abcd\",\"aqcz\"))"
   ]
  }
 ],
 "metadata": {
  "interpreter": {
   "hash": "e083722571f9f0ec84a5baf48f347dbe11928b35218b5666fd9f4885e1b3b744"
  },
  "kernelspec": {
   "display_name": "Python 3.9.0 64-bit",
   "language": "python",
   "name": "python3"
  },
  "language_info": {
   "codemirror_mode": {
    "name": "ipython",
    "version": 3
   },
   "file_extension": ".py",
   "mimetype": "text/x-python",
   "name": "python",
   "nbconvert_exporter": "python",
   "pygments_lexer": "ipython3",
   "version": "3.9.0"
  },
  "orig_nbformat": 4
 },
 "nbformat": 4,
 "nbformat_minor": 2
}
