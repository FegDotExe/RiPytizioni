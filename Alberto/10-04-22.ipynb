{
 "cells": [
  {
   "cell_type": "markdown",
   "metadata": {},
   "source": [
    "# Esercizio\n",
    "Scrivere una funzione piattoOrdinato(seq1,seq2,nome), che prenda come seq1 una sequenza di invitati, come seq2 una sequenza di piatti che corrisponde agli invitati e come nome una stringa di una persona.\n",
    "La funzione deve restituire quale piatto ha ordinato la persona con il nome fornito.\n",
    "\n",
    "Esempio:\n",
    "piattoOrdinato([Marco,Giovanni,Alberto],[Margherita,Diavola,Salsiccia],Alberto)->Salsiccia"
   ]
  },
  {
   "cell_type": "code",
   "execution_count": null,
   "metadata": {},
   "outputs": [],
   "source": [
    "def piattoOrdinato(seq1,seq2,nome):\n",
    "    output=[]\n",
    "    for seq1 in seq2:\n",
    "        if seq1[0]:\n",
    "            print(seq2[0])\n",
    "        if seq1[1]:\n",
    "            print(seq2[1])"
   ]
  },
  {
   "cell_type": "markdown",
   "metadata": {},
   "source": [
    "Esercizio intermedio: fare una `funzione personeOrdini(seq1,seq2)` che scrive il nome di ogni persona e il suo ordine\n",
    "\n",
    "```python\n",
    "personeOrdini([Marco,Giovanni,Alberto],[Margherita,Diavola,Salsiccia])->\n",
    "Marco: Margherita\n",
    "Giovanni: Diavola\n",
    "Alberto: Salsiccia\n",
    "```"
   ]
  },
  {
   "cell_type": "code",
   "execution_count": 9,
   "metadata": {},
   "outputs": [
    {
     "name": "stdout",
     "output_type": "stream",
     "text": [
      "Marco: Margherita\n",
      "Giovanni: Diavola\n",
      "Alberto: Salsiccia\n"
     ]
    }
   ],
   "source": [
    "def personeOrdini(seq1,seq2):\n",
    "    i=0\n",
    "    for scaffale in seq2:\n",
    "        print(seq1[i]+\": \"+seq2[i])\n",
    "        i+=1\n",
    "\n",
    "personeOrdini([\"Marco\",\"Giovanni\",\"Alberto\"],[\"Margherita\",\"Diavola\",\"Salsiccia\"])"
   ]
  },
  {
   "cell_type": "code",
   "execution_count": 10,
   "metadata": {},
   "outputs": [
    {
     "name": "stdout",
     "output_type": "stream",
     "text": [
      "Marco: Margherita\n",
      "Giovanni: Diavola\n",
      "Alberto: Salsiccia\n"
     ]
    }
   ],
   "source": [
    "def personeOrdini(seq1,seq2):\n",
    "    for i in range(len(seq1)):\n",
    "        print(seq1[i]+\": \"+seq2[i])\n",
    "\n",
    "personeOrdini([\"Marco\",\"Giovanni\",\"Alberto\"],[\"Margherita\",\"Diavola\",\"Salsiccia\"])"
   ]
  },
  {
   "cell_type": "markdown",
   "metadata": {},
   "source": [
    "Scrivere una funzione piattoOrdinato(seq1,seq2,nome), che prenda come seq1 una sequenza di invitati, come seq2 una sequenza di piatti che corrisponde agli invitati e come nome una stringa di una persona.\n",
    "La funzione deve restituire quale piatto ha ordinato la persona con il nome fornito.\n",
    "\n",
    "Esempio:\n",
    "`piattoOrdinato([Marco,Giovanni,Alberto],[Margherita,Diavola,Salsiccia],Alberto)->Salsiccia`"
   ]
  },
  {
   "cell_type": "code",
   "execution_count": 15,
   "metadata": {},
   "outputs": [
    {
     "name": "stdout",
     "output_type": "stream",
     "text": [
      "Salsiccia\n"
     ]
    }
   ],
   "source": [
    "def piattoOrdinato(seq1,seq2,nome):\n",
    "    for i in range(len(seq2)):\n",
    "        if seq1[i]==nome:\n",
    "            return seq2[i]\n",
    "\n",
    "print(piattoOrdinato([\"Marco\",\"Giovanni\",\"Alberto\"],[\"Margherita\",\"Diavola\",\"Salsiccia\"],\"Alberto\"))"
   ]
  },
  {
   "cell_type": "code",
   "execution_count": 18,
   "metadata": {},
   "outputs": [
    {
     "name": "stdout",
     "output_type": "stream",
     "text": [
      "Non era invitat@\n"
     ]
    }
   ],
   "source": [
    "def piattoOrdinato(seq1,seq2,nome):\n",
    "    for i in range(len(seq2)):\n",
    "        if seq1[i]==nome:\n",
    "            return seq2[i]\n",
    "    return \"Non era invitat@\"\n",
    "\n",
    "print(piattoOrdinato([\"Marco\",\"Giovanni\",\"Alberto\"],[\"Margherita\",\"Diavola\",\"Salsiccia\"],\"Filippo\"))"
   ]
  },
  {
   "cell_type": "markdown",
   "metadata": {},
   "source": [
    "# Esercizio 2\n",
    "Scrivere una funzione ordineAlfaB(seq) che restituisce la sequenza di stringhe fornita ordinata in ordine alfabetico.\n",
    "\n",
    "Esempio:\n",
    "`ordineAlfaB([\"Stefano\",\"Alberto\",\"Caterina\"])->[\"Alberto\",\"Caterina\",\"Stefano\"]`"
   ]
  },
  {
   "cell_type": "code",
   "execution_count": 30,
   "metadata": {},
   "outputs": [
    {
     "name": "stdout",
     "output_type": "stream",
     "text": [
      "['Alberto', 'Caterina', 'Stefano', 'Tommaso']\n"
     ]
    }
   ],
   "source": [
    "#print(\"Stefano\">\"Zizzania\")\n",
    "def ordineAlfaB(seq):\n",
    "    output=[]\n",
    "    for i in range(len(seq)):\n",
    "        if i==0:\n",
    "            output.append(seq[i])\n",
    "        else:\n",
    "            for j in range(len(output)):\n",
    "                if seq[i]<output[j]:\n",
    "                    output.insert(j,seq[i])\n",
    "                    break\n",
    "    return output\n",
    "\n",
    "print(ordineAlfaB([\"Tommaso\",\"Stefano\",\"Alberto\",\"Caterina\"]))"
   ]
  },
  {
   "cell_type": "markdown",
   "metadata": {},
   "source": [
    "\"Stefano\"\n",
    "\"Alberto\"\n",
    "\"Caterina\"\n",
    "\n",
    "---\n",
    "\n",
    "\"Alberto\"\n",
    "\"Caterina\"\n",
    "\"Stefano\""
   ]
  },
  {
   "cell_type": "code",
   "execution_count": 21,
   "metadata": {},
   "outputs": [
    {
     "name": "stdout",
     "output_type": "stream",
     "text": [
      "[1, 5, 2, 3]\n"
     ]
    }
   ],
   "source": [
    "lista=[1,2,3]\n",
    "#lista[0]=5\n",
    "lista.insert(1,5)\n",
    "print(lista)"
   ]
  },
  {
   "cell_type": "markdown",
   "metadata": {},
   "source": [
    "# Esercizio 3\n",
    "Spiegazione zeriInTesta senza lista di appoggio"
   ]
  },
  {
   "cell_type": "code",
   "execution_count": 31,
   "metadata": {},
   "outputs": [
    {
     "name": "stdout",
     "output_type": "stream",
     "text": [
      "[0, 0, 0, 1, 6, 5, 2]\n"
     ]
    }
   ],
   "source": [
    "def zeriInTesta(seq):\n",
    "    i=0\n",
    "    while i<len(seq):\n",
    "        if seq[i]==0:\n",
    "            j=i\n",
    "            while j>0 and seq[j-1]!=0:\n",
    "                seq[j]=seq[j-1]\n",
    "                j-=1\n",
    "            seq[j]=0\n",
    "        i+=1\n",
    "    return seq\n",
    "\n",
    "print(zeriInTesta([1,6,0,5,0,2,0]))\n",
    "#[1,6,0,5,0,2,0]\n",
    "\n",
    "#[0,1,6,5,0,2,0]\n",
    "\n",
    "#[0,1,6,5,0,2,0]\n",
    "#[0,0,1,6,5,2,0]\n",
    "#[0,0,0,1,6,5,2]"
   ]
  }
 ],
 "metadata": {
  "interpreter": {
   "hash": "e083722571f9f0ec84a5baf48f347dbe11928b35218b5666fd9f4885e1b3b744"
  },
  "kernelspec": {
   "display_name": "Python 3.9.0 64-bit",
   "language": "python",
   "name": "python3"
  },
  "language_info": {
   "codemirror_mode": {
    "name": "ipython",
    "version": 3
   },
   "file_extension": ".py",
   "mimetype": "text/x-python",
   "name": "python",
   "nbconvert_exporter": "python",
   "pygments_lexer": "ipython3",
   "version": "3.9.0"
  },
  "orig_nbformat": 4
 },
 "nbformat": 4,
 "nbformat_minor": 2
}
