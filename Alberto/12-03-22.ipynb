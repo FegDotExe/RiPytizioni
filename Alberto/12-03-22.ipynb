{
 "cells": [
  {
   "cell_type": "markdown",
   "metadata": {},
   "source": [
    "# Esercizio\n",
    "Costruisci una funzione di nome ordina(s) che data una stringa s ritorna una nuova stringa in cui i caratteri della stringa originaria sono disposti in ordine crescente.\n",
    "\n",
    "Per la soluzione utilizzare la funzione scambia precedentemente realizzata."
   ]
  },
  {
   "cell_type": "code",
   "execution_count": 11,
   "metadata": {},
   "outputs": [],
   "source": [
    "def scambia(s,i,j):\n",
    "    if i==j:\n",
    "        return s\n",
    "    lettera1=s[i]\n",
    "    lettera2=s[j]\n",
    "    output=\"\"\n",
    "    output=s[:i]\n",
    "    output+=lettera2\n",
    "    output+=s[i+1:j]\n",
    "    output+=lettera1\n",
    "    output+=s[j+1:]\n",
    "    return output"
   ]
  },
  {
   "cell_type": "code",
   "execution_count": 5,
   "metadata": {},
   "outputs": [
    {
     "name": "stdout",
     "output_type": "stream",
     "text": [
      "bccab\n"
     ]
    }
   ],
   "source": [
    "#bcacb\n",
    "#acbcb\n",
    "#abccb\n",
    "#abbcc\n",
    "def ordina(s):\n",
    "    for i in range(0,len(s)):\n",
    "        massimo=s[i]\n",
    "        for j in range(i+1,len(s)):\n",
    "            if massimo<=s[j]:\n",
    "                massimo=s[j]\n",
    "                output=scambia(s,i,j)\n",
    "    return output\n",
    "\n",
    "print(ordina(\"bcacb\"))"
   ]
  },
  {
   "cell_type": "code",
   "execution_count": 12,
   "metadata": {},
   "outputs": [
    {
     "name": "stdout",
     "output_type": "stream",
     "text": [
      "abbcc\n"
     ]
    }
   ],
   "source": [
    "def ordina(s):\n",
    "    for i in range(0,len(s)):\n",
    "        indiceMinimo=i\n",
    "        for j in range(i+1,len(s)):\n",
    "            if s[i]>s[j]:\n",
    "                indiceMinimo=j\n",
    "        s=scambia(s,i,indiceMinimo)\n",
    "    return s\n",
    "\n",
    "print(ordina(\"bcacb\"))"
   ]
  },
  {
   "cell_type": "markdown",
   "metadata": {},
   "source": [
    "Versione alternativa senza usare scambia (e anche con delle performance migliori)"
   ]
  },
  {
   "cell_type": "code",
   "execution_count": 14,
   "metadata": {},
   "outputs": [
    {
     "name": "stdout",
     "output_type": "stream",
     "text": [
      "aaanrzz\n"
     ]
    }
   ],
   "source": [
    "def ordina(s):\n",
    "    s1=\"\"\n",
    "    for i in range(len(s)):\n",
    "        for j in range(len(s1)+1):\n",
    "            if j==len(s1): #Equivale a dire \"se sto considerando l'ultima lettera\"\n",
    "                s1+=s[i]\n",
    "                break\n",
    "            if s[i]<=s1[j]:\n",
    "                s1=s1[:j]+s[i]+s1[j:]\n",
    "                break\n",
    "    return s1\n",
    "\n",
    "print(ordina(\"zanzara\"))\n",
    "\n",
    "#zanzara\n",
    "#aaanrzz"
   ]
  },
  {
   "cell_type": "code",
   "execution_count": 24,
   "metadata": {},
   "outputs": [
    {
     "name": "stdout",
     "output_type": "stream",
     "text": [
      "Sal@ame\n"
     ]
    }
   ],
   "source": [
    "s1=\"Salame\"\n",
    "j=3\n",
    "carattere=\"@\"\n",
    "\n",
    "s1 = s1[:j] + carattere + s1[j:]\n",
    "\n",
    "print(s1)"
   ]
  },
  {
   "cell_type": "code",
   "execution_count": 28,
   "metadata": {},
   "outputs": [
    {
     "name": "stdout",
     "output_type": "stream",
     "text": [
      "a\n",
      "j\n",
      "f\n",
      "abcde\n",
      "fghij\n",
      "abij\n",
      "abcdefghi\n",
      "abij\n"
     ]
    }
   ],
   "source": [
    "stringaProva=\"abcdefghij\"\n",
    "\n",
    "print(stringaProva[0])\n",
    "print(stringaProva[9])\n",
    "print(stringaProva[5])\n",
    "\n",
    "print(stringaProva[:5]) #Scrive tutte le cose PRIMA dell'indice dato, escludendo però quell'indice\n",
    "print(stringaProva[5:]) #Scrive tutte le cose DOPO l'indice dato, includendo anche quell'indice\n",
    "\n",
    "print(stringaProva[:2]+stringaProva[8:])\n",
    "\n",
    "print(stringaProva[:-1]) #Scrive tutte le cose prima dell'ultima\n",
    "\n",
    "print(stringaProva[:2]+stringaProva[-2:]) #Scrive le prime due lettere e le ultime due"
   ]
  },
  {
   "cell_type": "markdown",
   "metadata": {},
   "source": [
    "# Esercizio\n",
    "Abbiamo una funzione scambiaParti(s,i) che prende la stringa s, e la restituisce mettendo prima tutte le lettere che vengono dopo l'indice i, e poi tutte le lettere che vengono prima dell'indice i\n",
    "\n",
    "Esempio: scambiaParti(\"ciao\",2)->\"aoci\""
   ]
  },
  {
   "cell_type": "code",
   "execution_count": 29,
   "metadata": {},
   "outputs": [
    {
     "name": "stdout",
     "output_type": "stream",
     "text": [
      "mariCala\n"
     ]
    }
   ],
   "source": [
    "def scambiaParti(s,i):\n",
    "    s1=\"\"\n",
    "    j=i\n",
    "    while j<len(s):\n",
    "        s1+=s[j]\n",
    "        j+=1\n",
    "    j=0\n",
    "    while j<i:\n",
    "        s1+=s[j]\n",
    "        j+=1\n",
    "    return s1\n",
    "\n",
    "print(scambiaParti(\"Calamari\",4))"
   ]
  },
  {
   "cell_type": "code",
   "execution_count": 43,
   "metadata": {},
   "outputs": [
    {
     "name": "stdout",
     "output_type": "stream",
     "text": [
      "mariCala\n",
      "una frase lunghissimaCiao sono \n"
     ]
    }
   ],
   "source": [
    "def scambiaParti(s,i):\n",
    "    return s[i:]+s[:i]\n",
    "\n",
    "print(scambiaParti(\"Calamari\",4))\n",
    "print(scambiaParti(\"Ciao sono una frase lunghissima\",10))"
   ]
  },
  {
   "cell_type": "code",
   "execution_count": 37,
   "metadata": {},
   "outputs": [
    {
     "name": "stdout",
     "output_type": "stream",
     "text": [
      "ari\n",
      "Cal\n",
      "amari\n"
     ]
    }
   ],
   "source": [
    "print(\"Calamari\"[-3:])\n",
    "print(\"Calamari\"[:3])\n",
    "print(\"Calamari\"[3:])"
   ]
  },
  {
   "cell_type": "markdown",
   "metadata": {},
   "source": [
    "# Slice"
   ]
  },
  {
   "cell_type": "code",
   "execution_count": 47,
   "metadata": {},
   "outputs": [
    {
     "name": "stdout",
     "output_type": "stream",
     "text": [
      "iaoo\n",
      "alam\n"
     ]
    }
   ],
   "source": [
    "stringa=\"ciaoooooooooooooooooo\"\n",
    "x=slice(1,5)\n",
    "print(stringa[x])\n",
    "print(\"Calamari\"[x]) #Questo è come scrivere print(\"Calamari\"[1:5])"
   ]
  },
  {
   "cell_type": "markdown",
   "metadata": {},
   "source": [
    "Con lo step (pazzia)"
   ]
  },
  {
   "cell_type": "code",
   "execution_count": 49,
   "metadata": {},
   "outputs": [
    {
     "name": "stdout",
     "output_type": "stream",
     "text": [
      "am\n"
     ]
    }
   ],
   "source": [
    "stringa=\"Calamari\"\n",
    "x=slice(1,6,3)\n",
    "print(stringa[x])"
   ]
  },
  {
   "cell_type": "code",
   "execution_count": 52,
   "metadata": {},
   "outputs": [
    {
     "name": "stdout",
     "output_type": "stream",
     "text": [
      "ciao\n",
      "cane\n"
     ]
    }
   ],
   "source": [
    "stringa=\"cciaanoe\" #Immaginiamo di voler tirare fuori tutte le a\n",
    "\n",
    "sliceA=slice(0,len(stringa),2)\n",
    "sliceB=slice(1,len(stringa),2)\n",
    "\n",
    "print(stringa[sliceA])\n",
    "print(stringa[sliceB])"
   ]
  }
 ],
 "metadata": {
  "interpreter": {
   "hash": "e083722571f9f0ec84a5baf48f347dbe11928b35218b5666fd9f4885e1b3b744"
  },
  "kernelspec": {
   "display_name": "Python 3.9.0 64-bit",
   "language": "python",
   "name": "python3"
  },
  "language_info": {
   "codemirror_mode": {
    "name": "ipython",
    "version": 3
   },
   "file_extension": ".py",
   "mimetype": "text/x-python",
   "name": "python",
   "nbconvert_exporter": "python",
   "pygments_lexer": "ipython3",
   "version": "3.9.0"
  },
  "orig_nbformat": 4
 },
 "nbformat": 4,
 "nbformat_minor": 2
}
