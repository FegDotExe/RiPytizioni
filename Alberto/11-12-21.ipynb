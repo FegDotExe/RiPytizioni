{
 "cells": [
  {
   "cell_type": "markdown",
   "metadata": {},
   "source": [
    "# Liste"
   ]
  },
  {
   "cell_type": "code",
   "execution_count": 3,
   "metadata": {},
   "outputs": [
    {
     "name": "stdout",
     "output_type": "stream",
     "text": [
      "['prosciutto', 'pollo', 'pesca', 'frutta', 'verdura']\n"
     ]
    }
   ],
   "source": [
    "listaSpesa=[\"prosciutto\",\"pollo\",\"pesca\",\"frutta\",\"verdura\"]\n",
    "\n",
    "print(listaSpesa)"
   ]
  },
  {
   "cell_type": "markdown",
   "metadata": {},
   "source": [
    "Si può fare riferimento a ogni singolo elemento"
   ]
  },
  {
   "cell_type": "code",
   "execution_count": 6,
   "metadata": {},
   "outputs": [
    {
     "name": "stdout",
     "output_type": "stream",
     "text": [
      "pesca\n"
     ]
    }
   ],
   "source": [
    "print(listaSpesa[2])"
   ]
  },
  {
   "cell_type": "markdown",
   "metadata": {},
   "source": [
    "Si può anche usare una variabile al posto del numero"
   ]
  },
  {
   "cell_type": "code",
   "execution_count": 8,
   "metadata": {},
   "outputs": [
    {
     "name": "stdout",
     "output_type": "stream",
     "text": [
      "verdura\n"
     ]
    }
   ],
   "source": [
    "numero=int(input(\"Inserisci un numero: \"))\n",
    "\n",
    "print(listaSpesa[numero])"
   ]
  },
  {
   "cell_type": "markdown",
   "metadata": {},
   "source": [
    "## Come interagire con una lista"
   ]
  },
  {
   "cell_type": "code",
   "execution_count": 18,
   "metadata": {},
   "outputs": [],
   "source": [
    "listaEsempio=[]"
   ]
  },
  {
   "cell_type": "markdown",
   "metadata": {},
   "source": [
    "### Aggiungere elementi"
   ]
  },
  {
   "cell_type": "markdown",
   "metadata": {},
   "source": [
    "#### Aggiungere alla fine"
   ]
  },
  {
   "cell_type": "code",
   "execution_count": 22,
   "metadata": {},
   "outputs": [
    {
     "name": "stdout",
     "output_type": "stream",
     "text": [
      "['Salame', 'Pollo']\n"
     ]
    }
   ],
   "source": [
    "listaEsempio=[]\n",
    "\n",
    "listaEsempio.append(\"Salame\")#Aggiunge l'elemento tra parentesi alla fine della lista\n",
    "listaEsempio.append(\"Pollo\")\n",
    "\n",
    "print(listaEsempio)"
   ]
  },
  {
   "cell_type": "markdown",
   "metadata": {},
   "source": [
    "#### Aggiungere in mezzo"
   ]
  },
  {
   "cell_type": "code",
   "execution_count": 25,
   "metadata": {},
   "outputs": [
    {
     "name": "stdout",
     "output_type": "stream",
     "text": [
      "['Salame', 'Pollo', 'Cose', 'Cose', 'Mele', 'Cose']\n"
     ]
    }
   ],
   "source": [
    "listaEsempio=[\"Salame\",\"Pollo\",\"Cose\",\"Cose\",\"Cose\"]\n",
    "\n",
    "listaEsempio.insert(4,\"Mele\")#Inserisce l'elemento tra parentesi all'interno della lista\n",
    "\n",
    "print(listaEsempio)"
   ]
  },
  {
   "cell_type": "markdown",
   "metadata": {},
   "source": [
    "### Ottenere gli elementi"
   ]
  },
  {
   "cell_type": "markdown",
   "metadata": {},
   "source": [
    "#### Ottenere la lunghezza della lista"
   ]
  },
  {
   "cell_type": "code",
   "execution_count": 43,
   "metadata": {},
   "outputs": [
    {
     "name": "stdout",
     "output_type": "stream",
     "text": [
      "3\n"
     ]
    }
   ],
   "source": [
    "listaEsempio=[\"Salame\",\"Pollo\",\"Mele\"]\n",
    "\n",
    "print(len(listaEsempio))#Stampa la lunghezza della lista"
   ]
  },
  {
   "cell_type": "markdown",
   "metadata": {},
   "source": [
    "#### Ottenere con l'indice\n",
    "\n",
    "Fornisci la posizione del valore che vuoi ottenere, e ti restituisce il valore."
   ]
  },
  {
   "cell_type": "code",
   "execution_count": 27,
   "metadata": {},
   "outputs": [
    {
     "name": "stdout",
     "output_type": "stream",
     "text": [
      "Salame\n"
     ]
    },
    {
     "ename": "IndexError",
     "evalue": "list index out of range",
     "output_type": "error",
     "traceback": [
      "\u001b[1;31m---------------------------------------------------------------------------\u001b[0m",
      "\u001b[1;31mIndexError\u001b[0m                                Traceback (most recent call last)",
      "\u001b[1;32m~\\AppData\\Local\\Temp/ipykernel_13676/2214075455.py\u001b[0m in \u001b[0;36m<module>\u001b[1;34m\u001b[0m\n\u001b[0;32m      4\u001b[0m \u001b[1;33m\u001b[0m\u001b[0m\n\u001b[0;32m      5\u001b[0m \u001b[1;31m#Il rischio viene quando metti un numero che non sta nella lista\u001b[0m\u001b[1;33m\u001b[0m\u001b[1;33m\u001b[0m\u001b[1;33m\u001b[0m\u001b[0m\n\u001b[1;32m----> 6\u001b[1;33m \u001b[0mprint\u001b[0m\u001b[1;33m(\u001b[0m\u001b[0mlistaEsempio\u001b[0m\u001b[1;33m[\u001b[0m\u001b[1;36m3\u001b[0m\u001b[1;33m]\u001b[0m\u001b[1;33m)\u001b[0m\u001b[1;33m\u001b[0m\u001b[1;33m\u001b[0m\u001b[0m\n\u001b[0m",
      "\u001b[1;31mIndexError\u001b[0m: list index out of range"
     ]
    }
   ],
   "source": [
    "listaEsempio=[\"Salame\",\"Pollo\",\"Mele\"]\n",
    "\n",
    "print(listaEsempio[0])\n",
    "\n",
    "#Il rischio viene quando metti un numero che non sta nella lista\n",
    "print(listaEsempio[3])#Questo restituisce un errore"
   ]
  },
  {
   "cell_type": "markdown",
   "metadata": {},
   "source": [
    "#### Ottenere con valore\n",
    "Tu fornisci il valore di cui vuoi sapere la posizione e il programma ti restituisce la posizione"
   ]
  },
  {
   "cell_type": "code",
   "execution_count": 28,
   "metadata": {},
   "outputs": [
    {
     "name": "stdout",
     "output_type": "stream",
     "text": [
      "1\n"
     ]
    }
   ],
   "source": [
    "listaEsempio=[\"Salame\",\"Pollo\",\"Mele\"]\n",
    "\n",
    "print(listaEsempio.index(\"Pollo\"))#Restituisce l'indice dell'elemento"
   ]
  },
  {
   "cell_type": "markdown",
   "metadata": {},
   "source": [
    "### Modificare gli elementi"
   ]
  },
  {
   "cell_type": "markdown",
   "metadata": {},
   "source": [
    "#### Cambiare un valore"
   ]
  },
  {
   "cell_type": "code",
   "execution_count": 29,
   "metadata": {},
   "outputs": [
    {
     "name": "stdout",
     "output_type": "stream",
     "text": [
      "['Salame', 'Pollo', 'Pere']\n"
     ]
    }
   ],
   "source": [
    "listaEsempio=[\"Salame\",\"Pollo\",\"Mele\"]\n",
    "#Voglio cambiare il valore di Mele\n",
    "\n",
    "listaEsempio[2]=\"Pere\"\n",
    "\n",
    "print(listaEsempio)"
   ]
  },
  {
   "cell_type": "markdown",
   "metadata": {},
   "source": [
    "#### Rimuovere un valore"
   ]
  },
  {
   "cell_type": "markdown",
   "metadata": {},
   "source": [
    "Si può rimuovere in base all'indice"
   ]
  },
  {
   "cell_type": "code",
   "execution_count": 30,
   "metadata": {},
   "outputs": [
    {
     "name": "stdout",
     "output_type": "stream",
     "text": [
      "['Salame', 'Pollo']\n"
     ]
    }
   ],
   "source": [
    "listaEsempio=[\"Salame\",\"Pollo\",\"Mele\"]\n",
    "\n",
    "#Voglio togliere il valore di Mele\n",
    "del(listaEsempio[2])\n",
    "\n",
    "print(listaEsempio)"
   ]
  },
  {
   "cell_type": "markdown",
   "metadata": {},
   "source": [
    "Si può anche rimuovere in base al valore"
   ]
  },
  {
   "cell_type": "code",
   "execution_count": 31,
   "metadata": {},
   "outputs": [
    {
     "name": "stdout",
     "output_type": "stream",
     "text": [
      "['Salame', 'Pollo', 'Cose', 'Cose']\n"
     ]
    }
   ],
   "source": [
    "listaEsempio=[\"Salame\",\"Pollo\",\"Cose\",\"Cose\",\"Mele\"]\n",
    "\n",
    "listaEsempio.remove(\"Mele\")\n",
    "\n",
    "print(listaEsempio)"
   ]
  },
  {
   "cell_type": "markdown",
   "metadata": {},
   "source": [
    "## Esempi"
   ]
  },
  {
   "cell_type": "code",
   "execution_count": 38,
   "metadata": {},
   "outputs": [
    {
     "name": "stdout",
     "output_type": "stream",
     "text": [
      "Giorgio ha ordinato Verdura\n",
      "['Marco', 'Luca', 'Giovanni', 'Gianni']\n",
      "['Pollo', 'Pesce', 'Mele', 'Frutta']\n"
     ]
    }
   ],
   "source": [
    "listaInvitati=[\"Marco\",\"Luca\",\"Giovanni\",\"Giorgio\",\"Gianni\"]\n",
    "listaOrdini=[\"Pollo\",\"Pesce\",\"Mele\",\"Verdura\",\"Frutta\"]\n",
    "\n",
    "#Una funzione che mi deve dire cosa ha ordinato la persona ad un certo indice\n",
    "def ordine(indice):\n",
    "    print(listaInvitati[indice]+\" ha ordinato \"+listaOrdini[indice])\n",
    "\n",
    "def ordinePerNome(nome):\n",
    "    numeroNellaLista=listaInvitati.index(nome)\n",
    "    print(nome+\" ha ordinato \"+listaOrdini[numeroNellaLista])\n",
    "\n",
    "def rimuoviPersona(nome):\n",
    "    numeroNellaLista=listaInvitati.index(nome)\n",
    "    del(listaInvitati[numeroNellaLista])\n",
    "    del(listaOrdini[numeroNellaLista])\n",
    "\n",
    "#ordine(2)\n",
    "\n",
    "ordinePerNome(\"Giorgio\")\n",
    "rimuoviPersona(\"Giorgio\")\n",
    "\n",
    "print(listaInvitati)\n",
    "print(listaOrdini)"
   ]
  },
  {
   "cell_type": "markdown",
   "metadata": {},
   "source": [
    "## Cose pazze con le liste"
   ]
  },
  {
   "cell_type": "markdown",
   "metadata": {},
   "source": [
    "### Liste con i for"
   ]
  },
  {
   "cell_type": "code",
   "execution_count": 39,
   "metadata": {},
   "outputs": [
    {
     "name": "stdout",
     "output_type": "stream",
     "text": [
      "Marco\n",
      "Luca\n",
      "Giovanni\n",
      "Giorgio\n",
      "Gianni\n"
     ]
    }
   ],
   "source": [
    "listaDelFor=[\"Marco\",\"Luca\",\"Giovanni\",\"Giorgio\",\"Gianni\"]\n",
    "\n",
    "#Voglio stampare i nomi di tutti gli invitati\n",
    "i=0\n",
    "while i<len(listaDelFor):\n",
    "    print(listaDelFor[i])\n",
    "    i=i+1"
   ]
  },
  {
   "cell_type": "code",
   "execution_count": 42,
   "metadata": {},
   "outputs": [
    {
     "name": "stdout",
     "output_type": "stream",
     "text": [
      "Marco\n",
      "Luca\n",
      "Giovanni\n",
      "Giorgio\n",
      "Gianni\n"
     ]
    }
   ],
   "source": [
    "listaDelFor=[\"Marco\",\"Luca\",\"Giovanni\",\"Giorgio\",\"Gianni\"]\n",
    "\n",
    "for salame in listaDelFor:\n",
    "    print(salame)"
   ]
  },
  {
   "cell_type": "markdown",
   "metadata": {},
   "source": [
    "### Stringhe usate come liste"
   ]
  },
  {
   "cell_type": "code",
   "execution_count": 48,
   "metadata": {},
   "outputs": [
    {
     "name": "stdout",
     "output_type": "stream",
     "text": [
      "r\n",
      "5\n"
     ]
    }
   ],
   "source": [
    "nome=\"Marco\"\n",
    "\n",
    "#E' come scrivere:\n",
    "#nome=[\"M\",\"a\",\"r\",\"c\",\"o\"]\n",
    "\n",
    "print(nome[2])\n",
    "\n",
    "print(len(nome))"
   ]
  },
  {
   "cell_type": "code",
   "execution_count": 50,
   "metadata": {},
   "outputs": [
    {
     "name": "stdout",
     "output_type": "stream",
     "text": [
      "96\n"
     ]
    }
   ],
   "source": [
    "stringaLunga=\"Ciao a tutti                                                                          asdadadsad\"\n",
    "\n",
    "print(len(stringaLunga))"
   ]
  },
  {
   "cell_type": "markdown",
   "metadata": {},
   "source": [
    "For si può usare anche con le stringhe"
   ]
  },
  {
   "cell_type": "code",
   "execution_count": 2,
   "metadata": {},
   "outputs": [
    {
     "name": "stdout",
     "output_type": "stream",
     "text": [
      "M\n",
      "a\n",
      "r\n",
      "c\n",
      "o\n"
     ]
    }
   ],
   "source": [
    "nome=\"Marco\"\n",
    "\n",
    "for elemento in nome:\n",
    "    print(elemento)"
   ]
  },
  {
   "cell_type": "markdown",
   "metadata": {},
   "source": [
    "Si può anche raddoppiare la cosa"
   ]
  },
  {
   "cell_type": "code",
   "execution_count": 5,
   "metadata": {},
   "outputs": [
    {
     "name": "stdout",
     "output_type": "stream",
     "text": [
      "----\n",
      "M\n",
      "a\n",
      "r\n",
      "c\n",
      "o\n",
      "----\n",
      "L\n",
      "u\n",
      "c\n",
      "a\n",
      "----\n",
      "G\n",
      "i\n",
      "o\n",
      "v\n",
      "a\n",
      "n\n",
      "n\n",
      "i\n",
      "----\n",
      "G\n",
      "i\n",
      "o\n",
      "r\n",
      "g\n",
      "i\n",
      "o\n",
      "----\n",
      "G\n",
      "i\n",
      "a\n",
      "n\n",
      "n\n",
      "i\n"
     ]
    }
   ],
   "source": [
    "listaNomi=[\"Marco\",\"Luca\",\"Giovanni\",\"Giorgio\",\"Gianni\"]\n",
    "\n",
    "for nome in listaNomi:\n",
    "    print(\"----\")\n",
    "    for lettera in nome:\n",
    "        print(lettera)"
   ]
  },
  {
   "cell_type": "markdown",
   "metadata": {},
   "source": [
    "### Solo tanto per: liste di liste"
   ]
  },
  {
   "cell_type": "code",
   "execution_count": 1,
   "metadata": {},
   "outputs": [
    {
     "name": "stdout",
     "output_type": "stream",
     "text": [
      "Paolo\n",
      "Pollo\n"
     ]
    }
   ],
   "source": [
    "listaPazza=[[\"Marco\",\"Paolo\"],[\"Pollo\"]]\n",
    "\n",
    "print(listaPazza[0][1])\n",
    "print(listaPazza[1][0])"
   ]
  },
  {
   "cell_type": "markdown",
   "metadata": {},
   "source": [
    "## Qualche trick con le liste"
   ]
  },
  {
   "cell_type": "code",
   "execution_count": 8,
   "metadata": {},
   "outputs": [
    {
     "name": "stdout",
     "output_type": "stream",
     "text": [
      "6.571428571428571\n"
     ]
    }
   ],
   "source": [
    "def media():\n",
    "    listaNumeri=[]\n",
    "    while True:\n",
    "        numeroUtente=input(\"Inserisci un numero: \")\n",
    "        if numeroUtente==\"\":\n",
    "            break\n",
    "        listaNumeri.append(int(numeroUtente))\n",
    "\n",
    "    somma=sum(listaNumeri)\n",
    "    media=somma/len(listaNumeri)\n",
    "    return media\n",
    "\n",
    "print(media())"
   ]
  }
 ],
 "metadata": {
  "interpreter": {
   "hash": "e083722571f9f0ec84a5baf48f347dbe11928b35218b5666fd9f4885e1b3b744"
  },
  "kernelspec": {
   "display_name": "Python 3.9.0 64-bit",
   "language": "python",
   "name": "python3"
  },
  "language_info": {
   "codemirror_mode": {
    "name": "ipython",
    "version": 3
   },
   "file_extension": ".py",
   "mimetype": "text/x-python",
   "name": "python",
   "nbconvert_exporter": "python",
   "pygments_lexer": "ipython3",
   "version": "3.9.0"
  },
  "orig_nbformat": 4
 },
 "nbformat": 4,
 "nbformat_minor": 2
}
