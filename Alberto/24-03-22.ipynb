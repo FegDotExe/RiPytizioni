{
 "cells": [
  {
   "cell_type": "markdown",
   "metadata": {},
   "source": [
    "# Esercizio\n",
    "\n",
    "Scrivere una funzione di nome `datiComuni(seq1, seq2)` che riceve come parametri\n",
    "due liste e ritorna `True` se hanno almeno un elemento in comune.\n",
    "In caso contrario ritorna `False`."
   ]
  },
  {
   "cell_type": "code",
   "execution_count": 2,
   "metadata": {},
   "outputs": [
    {
     "ename": "TypeError",
     "evalue": "'list' object cannot be interpreted as an integer",
     "output_type": "error",
     "traceback": [
      "\u001b[1;31m---------------------------------------------------------------------------\u001b[0m",
      "\u001b[1;31mTypeError\u001b[0m                                 Traceback (most recent call last)",
      "\u001b[1;32m~\\AppData\\Local\\Temp/ipykernel_11440/4235249108.py\u001b[0m in \u001b[0;36m<module>\u001b[1;34m\u001b[0m\n\u001b[0;32m      6\u001b[0m \u001b[0mlista2\u001b[0m\u001b[1;33m=\u001b[0m\u001b[1;33m[\u001b[0m\u001b[1;34m\"Kiwi\"\u001b[0m\u001b[1;33m,\u001b[0m\u001b[1;34m\"Arance\"\u001b[0m\u001b[1;33m,\u001b[0m\u001b[1;34m\"Banane\"\u001b[0m\u001b[1;33m]\u001b[0m\u001b[1;33m\u001b[0m\u001b[1;33m\u001b[0m\u001b[0m\n\u001b[0;32m      7\u001b[0m \u001b[1;33m\u001b[0m\u001b[0m\n\u001b[1;32m----> 8\u001b[1;33m \u001b[0mprint\u001b[0m\u001b[1;33m(\u001b[0m\u001b[0mdatiComuni\u001b[0m\u001b[1;33m(\u001b[0m\u001b[0mlista1\u001b[0m\u001b[1;33m,\u001b[0m\u001b[0mlista2\u001b[0m\u001b[1;33m)\u001b[0m\u001b[1;33m)\u001b[0m\u001b[1;33m\u001b[0m\u001b[1;33m\u001b[0m\u001b[0m\n\u001b[0m",
      "\u001b[1;32m~\\AppData\\Local\\Temp/ipykernel_11440/4235249108.py\u001b[0m in \u001b[0;36mdatiComuni\u001b[1;34m(seq1, seq2)\u001b[0m\n\u001b[0;32m      1\u001b[0m \u001b[1;32mdef\u001b[0m \u001b[0mdatiComuni\u001b[0m\u001b[1;33m(\u001b[0m\u001b[0mseq1\u001b[0m\u001b[1;33m,\u001b[0m \u001b[0mseq2\u001b[0m\u001b[1;33m)\u001b[0m\u001b[1;33m:\u001b[0m\u001b[1;33m\u001b[0m\u001b[1;33m\u001b[0m\u001b[0m\n\u001b[1;32m----> 2\u001b[1;33m     \u001b[1;32mfor\u001b[0m \u001b[0mi\u001b[0m \u001b[1;32min\u001b[0m \u001b[0mrange\u001b[0m\u001b[1;33m(\u001b[0m\u001b[0mseq1\u001b[0m\u001b[1;33m)\u001b[0m\u001b[1;33m:\u001b[0m\u001b[1;33m\u001b[0m\u001b[1;33m\u001b[0m\u001b[0m\n\u001b[0m\u001b[0;32m      3\u001b[0m         \u001b[0mprint\u001b[0m\u001b[1;33m(\u001b[0m\u001b[0mi\u001b[0m\u001b[1;33m)\u001b[0m\u001b[1;33m\u001b[0m\u001b[1;33m\u001b[0m\u001b[0m\n\u001b[0;32m      4\u001b[0m \u001b[1;33m\u001b[0m\u001b[0m\n\u001b[0;32m      5\u001b[0m \u001b[0mlista1\u001b[0m\u001b[1;33m=\u001b[0m\u001b[1;33m[\u001b[0m\u001b[1;34m\"Mele\"\u001b[0m\u001b[1;33m,\u001b[0m\u001b[1;34m\"Pere\"\u001b[0m\u001b[1;33m,\u001b[0m\u001b[1;34m\"Banane\"\u001b[0m\u001b[1;33m]\u001b[0m\u001b[1;33m\u001b[0m\u001b[1;33m\u001b[0m\u001b[0m\n",
      "\u001b[1;31mTypeError\u001b[0m: 'list' object cannot be interpreted as an integer"
     ]
    }
   ],
   "source": [
    "def datiComuni(seq1, seq2):\n",
    "    for i in range(seq1):\n",
    "        print(i)\n",
    "\n",
    "lista1=[\"Mele\",\"Pere\",\"Banane\"]\n",
    "lista2=[\"Kiwi\",\"Arance\",\"Banane\"]\n",
    "\n",
    "print(datiComuni(lista1,lista2))"
   ]
  },
  {
   "cell_type": "code",
   "execution_count": 15,
   "metadata": {},
   "outputs": [
    {
     "name": "stdout",
     "output_type": "stream",
     "text": [
      "True\n"
     ]
    }
   ],
   "source": [
    "def datiComuni(seq1, seq2):\n",
    "    for i in range(len(seq1)):\n",
    "        for j in range(len(seq2)):\n",
    "            #print(f\"{seq1[i]} - {seq2[j]}\")\n",
    "            if seq1[i]==seq2[j]:\n",
    "                return True\n",
    "    return False\n",
    "\n",
    "lista1=[\"Mele\",\"Pere\",\"Banane\"]\n",
    "lista2=[\"Kiwi\",\"Arance\",\"Banane\"]\n",
    "\n",
    "print(datiComuni(lista1,lista2))"
   ]
  },
  {
   "cell_type": "markdown",
   "metadata": {},
   "source": [
    "Altro utilizzo di for:"
   ]
  },
  {
   "cell_type": "code",
   "execution_count": 16,
   "metadata": {},
   "outputs": [
    {
     "name": "stdout",
     "output_type": "stream",
     "text": [
      "True\n"
     ]
    }
   ],
   "source": [
    "def datiComuni(seq1, seq2):\n",
    "    for elem1 in seq1:\n",
    "        for elem2 in seq2:\n",
    "            if elem1==elem2:\n",
    "                return True\n",
    "    return False\n",
    "\n",
    "lista1=[\"Mele\",\"Pere\",\"Banane\"]\n",
    "lista2=[\"Kiwi\",\"Arance\",\"Banane\"]\n",
    "\n",
    "print(datiComuni(lista1,lista2))"
   ]
  },
  {
   "cell_type": "markdown",
   "metadata": {},
   "source": [
    "# Esercizio 2\n",
    "Scrivere una funzione di nome `listaComuni(seq1, seq2)` che riceve come parametri\n",
    "due liste e ritorna la lista degli elementi comuni."
   ]
  },
  {
   "cell_type": "code",
   "execution_count": 21,
   "metadata": {},
   "outputs": [
    {
     "name": "stdout",
     "output_type": "stream",
     "text": [
      "['Meloni', 'Banane']\n"
     ]
    }
   ],
   "source": [
    "def listaComuni(seq1, seq2):\n",
    "    output=[]\n",
    "    for i in range(len(seq1)):\n",
    "        for j in range(len(seq2)):\n",
    "            if seq1[i]==seq2[j]:\n",
    "                output.append(seq1[i])\n",
    "                #output.append(seq2[j])\n",
    "    return output\n",
    "\n",
    "lista1=[\"Mele\",\"Meloni\",\"Pere\",\"Banane\"]\n",
    "lista2=[\"Kiwi\",\"Arance\",\"Banane\",\"Meloni\"]\n",
    "\n",
    "print(listaComuni(lista1,lista2)) #->[\"Meloni\",\"Banane\"]"
   ]
  },
  {
   "cell_type": "markdown",
   "metadata": {},
   "source": [
    "Aggiungere elementi ad una lista:"
   ]
  },
  {
   "cell_type": "code",
   "execution_count": 17,
   "metadata": {},
   "outputs": [
    {
     "name": "stdout",
     "output_type": "stream",
     "text": [
      "['a', 'b', 'c', 'd']\n"
     ]
    }
   ],
   "source": [
    "lista=[\"a\",\"b\",\"c\"]\n",
    "lista.append(\"d\")\n",
    "print(lista)"
   ]
  },
  {
   "cell_type": "markdown",
   "metadata": {},
   "source": [
    "# Slicing"
   ]
  },
  {
   "cell_type": "code",
   "execution_count": 34,
   "metadata": {},
   "outputs": [
    {
     "name": "stdout",
     "output_type": "stream",
     "text": [
      "[3, 4, 5]\n",
      "[0, 1, 2, 3, 4, 5]\n",
      "[6, 7, 8, 9, 10, 11, 12, 13]\n",
      "[1, 3, 5, 7]\n",
      "[0, 2, 4, 6, 8]\n",
      "[0, 2, 4, 6, 8, 10, 12]\n",
      "[0, 4, 8, 12]\n",
      "[13, 11, 9, 7, 5, 3, 1]\n",
      "[9, 7, 5, 3]\n",
      "[13, 12, 11, 10, 9, 8, 7, 6, 5, 4, 3, 2, 1, 0]\n"
     ]
    }
   ],
   "source": [
    "lista=[0,1,2,3,4,5,6,7,8,9,10,11,12,13]\n",
    "\n",
    "#Avevamo già visto che si possono prendere parti della lista scrivendo x:y\n",
    "\n",
    "print(lista[3:6])\n",
    "print(lista[:6])\n",
    "print(lista[6:])\n",
    "\n",
    "#Si può aggiungere un altro : dopo quelli già visti per fare dei \"salti\"\n",
    "print(lista[1:9:2])\n",
    "print(lista[:9:2])\n",
    "\n",
    "print(lista[::2])\n",
    "print(lista[::4])\n",
    "\n",
    "print(lista[::-2])\n",
    "\n",
    "print(lista[9:1:-2])\n",
    "\n",
    "print(lista[::-1])"
   ]
  },
  {
   "cell_type": "markdown",
   "metadata": {},
   "source": [
    "# Altri esercizi\n",
    "Esercizio delle conseguenze"
   ]
  },
  {
   "cell_type": "code",
   "execution_count": 54,
   "metadata": {},
   "outputs": [
    {
     "name": "stdout",
     "output_type": "stream",
     "text": [
      "Lei indossava roba da sub\n",
      "<class 'str'>\n",
      "L\n"
     ]
    }
   ],
   "source": [
    "import random\n",
    "\n",
    "def generaFrase(frase, listaVestito):\n",
    "    return frase+\" \"+random.choice(listaVestito)    #Questa restituisce una stringa\n",
    "    return frase,random.choice(listaVestito)        #Questa restituisce una tuple\n",
    "\n",
    "listaVestiti=[\"roba da sub\",\"ali da fata\",\"una busta di plastica\"]\n",
    "\n",
    "fraseGenerata=generaFrase(\"Lei indossava\",listaVestiti)\n",
    "print(fraseGenerata)\n",
    "print(type(fraseGenerata))\n",
    "\n",
    "print(fraseGenerata[0])"
   ]
  },
  {
   "cell_type": "markdown",
   "metadata": {},
   "source": [
    "Questa è una tuple (l'odio e lo schifo)"
   ]
  },
  {
   "cell_type": "code",
   "execution_count": null,
   "metadata": {},
   "outputs": [],
   "source": [
    "tupla=(\"ciao\",\"a\",\"tutti\")"
   ]
  }
 ],
 "metadata": {
  "interpreter": {
   "hash": "e083722571f9f0ec84a5baf48f347dbe11928b35218b5666fd9f4885e1b3b744"
  },
  "kernelspec": {
   "display_name": "Python 3.9.0 64-bit",
   "language": "python",
   "name": "python3"
  },
  "language_info": {
   "codemirror_mode": {
    "name": "ipython",
    "version": 3
   },
   "file_extension": ".py",
   "mimetype": "text/x-python",
   "name": "python",
   "nbconvert_exporter": "python",
   "pygments_lexer": "ipython3",
   "version": "3.9.0"
  },
  "orig_nbformat": 4
 },
 "nbformat": 4,
 "nbformat_minor": 2
}
