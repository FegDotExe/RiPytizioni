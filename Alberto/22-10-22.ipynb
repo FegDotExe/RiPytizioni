{
 "cells": [
  {
   "cell_type": "markdown",
   "metadata": {},
   "source": [
    "# Compito sui file\n",
    "Dato un file che contiene una sequenza di valori con virgola disposti uno per riga, scrivere una funzione di nome media che legge i valori presenti nel file e li scrive in un nuovo file di output, allineati in colonna. Al termine visualizza anche il totale e il valore medio usando la formattazione per tutte e tre le righe aggiuntive.\n",
    "\n",
    "Realizzare il programma con una funzione di nome media(fin, fout) che riceve come primo parametro la stringa con il nome del file in input e come secondo parametro"
   ]
  },
  {
   "cell_type": "code",
   "execution_count": 7,
   "metadata": {},
   "outputs": [],
   "source": [
    "def media(fin, fout):\n",
    "    somma=0.0 #Inizializzando un valore che deve essere con virgola già con la virgola si va sul sicuro\n",
    "    numeri=0\n",
    "    with open(fout, \"w\") as file_output:\n",
    "        with open(fin, \"r\") as file_input:\n",
    "            for riga in file_input:\n",
    "                valore=\"\"\n",
    "                if riga[-1]==\"\\n\" and riga[-2]==\",\":\n",
    "                    valore=float(riga[0:-2])\n",
    "                else:\n",
    "                    valore=float(riga)\n",
    "                file_output.write(str(valore)+\"\\n\")\n",
    "                somma+=valore\n",
    "                numeri+=1\n",
    "        \n",
    "        file_output.write(str(somma)+\"\\n\")\n",
    "        file_output.write(str(somma/numeri))\n",
    "\n",
    "media(\"22-10-22-mediain.txt\",\"22-10-22-mediaout.txt\")"
   ]
  },
  {
   "cell_type": "markdown",
   "metadata": {},
   "source": [
    "# Matrici 2.0\n",
    "Scrivere una funzione matriceDiMatrice(n,n2) che genera una matrice n x n di matrici n2 x n2, contenenti numeri casuali da 0 a 9."
   ]
  },
  {
   "cell_type": "code",
   "execution_count": 9,
   "metadata": {},
   "outputs": [
    {
     "name": "stdout",
     "output_type": "stream",
     "text": [
      "[[[[6, 1, 7], [5, 4, 5], [2, 4, 3]], [[2, 9, 4], [3, 4, 6], [8, 5, 0]]], [[[1, 2, 7], [4, 0, 4], [8, 6, 2]], [[7, 6, 7], [6, 0, 0], [3, 2, 2]]]]\n"
     ]
    }
   ],
   "source": [
    "import random\n",
    "\n",
    "def matriceDiMatrice(n,n2):\n",
    "    matrice=[]\n",
    "    for i in range(0,n): #Per ogni riga della matrice grande\n",
    "        matrice.append([]) #Creo una nuova riga\n",
    "        for j in range(0,n): #Per ogni colonna della matrice grande\n",
    "            matricina=[]\n",
    "            for i2 in range(0,n2):\n",
    "                matricina.append([]) #Nuova riga per matricina\n",
    "                for j2 in range(0,n2):\n",
    "                    matricina[i2].append(random.randint(0,9)) #Nuovo valore per la colonna di matricina\n",
    "            matrice[i].append(matricina)\n",
    "    return matrice\n",
    "\n",
    "print(matriceDiMatrice(2,3))"
   ]
  },
  {
   "cell_type": "markdown",
   "metadata": {},
   "source": [
    "# Print matrice di matrici\n",
    "Scrivo una funzione per fare il print di una matrice di matrici"
   ]
  },
  {
   "cell_type": "code",
   "execution_count": 25,
   "metadata": {},
   "outputs": [
    {
     "name": "stdout",
     "output_type": "stream",
     "text": [
      "[[[[5, 1, 0, 1, 3], [7, 9, 9, 5, 0], [7, 1, 7, 9, 3], [9, 4, 0, 2, 3], [7, 4, 3, 4, 4]], [[9, 3, 5, 4, 6], [2, 9, 7, 5, 5], [1, 6, 4, 3, 6], [1, 3, 5, 4, 1], [5, 4, 2, 5, 0]], [[2, 5, 6, 4, 5], [8, 1, 7, 5, 8], [7, 2, 1, 2, 4], [7, 7, 9, 1, 9], [9, 4, 6, 1, 1]], [[6, 4, 3, 1, 8], [4, 7, 8, 7, 6], [8, 4, 8, 1, 5], [8, 8, 4, 3, 9], [4, 7, 9, 2, 5]]], [[[2, 8, 7, 1, 3], [7, 2, 5, 1, 0], [2, 0, 6, 3, 4], [0, 1, 9, 3, 6], [3, 1, 0, 0, 8]], [[3, 1, 8, 9, 3], [4, 9, 5, 2, 0], [6, 5, 0, 0, 3], [5, 4, 5, 6, 7], [2, 1, 5, 0, 0]], [[5, 1, 3, 4, 4], [2, 0, 7, 9, 5], [5, 7, 6, 7, 6], [1, 2, 3, 9, 3], [4, 7, 8, 0, 5]], [[6, 2, 8, 2, 4], [1, 5, 1, 1, 2], [2, 7, 4, 3, 5], [0, 4, 1, 7, 6], [4, 9, 4, 2, 0]]], [[[1, 6, 8, 0, 0], [9, 2, 1, 1, 7], [8, 6, 2, 7, 2], [7, 5, 3, 3, 4], [9, 2, 8, 4, 5]], [[0, 9, 9, 8, 2], [1, 7, 1, 6, 2], [5, 3, 1, 8, 7], [5, 8, 0, 2, 2], [8, 0, 0, 7, 9]], [[6, 4, 6, 6, 3], [0, 7, 4, 9, 5], [1, 0, 6, 4, 6], [9, 0, 1, 9, 9], [8, 7, 2, 9, 4]], [[1, 5, 0, 4, 9], [0, 7, 8, 7, 8], [2, 2, 4, 6, 9], [4, 2, 6, 8, 0], [4, 8, 1, 8, 1]]], [[[5, 2, 5, 0, 2], [6, 9, 9, 1, 5], [0, 6, 2, 0, 6], [8, 9, 7, 4, 7], [0, 5, 4, 6, 6]], [[8, 8, 1, 0, 5], [3, 0, 1, 0, 9], [2, 9, 3, 4, 4], [8, 3, 5, 0, 6], [9, 4, 0, 4, 1]], [[4, 7, 4, 5, 3], [3, 7, 3, 2, 5], [6, 0, 3, 0, 9], [5, 3, 7, 9, 2], [9, 2, 4, 2, 3]], [[8, 1, 8, 6, 3], [7, 3, 9, 2, 0], [7, 8, 5, 9, 4], [7, 1, 1, 5, 4], [2, 9, 0, 2, 8]]]]\n",
      "\n",
      "5 1 0 1 3  9 3 5 4 6  2 5 6 4 5  6 4 3 1 8  \n",
      "7 9 9 5 0  2 9 7 5 5  8 1 7 5 8  4 7 8 7 6  \n",
      "7 1 7 9 3  1 6 4 3 6  7 2 1 2 4  8 4 8 1 5  \n",
      "9 4 0 2 3  1 3 5 4 1  7 7 9 1 9  8 8 4 3 9  \n",
      "7 4 3 4 4  5 4 2 5 0  9 4 6 1 1  4 7 9 2 5  \n",
      "\n",
      "2 8 7 1 3  3 1 8 9 3  5 1 3 4 4  6 2 8 2 4  \n",
      "7 2 5 1 0  4 9 5 2 0  2 0 7 9 5  1 5 1 1 2  \n",
      "2 0 6 3 4  6 5 0 0 3  5 7 6 7 6  2 7 4 3 5  \n",
      "0 1 9 3 6  5 4 5 6 7  1 2 3 9 3  0 4 1 7 6  \n",
      "3 1 0 0 8  2 1 5 0 0  4 7 8 0 5  4 9 4 2 0  \n",
      "\n",
      "1 6 8 0 0  0 9 9 8 2  6 4 6 6 3  1 5 0 4 9  \n",
      "9 2 1 1 7  1 7 1 6 2  0 7 4 9 5  0 7 8 7 8  \n",
      "8 6 2 7 2  5 3 1 8 7  1 0 6 4 6  2 2 4 6 9  \n",
      "7 5 3 3 4  5 8 0 2 2  9 0 1 9 9  4 2 6 8 0  \n",
      "9 2 8 4 5  8 0 0 7 9  8 7 2 9 4  4 8 1 8 1  \n",
      "\n",
      "5 2 5 0 2  8 8 1 0 5  4 7 4 5 3  8 1 8 6 3  \n",
      "6 9 9 1 5  3 0 1 0 9  3 7 3 2 5  7 3 9 2 0  \n",
      "0 6 2 0 6  2 9 3 4 4  6 0 3 0 9  7 8 5 9 4  \n",
      "8 9 7 4 7  8 3 5 0 6  5 3 7 9 2  7 1 1 5 4  \n",
      "0 5 4 6 6  9 4 0 4 1  9 2 4 2 3  2 9 0 2 8  \n",
      "\n"
     ]
    }
   ],
   "source": [
    "def printMatriceDiMatrici(matrice):\n",
    "    for i in range(0,len(matrice)): #Per ogni riga della matrice\n",
    "        for i2 in range(0,len(matrice[i][0])): #Per ogni riga della matricina\n",
    "            for j in range(0,len(matrice[i])): #Per ogni colonna della matrice\n",
    "                for j2 in range(0,len(matrice[i][j][i2])): #Per ogni colonna della matricina\n",
    "                    print(matrice[i][j][i2][j2],end=\" \")\n",
    "                print(\" \",end=\"\") #Separa con uno spazio le righe di una matrice e le righe di quella dopo\n",
    "            print(\"\") #Mette la prossima riga delle matrici a capo\n",
    "        print(\"\") #Separa con una riga vuota una matrice dall'altra\n",
    "\n",
    "matrice=matriceDiMatrice(4,5) #Genera una matrice\n",
    "\n",
    "print(matrice) #Stampa la matrice come sarebbe visualizzata normalmente\n",
    "print(\"\")\n",
    "printMatriceDiMatrici(matrice) #Stampa la matrice visualizzata in modo più carino"
   ]
  }
 ],
 "metadata": {
  "kernelspec": {
   "display_name": "Python 3.9.0 64-bit",
   "language": "python",
   "name": "python3"
  },
  "language_info": {
   "codemirror_mode": {
    "name": "ipython",
    "version": 3
   },
   "file_extension": ".py",
   "mimetype": "text/x-python",
   "name": "python",
   "nbconvert_exporter": "python",
   "pygments_lexer": "ipython3",
   "version": "3.9.0"
  },
  "orig_nbformat": 4,
  "vscode": {
   "interpreter": {
    "hash": "ad0bde7d7f50bc082869a74b98121bcd367071a3ca0bcf1838fa0731e0e55dce"
   }
  }
 },
 "nbformat": 4,
 "nbformat_minor": 2
}
