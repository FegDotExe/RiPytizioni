{
 "cells": [
  {
   "cell_type": "markdown",
   "metadata": {},
   "source": [
    "# Pre-compito"
   ]
  },
  {
   "cell_type": "markdown",
   "metadata": {},
   "source": [
    "## Esercizio 1"
   ]
  },
  {
   "cell_type": "code",
   "execution_count": 6,
   "metadata": {},
   "outputs": [
    {
     "name": "stdout",
     "output_type": "stream",
     "text": [
      "gbpy\n"
     ]
    }
   ],
   "source": [
    "def eliminaDa(s1,s2):\n",
    "    output=\"\"\n",
    "    for lettera1 in s1:\n",
    "        #print(f\"Lettera 1: {lettera1}\")\n",
    "        aggiungi=True\n",
    "        for lettera2 in s2:\n",
    "            #print(f\"Lettera 2: {lettera2}\")\n",
    "            if lettera1==lettera2:\n",
    "                aggiungi=False\n",
    "                break\n",
    "        if aggiungi==True:\n",
    "            output=output+lettera1\n",
    "    return output\n",
    "\n",
    "\n",
    "print(eliminaDa(\"rgwbpy\",\"wr\"))"
   ]
  },
  {
   "cell_type": "markdown",
   "metadata": {},
   "source": [
    "## Esercizio 2"
   ]
  },
  {
   "cell_type": "code",
   "execution_count": 7,
   "metadata": {},
   "outputs": [
    {
     "name": "stdout",
     "output_type": "stream",
     "text": [
      "0246813579\n"
     ]
    }
   ],
   "source": [
    "def primaIPari(s):\n",
    "    output=\"\"\n",
    "    i=0\n",
    "    while i<len(s): #Numeri pari\n",
    "        output=output+s[i]\n",
    "        i+=2\n",
    "\n",
    "    i=1\n",
    "    while i<len(s): #Numeri dispari\n",
    "        output=output+s[i]\n",
    "        i+=2\n",
    "    return output\n",
    "\n",
    "print(primaIPari(\"0123456789\"))"
   ]
  },
  {
   "cell_type": "markdown",
   "metadata": {},
   "source": [
    "## Esercizio 3"
   ]
  },
  {
   "cell_type": "code",
   "execution_count": 11,
   "metadata": {},
   "outputs": [
    {
     "name": "stdout",
     "output_type": "stream",
     "text": [
      "True\n"
     ]
    }
   ],
   "source": [
    "print(\"a\">\"A\")#La lettera minuscola è ritenuta maggiore della maiuscola"
   ]
  },
  {
   "cell_type": "code",
   "execution_count": 12,
   "metadata": {},
   "outputs": [
    {
     "name": "stdout",
     "output_type": "stream",
     "text": [
      "wrty\n"
     ]
    }
   ],
   "source": [
    "def estraiMaggiore(s,c):\n",
    "    output=\"\"\n",
    "    for lettera in s:\n",
    "        if lettera>c:\n",
    "            output=output+lettera\n",
    "    return output\n",
    "\n",
    "print(estraiMaggiore(\"qwerty\",\"q\"))"
   ]
  },
  {
   "cell_type": "markdown",
   "metadata": {},
   "source": [
    "## Esercizio 1b\n",
    "\n",
    "Scrivere una funzione sostituisciPrimo(s,c) che sostituisce il primo carattere di s e tutte le sue copie con c\n",
    "\n",
    "sostituisciPrimo(\"abcaaaa\",\"x)->\"xbcxxxx\"\n",
    "\n",
    "sostituisciPrimo(\"cimice\",\"$\")->\"$imi$e\""
   ]
  },
  {
   "cell_type": "markdown",
   "metadata": {},
   "source": [
    "### Tentativo 1"
   ]
  },
  {
   "cell_type": "code",
   "execution_count": null,
   "metadata": {},
   "outputs": [],
   "source": [
    "def sostituisciPrimo(s,c):\n",
    "    output=\"\"\n",
    "    primoCarattere=s[0]\n",
    "    for lettera in s:\n",
    "        if primoCarattere in s:\n",
    "            primoCarattere=c"
   ]
  },
  {
   "cell_type": "markdown",
   "metadata": {},
   "source": [
    "### Tentativo 2"
   ]
  },
  {
   "cell_type": "code",
   "execution_count": 13,
   "metadata": {},
   "outputs": [
    {
     "name": "stdout",
     "output_type": "stream",
     "text": [
      "c$\n"
     ]
    }
   ],
   "source": [
    "def sostituisciPrimo(s,c):\n",
    "    output=\"\"\n",
    "    primoCarattere=s[0]\n",
    "    for lettera in s:\n",
    "        if lettera==primoCarattere:\n",
    "            output=lettera+c\n",
    "    return output\n",
    "\n",
    "print(sostituisciPrimo(\"cimice\",\"$\"))"
   ]
  },
  {
   "cell_type": "markdown",
   "metadata": {},
   "source": [
    "### Tentativo 3"
   ]
  },
  {
   "cell_type": "code",
   "execution_count": 16,
   "metadata": {},
   "outputs": [
    {
     "name": "stdout",
     "output_type": "stream",
     "text": [
      "$imi$e\n"
     ]
    }
   ],
   "source": [
    "def sostituisciPrimo(s,c):\n",
    "    output=\"\"\n",
    "    primoCarattere=s[0]\n",
    "    for lettera in s:\n",
    "        if lettera==primoCarattere:\n",
    "            output=output+c\n",
    "        else:#if lettera!=primoCarattere:\n",
    "            output=output+lettera\n",
    "    return output\n",
    "\n",
    "print(sostituisciPrimo(\"cimice\",\"$\"))"
   ]
  },
  {
   "cell_type": "markdown",
   "metadata": {},
   "source": [
    "## Esercizio 2b\n",
    "Scrivi una funzione piuLunga(s) che restituisce la parola più lunga nella frase s e di quante lettere è composta\n",
    "\n",
    "\"Salve a tutti quanti i presenti\"->(\"presenti\",8)"
   ]
  },
  {
   "cell_type": "markdown",
   "metadata": {},
   "source": [
    "### Tentativo 1"
   ]
  },
  {
   "cell_type": "code",
   "execution_count": null,
   "metadata": {},
   "outputs": [],
   "source": [
    "def parola(s):\n",
    "    for lettera in s:\n",
    "        if s[-1]\n",
    "\n",
    "def piuLunga(s):\n",
    "    parola1=0\n",
    "    "
   ]
  },
  {
   "cell_type": "markdown",
   "metadata": {},
   "source": [
    "### Tentativo 2"
   ]
  },
  {
   "cell_type": "code",
   "execution_count": 19,
   "metadata": {},
   "outputs": [
    {
     "name": "stdout",
     "output_type": "stream",
     "text": [
      "('', 'Salveatuttiquantiipresenti')\n"
     ]
    }
   ],
   "source": [
    "def piuLunga(s):\n",
    "    massimo=\"\"\n",
    "\n",
    "    parola=\"\"\n",
    "    i=0\n",
    "    for lettera in s:\n",
    "        if lettera!=\" \":\n",
    "            parola+=lettera\n",
    "        if lettera==\" \" or i==len(s)-1:\n",
    "            massimo+=parola #Qui si sta aggiungendo ogni parola al massimo\n",
    "            parola=\"\"\n",
    "        i+=1\n",
    "    \n",
    "    return parola, massimo\n",
    "\n",
    "print(piuLunga(\"Salve a tutti quanti i presenti\"))"
   ]
  },
  {
   "cell_type": "markdown",
   "metadata": {},
   "source": [
    "### Tentativo 3"
   ]
  },
  {
   "cell_type": "code",
   "execution_count": 25,
   "metadata": {},
   "outputs": [
    {
     "name": "stdout",
     "output_type": "stream",
     "text": [
      "('presenti', 8)\n"
     ]
    }
   ],
   "source": [
    "def piuLunga(s):\n",
    "    massimo=\"\"\n",
    "\n",
    "    parola=\"\"\n",
    "    i=0\n",
    "    for lettera in s:\n",
    "        if lettera!=\" \":\n",
    "            parola+=lettera\n",
    "        if lettera==\" \" or i==len(s)-1:\n",
    "            if len(massimo)<len(parola):#Si deve fare un confronto tra lunghezze!\n",
    "                massimo=parola\n",
    "            parola=\"\"\n",
    "        i+=1\n",
    "    \n",
    "    return massimo, len(massimo)\n",
    "\n",
    "print(piuLunga(\"Salve a tutti quanti i presenti\"))"
   ]
  }
 ],
 "metadata": {
  "interpreter": {
   "hash": "e083722571f9f0ec84a5baf48f347dbe11928b35218b5666fd9f4885e1b3b744"
  },
  "kernelspec": {
   "display_name": "Python 3.9.0 64-bit",
   "language": "python",
   "name": "python3"
  },
  "language_info": {
   "codemirror_mode": {
    "name": "ipython",
    "version": 3
   },
   "file_extension": ".py",
   "mimetype": "text/x-python",
   "name": "python",
   "nbconvert_exporter": "python",
   "pygments_lexer": "ipython3",
   "version": "3.9.0"
  },
  "orig_nbformat": 4
 },
 "nbformat": 4,
 "nbformat_minor": 2
}
