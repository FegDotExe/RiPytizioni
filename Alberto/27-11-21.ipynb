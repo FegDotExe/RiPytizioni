{
 "cells": [
  {
   "cell_type": "markdown",
   "metadata": {},
   "source": [
    "# Titolo"
   ]
  },
  {
   "cell_type": "code",
   "execution_count": 2,
   "metadata": {},
   "outputs": [],
   "source": [
    "a=10"
   ]
  },
  {
   "cell_type": "code",
   "execution_count": 5,
   "metadata": {},
   "outputs": [],
   "source": [
    "a=a*2"
   ]
  },
  {
   "cell_type": "code",
   "execution_count": 6,
   "metadata": {},
   "outputs": [
    {
     "name": "stdout",
     "output_type": "stream",
     "text": [
      "80\n"
     ]
    }
   ],
   "source": [
    "print(a)"
   ]
  },
  {
   "cell_type": "markdown",
   "metadata": {},
   "source": [
    "# Considerazione dei numeri uno per uno usando while\n",
    "\n",
    "Continua ad eseguire un codice mentre una condizione è vera"
   ]
  },
  {
   "cell_type": "code",
   "execution_count": null,
   "metadata": {},
   "outputs": [],
   "source": [
    "while True:\n",
    "    print(\"Ciao\")\n",
    "    break"
   ]
  },
  {
   "cell_type": "markdown",
   "metadata": {},
   "source": [
    "In generale si vuole avere una condizione che prima o poi può diventare falsa"
   ]
  },
  {
   "cell_type": "code",
   "execution_count": 4,
   "metadata": {},
   "outputs": [
    {
     "name": "stdout",
     "output_type": "stream",
     "text": [
      "1\n",
      "2\n",
      "3\n",
      "4\n",
      "5\n",
      "6\n",
      "7\n",
      "8\n",
      "9\n",
      "10\n"
     ]
    }
   ],
   "source": [
    "partenza=1 #Il numero da cui si parte\n",
    "arrivo=10\n",
    "while partenza<=arrivo:\n",
    "    print(partenza)\n",
    "    partenza=partenza+1"
   ]
  },
  {
   "cell_type": "markdown",
   "metadata": {},
   "source": [
    "L'utilità di questo loop è in generale il fatto che considera i numeri uno per uno, dandoci la possibilità di farci operazioni varie"
   ]
  },
  {
   "cell_type": "code",
   "execution_count": 6,
   "metadata": {},
   "outputs": [
    {
     "name": "stdout",
     "output_type": "stream",
     "text": [
      "1\n",
      "2\n",
      "5\n",
      "10\n"
     ]
    }
   ],
   "source": [
    "arrivo=10\n",
    "\n",
    "partenza=1\n",
    "while partenza<=arrivo:\n",
    "    #Qui mettiamo le condizioni per sapere se il numero che stiamo vedendo è un fattore di arrivo\n",
    "    if arrivo%partenza==0:\n",
    "        print(partenza)\n",
    "    partenza=partenza+1"
   ]
  },
  {
   "cell_type": "code",
   "execution_count": 13,
   "metadata": {},
   "outputs": [],
   "source": [
    "def fattori(arrivo):\n",
    "    partenza=1\n",
    "    while partenza<=arrivo:\n",
    "        if arrivo%partenza==0:\n",
    "            if partenza!=arrivo:\n",
    "                print(partenza,end=\", \")\n",
    "            else:\n",
    "                print(partenza,end=\".\")\n",
    "        partenza=partenza+1"
   ]
  },
  {
   "cell_type": "code",
   "execution_count": 14,
   "metadata": {},
   "outputs": [
    {
     "name": "stdout",
     "output_type": "stream",
     "text": [
      "1, 2, 4, 5, 10, 20."
     ]
    }
   ],
   "source": [
    "fattori(20)"
   ]
  },
  {
   "cell_type": "code",
   "execution_count": 19,
   "metadata": {},
   "outputs": [
    {
     "name": "stdout",
     "output_type": "stream",
     "text": [
      "1, 3, 71, 213."
     ]
    }
   ],
   "source": [
    "qualcosa=input(\"Scrivi qualcosa>\")\n",
    "\n",
    "#fattori(qualcosa)-->questo non funziona perché è ancora una stringa\n",
    "\n",
    "qualcosa=int(qualcosa)#Qui sto convertendo qualcosa a numero\n",
    "\n",
    "fattori(qualcosa)"
   ]
  },
  {
   "cell_type": "markdown",
   "metadata": {},
   "source": [
    "Si può fare anche la conversione al contrario"
   ]
  },
  {
   "cell_type": "code",
   "execution_count": 25,
   "metadata": {},
   "outputs": [
    {
     "name": "stdout",
     "output_type": "stream",
     "text": [
      "Il risultato è 10\n",
      "Il risultato è 10\n",
      "Il risultato è 10\n"
     ]
    }
   ],
   "source": [
    "a=10\n",
    "\n",
    "print(\"Il risultato è {a}\".format(a=a))\n",
    "print(\"Il risultato è \"+str(a))\n",
    "print(\"Il risultato è %i\"%(a))"
   ]
  },
  {
   "cell_type": "code",
   "execution_count": 15,
   "metadata": {},
   "outputs": [],
   "source": [
    "def sommaDispariDaA(inizio,fine):\n",
    "    cont=0\n",
    "    somma=0\n",
    "    \n",
    "    while inizio<=fine:\n",
    "        if inizio%2!=0:\n",
    "            cont=cont+1\n",
    "            somma=somma+inizio\n",
    "\n",
    "            inizio=inizio+2\n",
    "        else:\n",
    "            inizio=inizio+1\n",
    "\n",
    "    return somma, cont"
   ]
  },
  {
   "cell_type": "code",
   "execution_count": 18,
   "metadata": {},
   "outputs": [
    {
     "name": "stdout",
     "output_type": "stream",
     "text": [
      "140\n",
      "10\n"
     ]
    }
   ],
   "source": [
    "sommaDispari, contDispari=sommaDispariDaA(2,10)\n",
    "\n",
    "somma2, cont2 = sommaDispariDaA(contDispari,sommaDispari)\n",
    "\n",
    "print(somma2)\n",
    "print(cont2)"
   ]
  },
  {
   "cell_type": "markdown",
   "metadata": {},
   "source": [
    "Esempio dell'utilizzo di return"
   ]
  },
  {
   "cell_type": "code",
   "execution_count": 17,
   "metadata": {},
   "outputs": [
    {
     "name": "stdout",
     "output_type": "stream",
     "text": [
      "Sto facendo un numero alla seconda\n",
      "Sto facendo un numero alla seconda\n",
      "625\n"
     ]
    }
   ],
   "source": [
    "def numeroAllaSeconda(numero:int):\n",
    "    print(\"Sto facendo un numero alla seconda\")\n",
    "    return numero*numero\n",
    "\n",
    "nuovoNumero=numeroAllaSeconda(5)\n",
    "\n",
    "print(numeroAllaSeconda(nuovoNumero))"
   ]
  },
  {
   "cell_type": "markdown",
   "metadata": {},
   "source": [
    "Il return è una cosa che si usa sempre, anche con le funzioni già scritte in python"
   ]
  },
  {
   "cell_type": "code",
   "execution_count": null,
   "metadata": {},
   "outputs": [],
   "source": [
    "a=int(\"123\")#Ad esempio int prende una stringa e poi fa return dell'equivalente ma in \"versione\" numerica"
   ]
  }
 ],
 "metadata": {
  "interpreter": {
   "hash": "e083722571f9f0ec84a5baf48f347dbe11928b35218b5666fd9f4885e1b3b744"
  },
  "kernelspec": {
   "display_name": "Python 3.9.0 64-bit",
   "language": "python",
   "name": "python3"
  },
  "language_info": {
   "codemirror_mode": {
    "name": "ipython",
    "version": 3
   },
   "file_extension": ".py",
   "mimetype": "text/x-python",
   "name": "python",
   "nbconvert_exporter": "python",
   "pygments_lexer": "ipython3",
   "version": "3.9.0"
  },
  "orig_nbformat": 4
 },
 "nbformat": 4,
 "nbformat_minor": 2
}
