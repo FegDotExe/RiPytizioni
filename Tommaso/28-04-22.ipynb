{
 "cells": [
  {
   "cell_type": "markdown",
   "metadata": {},
   "source": [
    "# Esercizio 1"
   ]
  },
  {
   "cell_type": "code",
   "execution_count": 1,
   "metadata": {},
   "outputs": [
    {
     "name": "stdout",
     "output_type": "stream",
     "text": [
      "['a', 'b', 'c', 'd']\n"
     ]
    }
   ],
   "source": [
    "def scambia(seq,i1,i2):\n",
    "    temporaneo=seq[i1]\n",
    "    seq[i1]=seq[i2]\n",
    "    seq[i2]=temporaneo\n",
    "    return seq\n",
    "\n",
    "print(scambia([\"a\",\"d\",\"c\",\"b\"],1,3))"
   ]
  },
  {
   "cell_type": "markdown",
   "metadata": {},
   "source": [
    "Proviamo a farlo con i for"
   ]
  },
  {
   "cell_type": "code",
   "execution_count": 13,
   "metadata": {},
   "outputs": [
    {
     "name": "stdout",
     "output_type": "stream",
     "text": [
      "0 non è da scambiare\n",
      "1 è il primo valore da scambiare\n",
      "2 non è da scambiare\n",
      "3 è il secondo valore da scambiare\n"
     ]
    }
   ],
   "source": [
    "def scambia(seq,i1,i2):\n",
    "    for i in range(len(seq)):\n",
    "        if i==i1:\n",
    "            print(f\"{i} è il primo valore da scambiare\")\n",
    "        elif i==i2:\n",
    "            print(f\"{i} è il secondo valore da scambiare\")\n",
    "        else:\n",
    "            print(f\"{i} non è da scambiare\")\n",
    "\n",
    "scambia([\"a\",\"d\",\"c\",\"b\"],1,3)"
   ]
  },
  {
   "cell_type": "code",
   "execution_count": 36,
   "metadata": {},
   "outputs": [
    {
     "name": "stdout",
     "output_type": "stream",
     "text": [
      "4 è il primo valore da scambiare\n",
      "5 è il secondo valore da scambiare\n",
      "['a', 'd', 'c', 'b', 'e', 'f']\n"
     ]
    }
   ],
   "source": [
    "def scambia(seq,i1,i2):\n",
    "    output=[]\n",
    "    for i in range(len(seq)):\n",
    "        if i==i1:\n",
    "            # print(f\"{i} è il primo valore da scambiare\")\n",
    "            output.append(seq[i2])\n",
    "        elif i==i2:\n",
    "            # print(f\"{i} è il secondo valore da scambiare\")\n",
    "            output.append(seq[i1])\n",
    "        else:\n",
    "            # print(f\"{seq[i]} non è da scambiare\")\n",
    "            output.append(seq[i])\n",
    "    print(output)\n",
    "\n",
    "scambia([\"a\",\"d\",\"c\",\"b\",\"f\",\"e\"],4,5)"
   ]
  },
  {
   "cell_type": "markdown",
   "metadata": {},
   "source": [
    "0,3\n",
    "[a,d,c,b]\n",
    "\n",
    "0->a\n",
    "1->!->b\n",
    "...\n",
    "3->!->d"
   ]
  },
  {
   "cell_type": "code",
   "execution_count": 3,
   "metadata": {},
   "outputs": [
    {
     "name": "stdout",
     "output_type": "stream",
     "text": [
      "L'elemento a è all'indice 0\n",
      "L'elemento b è all'indice 1\n",
      "L'elemento c è all'indice 2\n",
      "L'elemento d è all'indice 3\n"
     ]
    }
   ],
   "source": [
    "lista=[\"a\",\"b\",\"c\",\"d\"]\n",
    "# Voglio scrivere l'indice di ogni elemento e anche l'elemento stesso\n",
    "\n",
    "i=0\n",
    "while i<len(lista):\n",
    "    print(f\"L'elemento {lista[i]} è all'indice {i}\")\n",
    "    i+=1"
   ]
  },
  {
   "cell_type": "code",
   "execution_count": 4,
   "metadata": {},
   "outputs": [
    {
     "name": "stdout",
     "output_type": "stream",
     "text": [
      "a\n",
      "b\n",
      "c\n",
      "d\n"
     ]
    }
   ],
   "source": [
    "for cosa in lista:\n",
    "    print(cosa)"
   ]
  },
  {
   "cell_type": "code",
   "execution_count": 21,
   "metadata": {},
   "outputs": [
    {
     "name": "stdout",
     "output_type": "stream",
     "text": [
      "Giovedì\n"
     ]
    }
   ],
   "source": [
    "lista=[\"Giovedì\",\"b\"]\n",
    "print(lista[0])"
   ]
  },
  {
   "cell_type": "code",
   "execution_count": 28,
   "metadata": {},
   "outputs": [
    {
     "name": "stdout",
     "output_type": "stream",
     "text": [
      "[10]\n"
     ]
    }
   ],
   "source": [
    "lista=[]\n",
    "lista.append(10)\n",
    "print(lista)"
   ]
  },
  {
   "cell_type": "markdown",
   "metadata": {},
   "source": [
    "# Esercizio 2"
   ]
  },
  {
   "cell_type": "markdown",
   "metadata": {},
   "source": [
    "Mini esempio con i for"
   ]
  },
  {
   "cell_type": "code",
   "execution_count": 39,
   "metadata": {},
   "outputs": [
    {
     "name": "stdout",
     "output_type": "stream",
     "text": [
      "Lun\n",
      "Mar\n",
      "Mer\n",
      "0\n",
      "1\n",
      "2\n"
     ]
    }
   ],
   "source": [
    "lista=[\"Lun\",\"Mar\",\"Mer\"]\n",
    "for giorno in lista:\n",
    "    print(giorno)\n",
    "\n",
    "for giorno in range(len(lista)):\n",
    "    print(giorno)"
   ]
  },
  {
   "cell_type": "code",
   "execution_count": 51,
   "metadata": {},
   "outputs": [
    {
     "data": {
      "text/plain": [
       "False"
      ]
     },
     "execution_count": 51,
     "metadata": {},
     "output_type": "execute_result"
    }
   ],
   "source": [
    "def inLista(seq,elem):\n",
    "    for value in seq:\n",
    "        #if elem in value: #Questo significa \"se c'è elem dentro a value\"\n",
    "        if elem==value:\n",
    "            return True\n",
    "    # print(\"Sono uscito dal for!\")\n",
    "    return False\n",
    "\n",
    "inLista([\"Mario\",\"Tommaso\",\"Gianmarco\"],\"marco\")"
   ]
  },
  {
   "cell_type": "markdown",
   "metadata": {},
   "source": [
    "In generale in python la cosa è molto più semplice:"
   ]
  },
  {
   "cell_type": "code",
   "execution_count": 53,
   "metadata": {},
   "outputs": [],
   "source": [
    "if \"marco\" in [\"Mario\",\"Tommaso\",\"Gianmarco\"]:\n",
    "    print(\"E' nella lista\")"
   ]
  }
 ],
 "metadata": {
  "interpreter": {
   "hash": "e083722571f9f0ec84a5baf48f347dbe11928b35218b5666fd9f4885e1b3b744"
  },
  "kernelspec": {
   "display_name": "Python 3.9.0 64-bit",
   "language": "python",
   "name": "python3"
  },
  "language_info": {
   "codemirror_mode": {
    "name": "ipython",
    "version": 3
   },
   "file_extension": ".py",
   "mimetype": "text/x-python",
   "name": "python",
   "nbconvert_exporter": "python",
   "pygments_lexer": "ipython3",
   "version": "3.9.0"
  },
  "orig_nbformat": 4
 },
 "nbformat": 4,
 "nbformat_minor": 2
}
