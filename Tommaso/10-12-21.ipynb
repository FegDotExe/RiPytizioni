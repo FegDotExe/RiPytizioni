{
 "cells": [
  {
   "cell_type": "markdown",
   "metadata": {},
   "source": [
    "# Liste"
   ]
  },
  {
   "cell_type": "code",
   "execution_count": 1,
   "metadata": {},
   "outputs": [],
   "source": [
    "numeriDiCuiFareMedia=[1,5,6,7,8,9,9]"
   ]
  },
  {
   "cell_type": "markdown",
   "metadata": {},
   "source": [
    "Si possono prendere gli elementi uno per uno"
   ]
  },
  {
   "cell_type": "code",
   "execution_count": 5,
   "metadata": {},
   "outputs": [
    {
     "name": "stdout",
     "output_type": "stream",
     "text": [
      "5\n"
     ]
    }
   ],
   "source": [
    "print(numeriDiCuiFareMedia[1])"
   ]
  },
  {
   "cell_type": "code",
   "execution_count": 7,
   "metadata": {},
   "outputs": [
    {
     "name": "stdout",
     "output_type": "stream",
     "text": [
      "ciao\n",
      "False\n"
     ]
    }
   ],
   "source": [
    "listaVaria=[1,2,3,4,\"ciao\",False,True]\n",
    "\n",
    "print(listaVaria[4])#Prende il quinto elemento\n",
    "print(listaVaria[5])"
   ]
  },
  {
   "cell_type": "markdown",
   "metadata": {},
   "source": [
    "Si può anche capire quanto lunga è una lista"
   ]
  },
  {
   "cell_type": "code",
   "execution_count": 8,
   "metadata": {},
   "outputs": [
    {
     "name": "stdout",
     "output_type": "stream",
     "text": [
      "7\n"
     ]
    }
   ],
   "source": [
    "print(len(listaVaria))"
   ]
  },
  {
   "cell_type": "markdown",
   "metadata": {},
   "source": [
    "Per quanto possa sembrare strano, in realtà è molto utile"
   ]
  },
  {
   "cell_type": "code",
   "execution_count": 11,
   "metadata": {},
   "outputs": [
    {
     "name": "stdout",
     "output_type": "stream",
     "text": [
      "1\n",
      "2\n",
      "3\n",
      "4\n",
      "ciao\n",
      "False\n",
      "True\n"
     ]
    }
   ],
   "source": [
    "for i in range(0,len(listaVaria)):\n",
    "    #print(i)\n",
    "    print(listaVaria[i])"
   ]
  },
  {
   "cell_type": "markdown",
   "metadata": {},
   "source": [
    "Maniera alternativa per fare la stessa cosa:"
   ]
  },
  {
   "cell_type": "code",
   "execution_count": 12,
   "metadata": {},
   "outputs": [
    {
     "name": "stdout",
     "output_type": "stream",
     "text": [
      "1\n",
      "2\n",
      "3\n",
      "4\n",
      "ciao\n",
      "False\n",
      "True\n"
     ]
    }
   ],
   "source": [
    "for elemento in listaVaria:\n",
    "    print(elemento)"
   ]
  },
  {
   "cell_type": "markdown",
   "metadata": {},
   "source": [
    "## Metodi speciali delle liste"
   ]
  },
  {
   "cell_type": "code",
   "execution_count": 15,
   "metadata": {},
   "outputs": [
    {
     "name": "stdout",
     "output_type": "stream",
     "text": [
      "['A', 'M', 'B']\n"
     ]
    }
   ],
   "source": [
    "listaSimpatica=[]\n",
    "\n",
    "#Aggiungere un elemento alla fine\n",
    "listaSimpatica.append(\"A\")\n",
    "listaSimpatica.append(\"B\")\n",
    "\n",
    "#Aggiungere un elemento in mezzo\n",
    "listaSimpatica.insert(1,\"M\")\n",
    "\n",
    "print(listaSimpatica)"
   ]
  },
  {
   "cell_type": "code",
   "execution_count": 17,
   "metadata": {},
   "outputs": [
    {
     "name": "stdout",
     "output_type": "stream",
     "text": [
      "[1]\n"
     ]
    }
   ],
   "source": [
    "altraLista=[1,7,10]\n",
    "\n",
    "#Rimuovere un elemento in base all'indice\n",
    "del(altraLista[1])\n",
    "\n",
    "#Rimuovere un elemento in base al valore\n",
    "altraLista.remove(10)\n",
    "\n",
    "print(altraLista)"
   ]
  },
  {
   "cell_type": "markdown",
   "metadata": {},
   "source": [
    "Cambiare un certo valore"
   ]
  },
  {
   "cell_type": "code",
   "execution_count": 29,
   "metadata": {},
   "outputs": [
    {
     "name": "stdout",
     "output_type": "stream",
     "text": [
      "['a', 'z', 'c']\n",
      "['a', 'b', 'c']\n"
     ]
    }
   ],
   "source": [
    "listaEnnesima=[\"a\",\"z\",\"c\"]\n",
    "print(listaEnnesima)\n",
    "\n",
    "listaEnnesima[1]=\"b\"\n",
    "print(listaEnnesima)"
   ]
  },
  {
   "cell_type": "markdown",
   "metadata": {},
   "source": [
    "Una stringa ad esempio è una lista di lettere"
   ]
  },
  {
   "cell_type": "code",
   "execution_count": 19,
   "metadata": {},
   "outputs": [],
   "source": [
    "parola=\"Salve\"\n",
    "#E' quasi equivalente a scrivere\n",
    "parolaListosa=[\"S\",\"a\",\"l\",\"v\",\"e\"]"
   ]
  },
  {
   "cell_type": "markdown",
   "metadata": {},
   "source": [
    "Quindi molto di quello che si fa con le liste, si può fare anche con le stringhe"
   ]
  },
  {
   "cell_type": "code",
   "execution_count": 21,
   "metadata": {},
   "outputs": [
    {
     "name": "stdout",
     "output_type": "stream",
     "text": [
      "5\n"
     ]
    }
   ],
   "source": [
    "print(len(parola))"
   ]
  },
  {
   "cell_type": "markdown",
   "metadata": {},
   "source": [
    "## Esercizio con lista"
   ]
  },
  {
   "cell_type": "code",
   "execution_count": 34,
   "metadata": {},
   "outputs": [
    {
     "name": "stdout",
     "output_type": "stream",
     "text": [
      "3031.714285714286\n"
     ]
    }
   ],
   "source": [
    "def media():\n",
    "    lista=[]\n",
    "    while True:\n",
    "        numeroFornito=input(\"Scrivi un numero>\")\n",
    "        if numeroFornito==\"\":\n",
    "            break\n",
    "\n",
    "        numero=int(numeroFornito)\n",
    "        lista.append(numero)\n",
    "    somma=sum(lista)#Si usa per sommare tutti gli elementi della lista\n",
    "    \"\"\"\n",
    "    Maniera alternativa:\n",
    "    somma=0\n",
    "    for elemento in lista:\n",
    "        somma=somma+elemento\n",
    "    \"\"\"\n",
    "    media=somma/len(lista)\n",
    "    return media\n",
    "\n",
    "print(media())"
   ]
  },
  {
   "cell_type": "markdown",
   "metadata": {},
   "source": [
    "## Esercizio sul separatore di cifre"
   ]
  },
  {
   "cell_type": "code",
   "execution_count": 4,
   "metadata": {},
   "outputs": [
    {
     "name": "stdout",
     "output_type": "stream",
     "text": [
      "9,2,8,3,7,6,3,4,5\n"
     ]
    }
   ],
   "source": [
    "def cifreSeparate(numero):\n",
    "    divisore=1#Rappresenta il multiplo di 10 per cui si dividerà il numero fornito\n",
    "    output=\"\"#Rappresenta la stringa che verrà restituita alla fine della funzione\n",
    "\n",
    "    while divisore<=numero:#Ripete l'operazione mentre il multiplo di 10 è minore del numero fornito\n",
    "        numeroTemporaneo=(numero//(divisore*10))*10#Crea un numero temporaneo pari alla divisione intera successiva del numero dato, moltiplicato poi per 10. Se il numero dato fosse 1234 e questa fosse la prima volta che il loop viene eseguito, restituirebbe 1234//10->123, 123*10->1230\n",
    "        \n",
    "        if divisore==1:#Se il divisore è pari a 1, quindi si sta considerando il primo numero a destra, non serve mettere la virgola alla fine della stringa\n",
    "            output=str((numero//divisore)-numeroTemporaneo)+output#Alla destra della stringa di output viene aggiunta la divisione intera del numero fornito per il divisore corrente, sottratto al numero temporaneo dichiarato sopra. Se il numero dato fosse 1234 e questa fosse la prima volta che il loop viene eseguito, restituirebbe 1234//1->1234, 1234-1230->4\n",
    "        else:\n",
    "            output=str((numero//divisore)-numeroTemporaneo)+\",\"+output\n",
    "\n",
    "        divisore=divisore*10#Moltiplica il divisore per 10 ogni volta che il loop arriva a conclusione\n",
    "        \n",
    "    return output#Restituisce la stringa formata\n",
    "\n",
    "print(cifreSeparate(928376345))"
   ]
  },
  {
   "cell_type": "markdown",
   "metadata": {},
   "source": [
    "12345-12340=5  \n",
    "1234-1230=4  \n",
    "123-120=3"
   ]
  },
  {
   "cell_type": "markdown",
   "metadata": {},
   "source": [
    "### Versione alternativa con stringa"
   ]
  },
  {
   "cell_type": "code",
   "execution_count": 8,
   "metadata": {},
   "outputs": [
    {
     "name": "stdout",
     "output_type": "stream",
     "text": [
      "1,2,3,4,5\n"
     ]
    }
   ],
   "source": [
    "def separatoreStringa(numero):\n",
    "    stringaNumero=str(numero)\n",
    "    output=\"\"\n",
    "    for lettera in stringaNumero:\n",
    "        if lettera==stringaNumero[0]:\n",
    "            output=output+lettera\n",
    "        else:\n",
    "            output=output+\",\"+lettera\n",
    "    return output\n",
    "\n",
    "print(separatoreStringa(12345))"
   ]
  },
  {
   "cell_type": "markdown",
   "metadata": {},
   "source": [
    "## Liste corrispondenti"
   ]
  },
  {
   "cell_type": "code",
   "execution_count": 18,
   "metadata": {},
   "outputs": [
    {
     "name": "stdout",
     "output_type": "stream",
     "text": [
      "Caronte ordina: Capricciosa\n",
      "Anna ordina: Diavola con olive taggiasche\n"
     ]
    }
   ],
   "source": [
    "listaGente=[\"Mario\",\"Anna\"]\n",
    "listaCibo=[\"Margherita\",\"Diavola con olive taggiasche\"]\n",
    "\n",
    "def printInvitato(indice):\n",
    "    print(listaGente[indice],end=\" ordina: \")\n",
    "    print(listaCibo[indice])\n",
    "\n",
    "def aggiungiInvitato(nome,ordine):\n",
    "    listaGente.append(nome)\n",
    "    listaCibo.append(ordine)\n",
    "\n",
    "def rimuoviInvitato(nome):\n",
    "    indice=0\n",
    "    while listaGente[indice]!=nome:\n",
    "        indice=indice+1\n",
    "    del(listaGente[indice])\n",
    "    del(listaCibo[indice])\n",
    "\n",
    "aggiungiInvitato(\"Caronte\",\"Capricciosa\")\n",
    "printInvitato(2)\n",
    "rimuoviInvitato(\"Caronte\")\n",
    "printInvitato(1)"
   ]
  },
  {
   "cell_type": "markdown",
   "metadata": {},
   "source": [
    "Esiste per lo stesso scopo anche il dizionario, ma è **molto** più avanzato"
   ]
  },
  {
   "cell_type": "code",
   "execution_count": 20,
   "metadata": {},
   "outputs": [
    {
     "name": "stdout",
     "output_type": "stream",
     "text": [
      "Viennese\n"
     ]
    }
   ],
   "source": [
    "gente={\"Mario\":\"Margherita\",\"Anna\":\"Viennese\"}\n",
    "\n",
    "print(gente[\"Anna\"])"
   ]
  }
 ],
 "metadata": {
  "interpreter": {
   "hash": "e083722571f9f0ec84a5baf48f347dbe11928b35218b5666fd9f4885e1b3b744"
  },
  "kernelspec": {
   "display_name": "Python 3.9.0 64-bit",
   "language": "python",
   "name": "python3"
  },
  "language_info": {
   "codemirror_mode": {
    "name": "ipython",
    "version": 3
   },
   "file_extension": ".py",
   "mimetype": "text/x-python",
   "name": "python",
   "nbconvert_exporter": "python",
   "pygments_lexer": "ipython3",
   "version": "3.9.0"
  },
  "orig_nbformat": 4
 },
 "nbformat": 4,
 "nbformat_minor": 2
}
