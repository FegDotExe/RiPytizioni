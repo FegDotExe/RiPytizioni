{
 "cells": [
  {
   "cell_type": "markdown",
   "metadata": {},
   "source": [
    "# Matrici\n",
    "\n",
    "Aka liste di liste"
   ]
  },
  {
   "cell_type": "code",
   "execution_count": 6,
   "metadata": {},
   "outputs": [
    {
     "name": "stdout",
     "output_type": "stream",
     "text": [
      "[[1, 2, 3, 4, 5], [1, 2, 3, 4, 5], [5, 4, 3, 2, 1], [1, 2, 3, 4, 5], [1, 2, 3, 4, 5]]\n",
      "[1, 2, 3, 4, 5]\n",
      "[1, 2, 3, 4, 5]\n",
      "[5, 4, 3, 2, 1]\n",
      "[1, 2, 3, 4, 5]\n",
      "[1, 2, 3, 4, 5]\n"
     ]
    }
   ],
   "source": [
    "lista=[1,2,3,4,5]\n",
    "listona=[lista,lista,[5,4,3,2,1],lista,lista]\n",
    "\n",
    "print(listona)\n",
    "\n",
    "for una_lista in listona:\n",
    "    print(una_lista)"
   ]
  },
  {
   "cell_type": "code",
   "execution_count": 14,
   "metadata": {},
   "outputs": [
    {
     "name": "stdout",
     "output_type": "stream",
     "text": [
      "1 2 3 4 5 \n",
      "1 2 3 4 5 \n",
      "5 4 3 2 1 \n",
      "1 2 3 4 5 \n",
      "1 2 3 4 5 \n"
     ]
    }
   ],
   "source": [
    "lista=[1,2,3,4,5]\n",
    "matrice=[lista,lista,[5,4,3,2,1],lista,lista]\n",
    "\n",
    "for riga in matrice:\n",
    "    for numero in riga:\n",
    "        print(numero,end=\" \")\n",
    "    print(\"\")"
   ]
  },
  {
   "cell_type": "markdown",
   "metadata": {},
   "source": [
    "## Esempio\n",
    "Fare una funzione elementoMatrice(mtx,i,j) che restituisce l'elemento alla riga i e alla colonna j della matrice"
   ]
  },
  {
   "cell_type": "code",
   "execution_count": 17,
   "metadata": {},
   "outputs": [
    {
     "data": {
      "text/plain": [
       "2"
      ]
     },
     "execution_count": 17,
     "metadata": {},
     "output_type": "execute_result"
    }
   ],
   "source": [
    "#Modalità semplice\n",
    "def elementoMatrice(mtx,i,j):\n",
    "    return mtx[i][j]\n",
    "\n",
    "elementoMatrice(matrice,2,3)"
   ]
  },
  {
   "cell_type": "markdown",
   "metadata": {},
   "source": [
    "# Compito\n",
    "\n",
    "[1,0,0]\n",
    "\n",
    "[0,1,0]\n",
    "\n",
    "[0,0,1]"
   ]
  },
  {
   "cell_type": "code",
   "execution_count": 29,
   "metadata": {},
   "outputs": [
    {
     "name": "stdout",
     "output_type": "stream",
     "text": [
      "True\n"
     ]
    }
   ],
   "source": [
    "def unitaria(m):\n",
    "    for i in range(len(m)):\n",
    "        # print(m[i])\n",
    "        # print(len(m[i]))\n",
    "        for j in range(len(m[i])):\n",
    "            if i==j:\n",
    "                # print(m[i][j])\n",
    "                if m[i][j]!=1:\n",
    "                    return False\n",
    "            else:\n",
    "                if m[i][j]!=0:\n",
    "                    return False\n",
    "    return True\n",
    "\n",
    "m=[\n",
    "    [1,0,0,0], #m[0]->m[i]\n",
    "    [0,1,0,0], #m[1]\n",
    "    [0,0,1,0],  #m[2]\n",
    "    [0,0,0,1]\n",
    "]\n",
    "print(unitaria(m))"
   ]
  },
  {
   "cell_type": "markdown",
   "metadata": {},
   "source": [
    "# Esercizio\n",
    "$\\begin{pmatrix}1&2&3\\\\ 2&3&4\\\\4&5&6\\end{pmatrix}$\n",
    "\n",
    "Scrivere una funzione estraiColonna(m,c) che estrae la colonna di indice c dalla matrice m e la ritorna come lista."
   ]
  },
  {
   "cell_type": "code",
   "execution_count": 36,
   "metadata": {},
   "outputs": [
    {
     "name": "stdout",
     "output_type": "stream",
     "text": [
      "[3, 4, 6, 7]\n"
     ]
    }
   ],
   "source": [
    "def estraiColonna(m,c):\n",
    "    output=[]\n",
    "    for i in range(len(m)):\n",
    "        output.append(m[i][c])\n",
    "    return output\n",
    "\n",
    "m=[\n",
    "    [1,2,3],\n",
    "    [2,3,4],\n",
    "    [4,5,6],\n",
    "    [5,6,7]\n",
    "]\n",
    "\n",
    "print(estraiColonna(m,2))"
   ]
  }
 ],
 "metadata": {
  "interpreter": {
   "hash": "ad0bde7d7f50bc082869a74b98121bcd367071a3ca0bcf1838fa0731e0e55dce"
  },
  "kernelspec": {
   "display_name": "Python 3.9.0 64-bit",
   "language": "python",
   "name": "python3"
  },
  "language_info": {
   "codemirror_mode": {
    "name": "ipython",
    "version": 3
   },
   "file_extension": ".py",
   "mimetype": "text/x-python",
   "name": "python",
   "nbconvert_exporter": "python",
   "pygments_lexer": "ipython3",
   "version": "3.9.0"
  },
  "orig_nbformat": 4
 },
 "nbformat": 4,
 "nbformat_minor": 2
}
