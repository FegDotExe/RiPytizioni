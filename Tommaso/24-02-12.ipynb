{
 "cells": [
  {
   "cell_type": "markdown",
   "metadata": {},
   "source": [
    "# Esercizio 1\n",
    "Scrivere una funzione `sostituisciPrimo(s,c)` che richiede come parametri una stringa `s` ed una lettera `c`, e che restituisce una stringa data da `s` cui è sostiuita la prima lettera e tutte le lettere uguali con il carattere `c`"
   ]
  },
  {
   "cell_type": "markdown",
   "metadata": {},
   "source": [
    "## Procedimento\n",
    "- Pensare ad un esempio a caso: `sostituisciPrimo(\"calcio\",\"%\")` restituirà `\"%al%io\"`\n",
    "- Per convertire `\"calcio\"` in `\"%al%io\"` si è prima di tutto guardata la prima lettera, poi una ad una si sono sostituite tutte le lettere uguali\n",
    "\n",
    "Si fanno le seguenti considerazioni:\n",
    "- Siccome si devono tenere in considerazione tutte le lettere, si dovrà usare un for.\n",
    "- Bisognerà avere una stringa nuova, essendo che si deve modificare la stringa di partenza"
   ]
  },
  {
   "cell_type": "markdown",
   "metadata": {},
   "source": [
    "## Tentativo 1"
   ]
  },
  {
   "cell_type": "code",
   "execution_count": 4,
   "metadata": {},
   "outputs": [
    {
     "ename": "TypeError",
     "evalue": "'str' object cannot be interpreted as an integer",
     "output_type": "error",
     "traceback": [
      "\u001b[1;31m---------------------------------------------------------------------------\u001b[0m",
      "\u001b[1;31mTypeError\u001b[0m                                 Traceback (most recent call last)",
      "\u001b[1;32m~\\AppData\\Local\\Temp/ipykernel_1288/1273213588.py\u001b[0m in \u001b[0;36m<module>\u001b[1;34m\u001b[0m\n\u001b[0;32m      3\u001b[0m         \u001b[0mprint\u001b[0m\u001b[1;33m(\u001b[0m\u001b[0mi\u001b[0m\u001b[1;33m)\u001b[0m\u001b[1;33m\u001b[0m\u001b[1;33m\u001b[0m\u001b[0m\n\u001b[0;32m      4\u001b[0m \u001b[1;33m\u001b[0m\u001b[0m\n\u001b[1;32m----> 5\u001b[1;33m \u001b[0msostituisciPrimo\u001b[0m\u001b[1;33m(\u001b[0m\u001b[1;34m\"calcio\"\u001b[0m\u001b[1;33m,\u001b[0m\u001b[1;34m\"%\"\u001b[0m\u001b[1;33m)\u001b[0m\u001b[1;33m\u001b[0m\u001b[1;33m\u001b[0m\u001b[0m\n\u001b[0m",
      "\u001b[1;32m~\\AppData\\Local\\Temp/ipykernel_1288/1273213588.py\u001b[0m in \u001b[0;36msostituisciPrimo\u001b[1;34m(s, c)\u001b[0m\n\u001b[0;32m      1\u001b[0m \u001b[1;32mdef\u001b[0m \u001b[0msostituisciPrimo\u001b[0m\u001b[1;33m(\u001b[0m\u001b[0ms\u001b[0m\u001b[1;33m,\u001b[0m\u001b[0mc\u001b[0m\u001b[1;33m)\u001b[0m\u001b[1;33m:\u001b[0m\u001b[1;33m\u001b[0m\u001b[1;33m\u001b[0m\u001b[0m\n\u001b[1;32m----> 2\u001b[1;33m     \u001b[1;32mfor\u001b[0m \u001b[0mi\u001b[0m \u001b[1;32min\u001b[0m \u001b[0mrange\u001b[0m\u001b[1;33m(\u001b[0m\u001b[0ms\u001b[0m\u001b[1;33m)\u001b[0m\u001b[1;33m:\u001b[0m\u001b[1;33m\u001b[0m\u001b[1;33m\u001b[0m\u001b[0m\n\u001b[0m\u001b[0;32m      3\u001b[0m         \u001b[0mprint\u001b[0m\u001b[1;33m(\u001b[0m\u001b[0mi\u001b[0m\u001b[1;33m)\u001b[0m\u001b[1;33m\u001b[0m\u001b[1;33m\u001b[0m\u001b[0m\n\u001b[0;32m      4\u001b[0m \u001b[1;33m\u001b[0m\u001b[0m\n\u001b[0;32m      5\u001b[0m \u001b[0msostituisciPrimo\u001b[0m\u001b[1;33m(\u001b[0m\u001b[1;34m\"calcio\"\u001b[0m\u001b[1;33m,\u001b[0m\u001b[1;34m\"%\"\u001b[0m\u001b[1;33m)\u001b[0m\u001b[1;33m\u001b[0m\u001b[1;33m\u001b[0m\u001b[0m\n",
      "\u001b[1;31mTypeError\u001b[0m: 'str' object cannot be interpreted as an integer"
     ]
    }
   ],
   "source": [
    "def sostituisciPrimo(s,c):\n",
    "    for i in range(s):\n",
    "        print(i)\n",
    "\n",
    "sostituisciPrimo(\"calcio\",\"%\")"
   ]
  },
  {
   "cell_type": "markdown",
   "metadata": {},
   "source": [
    "Esempio del fatto che le stringhe non si possano modificare"
   ]
  },
  {
   "cell_type": "code",
   "execution_count": 3,
   "metadata": {},
   "outputs": [
    {
     "name": "stdout",
     "output_type": "stream",
     "text": [
      "miao\n"
     ]
    }
   ],
   "source": [
    "stringa=\"ciao\"\n",
    "#stringa[0]=\"m\"\n",
    "\n",
    "stringa_nuova=\"m\"+stringa[1:]\n",
    "print(stringa_nuova)"
   ]
  },
  {
   "cell_type": "markdown",
   "metadata": {},
   "source": [
    "## Tentativo 2"
   ]
  },
  {
   "cell_type": "markdown",
   "metadata": {},
   "source": [
    "Per vedere ogni lettera in una stringa, basta fare così:\n",
    "```python\n",
    "for lettera in stringa:\n",
    "    print(lettera) #A questo punto si può considerare lettera come una lettera di stringa\n",
    "```"
   ]
  },
  {
   "cell_type": "code",
   "execution_count": 1,
   "metadata": {},
   "outputs": [
    {
     "name": "stdout",
     "output_type": "stream",
     "text": [
      "c\n",
      "a\n",
      "l\n",
      "c\n",
      "i\n",
      "o\n"
     ]
    }
   ],
   "source": [
    "def sostituisciPrimo(s,c):\n",
    "    for lettera in s:\n",
    "        if lettera==\"c\": #Questo non si riferisce alla prima lettera\n",
    "            pass\n",
    "\n",
    "sostituisciPrimo(\"calcio\",\"%\")\n",
    "#\"amica\"->\"%mic%\" \n",
    "#\"amica\"->\"ami%a\""
   ]
  },
  {
   "cell_type": "code",
   "execution_count": 3,
   "metadata": {},
   "outputs": [],
   "source": [
    "def sostituisciPrimo(s,c):\n",
    "    for lettera in s:\n",
    "        if lettera==1:\n",
    "            print(lettera)\n",
    "\n",
    "sostituisciPrimo(\"calcio\",\"%\")"
   ]
  },
  {
   "cell_type": "markdown",
   "metadata": {},
   "source": [
    "## Tentativo 3\n",
    "Serve avere una variabile che contenga la prima lettera\n",
    "\n",
    "L'approccio migliore per creare una nuova stringa, almeno in questo caso, è di crearne una vuota e aggiungervi man mano dei pezzi"
   ]
  },
  {
   "cell_type": "code",
   "execution_count": 1,
   "metadata": {},
   "outputs": [
    {
     "data": {
      "text/plain": [
       "'%al%io'"
      ]
     },
     "execution_count": 1,
     "metadata": {},
     "output_type": "execute_result"
    }
   ],
   "source": [
    "def sostituisciPrimo(s,c):\n",
    "    nuovaStringa=\"\"\n",
    "    primaLettera=s[0]\n",
    "    for lettera in s:\n",
    "        if lettera==primaLettera:\n",
    "            nuovaStringa+=c\n",
    "        else:\n",
    "            nuovaStringa+=lettera\n",
    "    return nuovaStringa\n",
    "\n",
    "sostituisciPrimo(\"calcio\",\"%\")\n",
    "#\"%al%io\""
   ]
  },
  {
   "cell_type": "markdown",
   "metadata": {},
   "source": [
    "# Esercizio 2\n",
    "Scrivi una funzione `piuLunga(s)` che restituisce la parola più lunga nella frase `s` e di quante lettere è composta\n",
    "\n",
    "`\"Salve a tutti quanti i presenti\"`->`(\"presenti\",8)`"
   ]
  },
  {
   "cell_type": "code",
   "execution_count": 13,
   "metadata": {},
   "outputs": [
    {
     "data": {
      "text/plain": [
       "('presenti', 8)"
      ]
     },
     "execution_count": 13,
     "metadata": {},
     "output_type": "execute_result"
    }
   ],
   "source": [
    "def piuLunga(s):\n",
    "    parola=\"\"\n",
    "    parolaPiuLunga=\"\"\n",
    "    for i in range(len(s)):\n",
    "        if s[i]!=\" \" and i!=len(s)-1:\n",
    "            parola+=s[i]\n",
    "        else:\n",
    "            if i==len(s)-1:\n",
    "                parola+=s[i]\n",
    "            #print(parola)\n",
    "\n",
    "            #Questa è la zona in cui si devono fare i calcoli sulla parola più lunga\n",
    "            if len(parola)>len(parolaPiuLunga):\n",
    "                parolaPiuLunga=parola\n",
    "\n",
    "            parola=\"\"\n",
    "    return parolaPiuLunga, len(parolaPiuLunga)\n",
    "\n",
    "piuLunga(\"Salve a tutti quanti i presenti\")"
   ]
  },
  {
   "cell_type": "markdown",
   "metadata": {},
   "source": [
    "# Generalità\n",
    "- Se si ha un problema che chiede di prendere in considerazione tutti gli elementi di un insieme, quale operatore va usato? *Il for*\n",
    "    - Ad esempio, se si devono stampare tutte le lettere di una stringa, il for è il metodo migliore:\n",
    "        ```python\n",
    "        s=\"ciao\"\n",
    "        for lettera in s:\n",
    "            print(s)\n",
    "        ```\n",
    "    - Va tenuto presente che usare il for è molto utile, perchè ti permette di guardare tutte le lettere *una per una*. Di solito MOLTISSIMI algoritmi hanno bisogno di guardare le cose una per una, perché non sono intelligenti come gli esseri umani\n",
    "- Quando si ha un codice, questo non deve funzionare per un singolo caso specifico, ma deve funzionare sempre! Immaginiamo di avere un programma che deve togliere l'ultima lettera di una stringa.\n",
    "    - Approccio sbaliato:\n",
    "        ```python\n",
    "        s=\"ciao\"\n",
    "        s=s[0:3] #Questo prende tutte le lettere dalla prima alla terza\n",
    "        ```\n",
    "        Il problema con questo approccio è che non si può mai essere sicuri dell'input che si avrà: se venisse data una parola di lunghezza diversa da 4, nascono problemi\n",
    "    - Approccio corretto:\n",
    "        ```python\n",
    "        s=\"ciao\"\n",
    "        s=s[0:(len(s)-1)] #Questo prende tutte le lettere dalla prima alla penultima\n",
    "        ```\n",
    "        Questo metodo funziona con *qualsiasi* valore di `s`"
   ]
  }
 ],
 "metadata": {
  "interpreter": {
   "hash": "e083722571f9f0ec84a5baf48f347dbe11928b35218b5666fd9f4885e1b3b744"
  },
  "kernelspec": {
   "display_name": "Python 3.9.0 64-bit",
   "language": "python",
   "name": "python3"
  },
  "language_info": {
   "codemirror_mode": {
    "name": "ipython",
    "version": 3
   },
   "file_extension": ".py",
   "mimetype": "text/x-python",
   "name": "python",
   "nbconvert_exporter": "python",
   "pygments_lexer": "ipython3",
   "version": "3.9.0"
  },
  "orig_nbformat": 4
 },
 "nbformat": 4,
 "nbformat_minor": 2
}
