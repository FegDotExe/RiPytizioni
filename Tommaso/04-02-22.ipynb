{
 "cells": [
  {
   "cell_type": "markdown",
   "metadata": {},
   "source": [
    "# Esercizio 1\n",
    "Scrivi una funzione di nome palindrome(s) che data una stringa s passata come parametro, ritorna true se la stringa è palindrome, false altrimenti.\n",
    "In celle separate produrre tanti test quanti sono i casi possibili."
   ]
  },
  {
   "cell_type": "code",
   "execution_count": 20,
   "metadata": {},
   "outputs": [
    {
     "data": {
      "text/plain": [
       "True"
      ]
     },
     "execution_count": 20,
     "metadata": {},
     "output_type": "execute_result"
    }
   ],
   "source": [
    "def palindrome(s):\n",
    "    test_da_fare=0\n",
    "    if len(s)/2>len(s)//2:\n",
    "        test_da_fare=len(s)//2+1\n",
    "    else:\n",
    "        test_da_fare=len(s)//2\n",
    "    for i in range(test_da_fare):\n",
    "        if s[i]!=s[-i-1]:\n",
    "            return False\n",
    "    return True"
   ]
  },
  {
   "cell_type": "code",
   "execution_count": 14,
   "metadata": {},
   "outputs": [
    {
     "name": "stdout",
     "output_type": "stream",
     "text": [
      "True\n"
     ]
    }
   ],
   "source": [
    "print(palindrome(\"radar\"))"
   ]
  },
  {
   "cell_type": "code",
   "execution_count": 15,
   "metadata": {},
   "outputs": [
    {
     "name": "stdout",
     "output_type": "stream",
     "text": [
      "False\n"
     ]
    }
   ],
   "source": [
    "print(palindrome(\"ciao\"))"
   ]
  },
  {
   "cell_type": "code",
   "execution_count": 21,
   "metadata": {},
   "outputs": [
    {
     "name": "stdout",
     "output_type": "stream",
     "text": [
      "True\n"
     ]
    }
   ],
   "source": [
    "print(palindrome(\"\"))"
   ]
  },
  {
   "cell_type": "markdown",
   "metadata": {},
   "source": [
    "# Richieste"
   ]
  },
  {
   "cell_type": "code",
   "execution_count": 27,
   "metadata": {},
   "outputs": [
    {
     "name": "stdout",
     "output_type": "stream",
     "text": [
      "https://cdn.mangaworld.in/chapters/death-note-5f765d62191ebd03ee7f235f/volume-01-5f766a7b191ebd03ee7f23bf/capitolo-01-5f766a7b191ebd03ee7f23c0/2.png\n"
     ]
    }
   ],
   "source": [
    "import requests\n",
    "import re\n",
    "\n",
    "numero=2\n",
    "\n",
    "pagina_1=requests.get(f\"https://www.mangaworld.in/manga/542/death-note/read/5f766a7b191ebd03ee7f23c0/{numero}\")\n",
    "\n",
    "image=re.search(\"<img class=img-fluid src=(.*?)>\" ,pagina_1.text).group(1)\n",
    "print(image)\n",
    "\n",
    "\"\"\"with open(\"pagina_1.html\",\"w\",encoding=\"utf-8\") as f:\n",
    "    f.write(pagina_1.text)\"\"\"\n",
    "\n",
    "with open(f\"pagina_{numero}.png\",\"wb\") as f:\n",
    "    f.write(requests.get(image).content)"
   ]
  },
  {
   "cell_type": "markdown",
   "metadata": {},
   "source": [
    "# Gestione file"
   ]
  },
  {
   "cell_type": "code",
   "execution_count": 42,
   "metadata": {},
   "outputs": [
    {
     "name": "stdout",
     "output_type": "stream",
     "text": [
      "ciao: False\n"
     ]
    }
   ],
   "source": [
    "with open(\"gente.txt\",\"r\") as f:\n",
    "    pagina_1=f.read()\n",
    "\n",
    "#Facciamo printare tutte le parole in una riga diversa\n",
    "lista_parole=pagina_1.split(\" \")\n",
    "for parola in lista_parole: #Questo fa sempre per tutte le parole\n",
    "    print(f\"{parola}: {palindrome(parola)}\")"
   ]
  },
  {
   "cell_type": "markdown",
   "metadata": {},
   "source": [
    "# Liste e for"
   ]
  },
  {
   "cell_type": "code",
   "execution_count": 2,
   "metadata": {},
   "outputs": [
    {
     "name": "stdout",
     "output_type": "stream",
     "text": [
      "4\n",
      "Ciccio\n",
      "Pippo\n",
      "Pluto\n",
      "Paperino\n"
     ]
    }
   ],
   "source": [
    "lista_invitati=[\"Ciccio\",\"Pippo\",\"Pluto\",\"Paperino\"] #Non possiamo sapere a priori la lunghezza della lista\n",
    "\n",
    "#Possiamo sapere la lunghezza della lista con len(lista)\n",
    "print(len(lista_invitati))\n",
    "\n",
    "#Usando il tuo metodo, possiamo fare\n",
    "i=0\n",
    "while i<len(lista_invitati):\n",
    "    print(lista_invitati[i])\n",
    "    i+=1"
   ]
  }
 ],
 "metadata": {
  "interpreter": {
   "hash": "e083722571f9f0ec84a5baf48f347dbe11928b35218b5666fd9f4885e1b3b744"
  },
  "kernelspec": {
   "display_name": "Python 3.9.0 64-bit",
   "language": "python",
   "name": "python3"
  },
  "language_info": {
   "codemirror_mode": {
    "name": "ipython",
    "version": 3
   },
   "file_extension": ".py",
   "mimetype": "text/x-python",
   "name": "python",
   "nbconvert_exporter": "python",
   "pygments_lexer": "ipython3",
   "version": "3.9.0"
  },
  "orig_nbformat": 4
 },
 "nbformat": 4,
 "nbformat_minor": 2
}
