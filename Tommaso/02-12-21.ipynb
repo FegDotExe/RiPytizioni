{
 "cells": [
  {
   "cell_type": "markdown",
   "metadata": {},
   "source": [
    "# Fibonacci"
   ]
  },
  {
   "cell_type": "code",
   "execution_count": 10,
   "metadata": {},
   "outputs": [
    {
     "name": "stdout",
     "output_type": "stream",
     "text": [
      "8\n"
     ]
    }
   ],
   "source": [
    "def fibonacci(indice):\n",
    "    i=0#Un numero da aumentare man mano\n",
    "    output=0#Il valore restituito\n",
    "\n",
    "    precedente1=0\n",
    "    precedente2=0\n",
    "\n",
    "    while i<=indice:\n",
    "        output=precedente1+precedente2\n",
    "\n",
    "        if i==1:\n",
    "            precedente1=0\n",
    "            precedente2=1\n",
    "            output=1\n",
    "        elif i>=2:\n",
    "            precedente1=precedente2\n",
    "            precedente2=output\n",
    "\n",
    "        i=i+1\n",
    "    return output\n",
    "\n",
    "print(fibonacci(6))"
   ]
  },
  {
   "cell_type": "code",
   "execution_count": 7,
   "metadata": {},
   "outputs": [
    {
     "data": {
      "text/plain": [
       "832040"
      ]
     },
     "execution_count": 7,
     "metadata": {},
     "output_type": "execute_result"
    }
   ],
   "source": [
    "def fibRicorsivo(indice):\n",
    "    #print(\"Sono entrato in fibonacci ricorsivo con indice \"+str(indice))\n",
    "    if indice==0:\n",
    "        return 0\n",
    "    elif indice==1:\n",
    "        return 1\n",
    "    elif indice>=2:\n",
    "        return fibRicorsivo(indice-1)+fibRicorsivo(indice-2)\n",
    "\n",
    "fibRicorsivo(30)"
   ]
  },
  {
   "cell_type": "markdown",
   "metadata": {},
   "source": [
    "# For"
   ]
  },
  {
   "cell_type": "code",
   "execution_count": 13,
   "metadata": {},
   "outputs": [
    {
     "name": "stdout",
     "output_type": "stream",
     "text": [
      "1\n",
      "2\n",
      "3\n",
      "4\n",
      "5\n",
      "6\n",
      "7\n",
      "8\n",
      "9\n",
      "10\n"
     ]
    }
   ],
   "source": [
    "def printDaA(inizio,fine):\n",
    "    while inizio<=fine:\n",
    "        print(inizio)\n",
    "        inizio=inizio+1\n",
    "\n",
    "printDaA(1,10)"
   ]
  },
  {
   "cell_type": "code",
   "execution_count": 16,
   "metadata": {},
   "outputs": [
    {
     "name": "stdout",
     "output_type": "stream",
     "text": [
      "1\n",
      "2\n",
      "3\n",
      "4\n",
      "5\n",
      "6\n",
      "7\n",
      "8\n",
      "9\n",
      "10\n"
     ]
    }
   ],
   "source": [
    "def printDaAFor(inizio,fine):\n",
    "    for i in range(inizio,fine+1):\n",
    "        print(i)\n",
    "\n",
    "printDaAFor(1,10)"
   ]
  },
  {
   "cell_type": "code",
   "execution_count": 20,
   "metadata": {},
   "outputs": [
    {
     "name": "stdout",
     "output_type": "stream",
     "text": [
      "omissihgnul id asoclauq os ol noN\n"
     ]
    }
   ],
   "source": [
    "stringa=\"Non lo so qualcosa di lunghissimo\"\n",
    "stringa_finale=\"\"\n",
    "for lettera in stringa:\n",
    "    stringa_finale=lettera+stringa_finale\n",
    "\n",
    "print(stringa_finale)"
   ]
  },
  {
   "cell_type": "markdown",
   "metadata": {},
   "source": [
    "Va tenuto a mente che le variabili dichiarate con il for sono momentanee"
   ]
  },
  {
   "cell_type": "code",
   "execution_count": 22,
   "metadata": {},
   "outputs": [
    {
     "name": "stdout",
     "output_type": "stream",
     "text": [
      "0\n",
      "1\n",
      "2\n",
      "3\n",
      "4\n",
      "5\n",
      "6\n",
      "7\n",
      "8\n",
      "9\n",
      "Sono fuori dal loop\n",
      "10\n"
     ]
    }
   ],
   "source": [
    "i=0\n",
    "while i<10:\n",
    "    print(i)\n",
    "    i=i+1\n",
    "\n",
    "print(\"Sono fuori dal loop\")\n",
    "print(i)"
   ]
  },
  {
   "cell_type": "code",
   "execution_count": 25,
   "metadata": {},
   "outputs": [
    {
     "name": "stdout",
     "output_type": "stream",
     "text": [
      "1\n",
      "2\n",
      "3\n",
      "4\n",
      "5\n",
      "6\n",
      "7\n",
      "8\n",
      "9\n",
      "Sono fuori dal loop\n",
      "9\n"
     ]
    }
   ],
   "source": [
    "for a in range(1,10):\n",
    "    print(a)\n",
    "\n",
    "print(\"Sono fuori dal loop\")\n",
    "print(a)"
   ]
  },
  {
   "cell_type": "markdown",
   "metadata": {},
   "source": [
    "**For** fa il print di 9 e non di 10 come faceva while"
   ]
  },
  {
   "cell_type": "markdown",
   "metadata": {},
   "source": [
    "# Dado30"
   ]
  },
  {
   "cell_type": "markdown",
   "metadata": {},
   "source": [
    "- Devo eseguire n lanci\n",
    "- Devo verificare che entrambe le facce si verifichino lo stesso numero di volte->questo significa che devo anche avere delle variabili che contino quante volte la faccia corrisponde\n",
    "- Deve ritornare True se entrambe le facce sono uscite lo stesso numero di volte->questo significa che basta una differenza per rendere questo falso"
   ]
  },
  {
   "cell_type": "code",
   "execution_count": 40,
   "metadata": {},
   "outputs": [
    {
     "data": {
      "text/plain": [
       "True"
      ]
     },
     "execution_count": 40,
     "metadata": {},
     "output_type": "execute_result"
    }
   ],
   "source": [
    "import random\n",
    "\n",
    "def dado30(n,f1,f2):\n",
    "    volteFaccia1=0\n",
    "    volteFaccia2=0\n",
    "    for i in range(0,n):\n",
    "        lancio=random.randint(1,30)\n",
    "        if lancio==f1:\n",
    "            volteFaccia1=volteFaccia1+1\n",
    "        if lancio==f2:\n",
    "            volteFaccia2=volteFaccia2+1\n",
    "    if volteFaccia1==volteFaccia2:\n",
    "        return True\n",
    "    else:\n",
    "        return False\n",
    "\n",
    "dado30(30,1,2)"
   ]
  },
  {
   "cell_type": "markdown",
   "metadata": {},
   "source": [
    "## Numero primo\n",
    "\n",
    "La funzione richiede un parametro e restituisce True se il numero è primo\n",
    "- Un numero è primo se quando diviso per qualsiasi numero prima di esso il resto è diverso da 0\n",
    "- Dovremo prendere ogni numero da 2 a n-1 e vedere se n%altro_numero è != 0->se è diverso da 0, allora non è divisibile per quel numero"
   ]
  },
  {
   "cell_type": "markdown",
   "metadata": {},
   "source": [
    "### #1"
   ]
  },
  {
   "cell_type": "code",
   "execution_count": null,
   "metadata": {},
   "outputs": [],
   "source": [
    "def primo(n):\n",
    "    if n>2:\n",
    "        pass"
   ]
  },
  {
   "cell_type": "markdown",
   "metadata": {},
   "source": [
    "### #2"
   ]
  },
  {
   "cell_type": "code",
   "execution_count": 14,
   "metadata": {},
   "outputs": [
    {
     "name": "stdout",
     "output_type": "stream",
     "text": [
      "False\n"
     ]
    }
   ],
   "source": [
    "def primo(n):\n",
    "\n",
    "    ePrimo=True\n",
    "\n",
    "    for i in range(2,n):\n",
    "        if n%i==0:\n",
    "            ePrimo=False\n",
    "            break#Per risparmiargli giri inutili\n",
    "\n",
    "    return ePrimo\n",
    "\n",
    "print(primo(4000))"
   ]
  }
 ],
 "metadata": {
  "interpreter": {
   "hash": "e083722571f9f0ec84a5baf48f347dbe11928b35218b5666fd9f4885e1b3b744"
  },
  "kernelspec": {
   "display_name": "Python 3.9.0 64-bit",
   "language": "python",
   "name": "python3"
  },
  "language_info": {
   "codemirror_mode": {
    "name": "ipython",
    "version": 3
   },
   "file_extension": ".py",
   "mimetype": "text/x-python",
   "name": "python",
   "nbconvert_exporter": "python",
   "pygments_lexer": "ipython3",
   "version": "3.9.0"
  },
  "orig_nbformat": 4
 },
 "nbformat": 4,
 "nbformat_minor": 2
}
