{
 "cells": [
  {
   "cell_type": "markdown",
   "metadata": {},
   "source": [
    "# Esercizio\n",
    "Costruisci una funzione di nome `scambia(s,i,j)` ceh data una stringa `s` e due interi `i` e `j` (ammissibili come indici della stringa `s` e con $i<j$) ritorna una nuova stringa in cui i caratteri relativi ai due indici sono scambiati."
   ]
  },
  {
   "cell_type": "code",
   "execution_count": 7,
   "metadata": {},
   "outputs": [
    {
     "name": "stdout",
     "output_type": "stream",
     "text": [
      "Sadamanlra\n"
     ]
    }
   ],
   "source": [
    "# \"ciao\", 0, 3\n",
    "# Mi ricordo quali sono le lettere nelle posizioni stabilite, quindi c e o; copio il resto e poi metto le lettere invertite\n",
    "\n",
    "def scambia(s,i,j):\n",
    "    lettera1=s[i]\n",
    "    lettera2=s[j]\n",
    "    output=\"\"\n",
    "    output=s[:i] #Copia tutto quello che viene prima della prima lettera che si scambierà\n",
    "    output+=lettera2\n",
    "    output+=s[i+1:j]\n",
    "    output+=lettera1\n",
    "    output+=s[j+1:]\n",
    "    return output\n",
    "\n",
    "print(scambia(\"Salamandra\",2,7))"
   ]
  },
  {
   "cell_type": "code",
   "execution_count": 16,
   "metadata": {},
   "outputs": [
    {
     "name": "stdout",
     "output_type": "stream",
     "text": [
      "3\n",
      "012\n",
      "3456789\n",
      "345\n",
      "0\n"
     ]
    }
   ],
   "source": [
    "stringaProva=\"0123456789\"\n",
    "print(stringaProva[3])\n",
    "print(stringaProva[:3])\n",
    "print(stringaProva[3:])\n",
    "print(stringaProva[3:6])\n",
    "\n",
    "print(stringaProva[:3:6])"
   ]
  },
  {
   "cell_type": "code",
   "execution_count": 18,
   "metadata": {},
   "outputs": [
    {
     "name": "stdout",
     "output_type": "stream",
     "text": [
      "['marco', 'lucio']\n"
     ]
    }
   ],
   "source": [
    "listaProva=[\"marco\",\"lucio\",\"lina\"]\n",
    "print(listaProva[:2])"
   ]
  },
  {
   "cell_type": "markdown",
   "metadata": {},
   "source": [
    "# Altro esercizio\n",
    "Costruisci una funzion di nome `ordina(s)` che data una stringa `s` ritorna una nuova stringa in cui i caratteri della stringa originaria sono disposti in ordine crescente"
   ]
  },
  {
   "cell_type": "code",
   "execution_count": null,
   "metadata": {},
   "outputs": [],
   "source": [
    "#bca\n",
    "#abc\n",
    "\n",
    "#abcba\n",
    "#abc\n",
    "\n",
    "#zanzara\n",
    "#anzz"
   ]
  },
  {
   "cell_type": "code",
   "execution_count": 41,
   "metadata": {},
   "outputs": [
    {
     "name": "stdout",
     "output_type": "stream",
     "text": [
      "aaanrzz\n"
     ]
    }
   ],
   "source": [
    "def ordina(s):\n",
    "    s1=\"\"\n",
    "    for i in range(len(s)):\n",
    "        for j in range(len(s1)+1):\n",
    "            if j==len(s1):\n",
    "                s1+=s[i]\n",
    "                break\n",
    "            if s[i]<=s1[j]:\n",
    "                s1=s1[:j]+s[i]+s1[j:]\n",
    "                break\n",
    "    return s1\n",
    "\n",
    "print(ordina(\"zanzara\"))"
   ]
  },
  {
   "cell_type": "markdown",
   "metadata": {},
   "source": [
    "Io voglio spezzare una stringa in due:"
   ]
  },
  {
   "cell_type": "code",
   "execution_count": 42,
   "metadata": {},
   "outputs": [
    {
     "name": "stdout",
     "output_type": "stream",
     "text": [
      "Cal_amari\n"
     ]
    }
   ],
   "source": [
    "stringa=\"Calamari\"\n",
    "print(stringa[:3]+\"_\"+stringa[3:])"
   ]
  },
  {
   "cell_type": "markdown",
   "metadata": {},
   "source": [
    "# Esercizio tanto per\n",
    "Costruisci una funzione scambiaParti(s,i) che scambia di posto i due pezzi della stringa s separati dall'indice i\n",
    "\n",
    "scambiaParti(\"ciao\",2)->\"aoci\": \"ci\" \\*indice 2\\* \"ao\"->li scambia->\"aoci\""
   ]
  },
  {
   "cell_type": "code",
   "execution_count": 44,
   "metadata": {},
   "outputs": [
    {
     "name": "stdout",
     "output_type": "stream",
     "text": [
      "mariCala\n"
     ]
    }
   ],
   "source": [
    "def scambiaParti(s,i):\n",
    "    return s[i:]+s[:i]\n",
    "\n",
    "print(scambiaParti(\"Calamari\",4))"
   ]
  },
  {
   "cell_type": "code",
   "execution_count": 45,
   "metadata": {},
   "outputs": [
    {
     "name": "stdout",
     "output_type": "stream",
     "text": [
      "mariCala\n"
     ]
    }
   ],
   "source": [
    "def scambiaParti(s,i):\n",
    "    s1=\"\"\n",
    "    j=i\n",
    "    while j<len(s):\n",
    "        s1+=s[j]\n",
    "        j+=1\n",
    "    j=0\n",
    "    while j<i:\n",
    "        s1+=s[j]\n",
    "        j+=1\n",
    "    return s1\n",
    "\n",
    "print(scambiaParti(\"Calamari\",4))"
   ]
  }
 ],
 "metadata": {
  "interpreter": {
   "hash": "e083722571f9f0ec84a5baf48f347dbe11928b35218b5666fd9f4885e1b3b744"
  },
  "kernelspec": {
   "display_name": "Python 3.9.0 64-bit",
   "language": "python",
   "name": "python3"
  },
  "language_info": {
   "codemirror_mode": {
    "name": "ipython",
    "version": 3
   },
   "file_extension": ".py",
   "mimetype": "text/x-python",
   "name": "python",
   "nbconvert_exporter": "python",
   "pygments_lexer": "ipython3",
   "version": "3.9.0"
  },
  "orig_nbformat": 4
 },
 "nbformat": 4,
 "nbformat_minor": 2
}
