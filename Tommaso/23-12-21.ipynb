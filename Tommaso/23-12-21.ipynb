{
 "cells": [
  {
   "cell_type": "markdown",
   "metadata": {},
   "source": [
    "# Altre meraviglie sulle liste"
   ]
  },
  {
   "cell_type": "code",
   "execution_count": 9,
   "metadata": {},
   "outputs": [
    {
     "name": "stdout",
     "output_type": "stream",
     "text": [
      "1\n",
      "11\n",
      "11\n",
      "10\n"
     ]
    }
   ],
   "source": [
    "listaEsempio=[1,2,3,4,5,6,7,8,9,10,11]\n",
    "\n",
    "#Per stampare il primo, si fa\n",
    "print(listaEsempio[0])\n",
    "\n",
    "#Per stampare l'ultimo?\n",
    "print(listaEsempio[len(listaEsempio)-1])\n",
    "print(listaEsempio[-1])\n",
    "\n",
    "print(listaEsempio[-2])\n",
    "\n",
    "#print(listaEsempio[-50])#Lancia un errore"
   ]
  },
  {
   "cell_type": "markdown",
   "metadata": {},
   "source": [
    "Mettiamo di voler prendere solo i primi 5 elementi di una lista"
   ]
  },
  {
   "cell_type": "code",
   "execution_count": 21,
   "metadata": {},
   "outputs": [],
   "source": [
    "lista2=[0,1,2,3,4,5,6,7,8,9]"
   ]
  },
  {
   "cell_type": "markdown",
   "metadata": {},
   "source": [
    "Maniera greve"
   ]
  },
  {
   "cell_type": "code",
   "execution_count": 22,
   "metadata": {},
   "outputs": [
    {
     "name": "stdout",
     "output_type": "stream",
     "text": [
      "[0, 1, 2, 3, 4]\n"
     ]
    }
   ],
   "source": [
    "def primiNElementi(n):\n",
    "    listaOutput=[]\n",
    "    for i in range(0,n):\n",
    "        listaOutput.append(lista2[i])\n",
    "    return listaOutput\n",
    "\n",
    "print(primiNElementi(5))"
   ]
  },
  {
   "cell_type": "markdown",
   "metadata": {},
   "source": [
    "Maniera migliore"
   ]
  },
  {
   "cell_type": "code",
   "execution_count": 23,
   "metadata": {},
   "outputs": [
    {
     "name": "stdout",
     "output_type": "stream",
     "text": [
      "[0, 1, 2, 3, 4]\n"
     ]
    }
   ],
   "source": [
    "listaOutput=lista2[0:5]\n",
    "print(listaOutput)"
   ]
  },
  {
   "cell_type": "markdown",
   "metadata": {},
   "source": [
    "Si può usare anche in altre maniere"
   ]
  },
  {
   "cell_type": "code",
   "execution_count": 24,
   "metadata": {},
   "outputs": [
    {
     "name": "stdout",
     "output_type": "stream",
     "text": [
      "[0, 1, 2, 3, 4]\n",
      "[5, 6, 7, 8, 9]\n",
      "[5, 6]\n"
     ]
    }
   ],
   "source": [
    "print(lista2[:5])\n",
    "print(lista2[5:])\n",
    "print(lista2[5:7])"
   ]
  },
  {
   "cell_type": "code",
   "execution_count": 26,
   "metadata": {},
   "outputs": [
    {
     "name": "stdout",
     "output_type": "stream",
     "text": [
      "[0, 1, 2, 3, 4]\n"
     ]
    }
   ],
   "source": [
    "def primiNElementi(n):\n",
    "    listaOutput=lista2[:n]\n",
    "    return listaOutput\n",
    "\n",
    "print(primiNElementi(5))"
   ]
  },
  {
   "cell_type": "code",
   "execution_count": null,
   "metadata": {},
   "outputs": [],
   "source": [
    "listaNuova=[lista2, [1,2,3], [5,6,7]]"
   ]
  },
  {
   "cell_type": "markdown",
   "metadata": {},
   "source": [
    "## Trucchi vari"
   ]
  },
  {
   "cell_type": "code",
   "execution_count": 29,
   "metadata": {},
   "outputs": [
    {
     "name": "stdout",
     "output_type": "stream",
     "text": [
      "[0, 1, 2, 3, 4, 5, 6, 7, 8, 9, 10, 11, 12, 13, 14, 15, 16, 17, 18, 19, 20, 21, 22, 23, 24, 25, 26, 27, 28, 29, 30, 31, 32, 33, 34, 35, 36, 37, 38, 39, 40, 41, 42, 43, 44, 45, 46, 47, 48, 49]\n"
     ]
    }
   ],
   "source": [
    "listaPazza=[i for i in range(0,50)]\n",
    "print(listaPazza)"
   ]
  },
  {
   "cell_type": "code",
   "execution_count": 30,
   "metadata": {},
   "outputs": [
    {
     "name": "stdout",
     "output_type": "stream",
     "text": [
      "[0, 1, 2, 3, 4, 5, 6, 7, 8, 9, 10, 11, 12, 13, 14, 15, 16, 17, 18, 19, 20, 21, 22, 23, 24, 25, 26, 27, 28, 29, 30, 31, 32, 33, 34, 35, 36, 37, 38, 39, 40, 41, 42, 43, 44, 45, 46, 47, 48, 49]\n"
     ]
    }
   ],
   "source": [
    "listaPazza2=[]\n",
    "for i in range(0,50):\n",
    "    listaPazza2.append(i)\n",
    "\n",
    "print(listaPazza2)"
   ]
  },
  {
   "cell_type": "markdown",
   "metadata": {},
   "source": [
    "Se volessi separare le lettere di una stringa e metterle in una lista, potrei farlo usando questo metodo"
   ]
  },
  {
   "cell_type": "code",
   "execution_count": 31,
   "metadata": {},
   "outputs": [
    {
     "name": "stdout",
     "output_type": "stream",
     "text": [
      "['S', 'a', 'l', 'v', 'e']\n"
     ]
    }
   ],
   "source": [
    "stringa=\"Salve\"\n",
    "listaStringa=[lettera for lettera in stringa]\n",
    "print(listaStringa)"
   ]
  },
  {
   "cell_type": "markdown",
   "metadata": {},
   "source": [
    "# Parametri espliciti e da tastiera"
   ]
  },
  {
   "cell_type": "code",
   "execution_count": 36,
   "metadata": {},
   "outputs": [
    {
     "name": "stdout",
     "output_type": "stream",
     "text": [
      "Ciao-------"
     ]
    },
    {
     "ename": "TypeError",
     "evalue": "cose() missing 1 required positional argument: 'a'",
     "output_type": "error",
     "traceback": [
      "\u001b[1;31m---------------------------------------------------------------------------\u001b[0m",
      "\u001b[1;31mTypeError\u001b[0m                                 Traceback (most recent call last)",
      "\u001b[1;32m~\\AppData\\Local\\Temp/ipykernel_13664/2219751779.py\u001b[0m in \u001b[0;36m<module>\u001b[1;34m\u001b[0m\n\u001b[0;32m      4\u001b[0m     \u001b[1;32mreturn\u001b[0m \u001b[0ma\u001b[0m\u001b[1;33m\u001b[0m\u001b[1;33m\u001b[0m\u001b[0m\n\u001b[0;32m      5\u001b[0m \u001b[1;33m\u001b[0m\u001b[0m\n\u001b[1;32m----> 6\u001b[1;33m \u001b[0mcose\u001b[0m\u001b[1;33m(\u001b[0m\u001b[1;33m)\u001b[0m\u001b[1;33m\u001b[0m\u001b[1;33m\u001b[0m\u001b[0m\n\u001b[0m",
      "\u001b[1;31mTypeError\u001b[0m: cose() missing 1 required positional argument: 'a'"
     ]
    }
   ],
   "source": [
    "print(\"Ciao\",end=\"-------\")\n",
    "\n",
    "def cose(a):\n",
    "    return a\n",
    "\n",
    "cose()"
   ]
  },
  {
   "cell_type": "markdown",
   "metadata": {},
   "source": [
    "Perché print può fare queste meraviglie?"
   ]
  },
  {
   "cell_type": "code",
   "execution_count": 39,
   "metadata": {},
   "outputs": [
    {
     "name": "stdout",
     "output_type": "stream",
     "text": [
      "8\n"
     ]
    }
   ],
   "source": [
    "def potenza(a,b):\n",
    "    risultato=1\n",
    "    i=0\n",
    "    while i<b:\n",
    "        risultato=risultato*a\n",
    "        i=i+1\n",
    "    return risultato\n",
    "\n",
    "print(potenza(2,3))"
   ]
  },
  {
   "cell_type": "markdown",
   "metadata": {},
   "source": [
    "Ma se io volessi che di suo facesse la potenza di 2??"
   ]
  },
  {
   "cell_type": "code",
   "execution_count": 44,
   "metadata": {},
   "outputs": [
    {
     "name": "stdout",
     "output_type": "stream",
     "text": [
      "64\n"
     ]
    }
   ],
   "source": [
    "def potenzaSmart(a,b=2):\n",
    "    risultato=1\n",
    "    i=0\n",
    "    while i<b:\n",
    "        risultato=risultato*a\n",
    "        i=i+1\n",
    "    return risultato\n",
    "\n",
    "print(potenzaSmart(4,b=3))"
   ]
  },
  {
   "cell_type": "code",
   "execution_count": 50,
   "metadata": {},
   "outputs": [
    {
     "name": "stdout",
     "output_type": "stream",
     "text": [
      "543321\n",
      "zbb\n"
     ]
    }
   ],
   "source": [
    "def funzioneACaso(a=\"\",b=\"\",c=\"\",d=\"\",e=\"\"):#Quelli già definiti sono detti argomenti/parametri da tastiera\n",
    "    print(e+d+c+c+b+a)\n",
    "\n",
    "funzioneACaso(\"1\",\"2\",\"3\",\"4\",\"5\")\n",
    "\n",
    "funzioneACaso(c=\"b\",d=\"z\")"
   ]
  },
  {
   "cell_type": "markdown",
   "metadata": {},
   "source": [
    "# Quadrato"
   ]
  },
  {
   "cell_type": "code",
   "execution_count": 2,
   "metadata": {},
   "outputs": [
    {
     "name": "stdout",
     "output_type": "stream",
     "text": [
      "25\n",
      "20\n"
     ]
    }
   ],
   "source": [
    "lato=5\n",
    "\n",
    "def area(lato):\n",
    "    return lato*lato\n",
    "def perimetro(lato):\n",
    "    return lato*4\n",
    "\n",
    "print(area(lato))\n",
    "print(perimetro(lato))"
   ]
  },
  {
   "cell_type": "markdown",
   "metadata": {},
   "source": [
    "Se volessi fare proprio un quadrato??"
   ]
  },
  {
   "cell_type": "code",
   "execution_count": 12,
   "metadata": {},
   "outputs": [
    {
     "name": "stdout",
     "output_type": "stream",
     "text": [
      "25\n",
      "20\n",
      "4\n",
      "8\n"
     ]
    }
   ],
   "source": [
    "class Quadrato():\n",
    "    def __init__(self,latoDatoDaUtente):\n",
    "        #print(\"Sto creando un quadrato con lato {lato}\".format(lato=latoDatoDaUtente))\n",
    "        self.lato=latoDatoDaUtente\n",
    "    def area(self):\n",
    "        return self.lato*self.lato\n",
    "    def perimetro(self):\n",
    "        return self.lato*4\n",
    "\n",
    "quadrato1=Quadrato(5)\n",
    "quadrato2=Quadrato(2)\n",
    "\n",
    "print(quadrato1.area())\n",
    "print(quadrato1.perimetro())\n",
    "\n",
    "print(quadrato2.area())\n",
    "print(quadrato2.perimetro())"
   ]
  },
  {
   "cell_type": "markdown",
   "metadata": {},
   "source": [
    "Qui le cose si fanno toste"
   ]
  },
  {
   "cell_type": "code",
   "execution_count": 15,
   "metadata": {},
   "outputs": [
    {
     "name": "stdout",
     "output_type": "stream",
     "text": [
      "Lato:1, area:1, perimetro:4\n",
      "Lato:2, area:4, perimetro:8\n",
      "Lato:3, area:9, perimetro:12\n",
      "Lato:4, area:16, perimetro:16\n"
     ]
    }
   ],
   "source": [
    "listaDiQuadrati=[]\n",
    "for i in range(1,5):\n",
    "    listaDiQuadrati.append(Quadrato(i))\n",
    "\n",
    "for quadrato in listaDiQuadrati:\n",
    "    print(\"Lato:{lato}, area:{area}, perimetro:{perimetro}\".format(lato=quadrato.lato,area=quadrato.area(),perimetro=quadrato.perimetro()))"
   ]
  },
  {
   "cell_type": "markdown",
   "metadata": {},
   "source": [
    "# Dizionari"
   ]
  },
  {
   "cell_type": "markdown",
   "metadata": {},
   "source": [
    "Esempio semplice di dizionario"
   ]
  },
  {
   "cell_type": "code",
   "execution_count": 21,
   "metadata": {},
   "outputs": [
    {
     "name": "stdout",
     "output_type": "stream",
     "text": [
      "{'computer': 500, 'tastiera': 100, 'zaino': 50}\n",
      "100\n",
      "500\n",
      "50\n"
     ]
    }
   ],
   "source": [
    "dizionario={\"computer\":500,\"tastiera\":100,\"zaino\":50}\n",
    "\n",
    "print(dizionario)\n",
    "\n",
    "print(dizionario[\"tastiera\"])\n",
    "print(dizionario[\"computer\"])\n",
    "print(dizionario[\"zaino\"])"
   ]
  },
  {
   "cell_type": "code",
   "execution_count": 23,
   "metadata": {},
   "outputs": [
    {
     "name": "stdout",
     "output_type": "stream",
     "text": [
      "{'computer': 500, 'tastiera': 100, 'zaino': 50, 'scarpe': 300}\n"
     ]
    }
   ],
   "source": [
    "dizionario[\"scarpe\"]=300\n",
    "print(dizionario)"
   ]
  },
  {
   "cell_type": "markdown",
   "metadata": {},
   "source": [
    "Si possono anche fare follie"
   ]
  },
  {
   "cell_type": "code",
   "execution_count": 24,
   "metadata": {},
   "outputs": [
    {
     "name": "stdout",
     "output_type": "stream",
     "text": [
      "{'computer': 500, 'tastiera': 100, 'zaino': 50, 'scarpe': 300, 'Pazzia': {...}}\n"
     ]
    }
   ],
   "source": [
    "dizionario[\"Pazzia\"]=dizionario\n",
    "print(dizionario)"
   ]
  }
 ],
 "metadata": {
  "interpreter": {
   "hash": "e083722571f9f0ec84a5baf48f347dbe11928b35218b5666fd9f4885e1b3b744"
  },
  "kernelspec": {
   "display_name": "Python 3.9.0 64-bit",
   "language": "python",
   "name": "python3"
  },
  "language_info": {
   "codemirror_mode": {
    "name": "ipython",
    "version": 3
   },
   "file_extension": ".py",
   "mimetype": "text/x-python",
   "name": "python",
   "nbconvert_exporter": "python",
   "pygments_lexer": "ipython3",
   "version": "3.9.0"
  },
  "orig_nbformat": 4
 },
 "nbformat": 4,
 "nbformat_minor": 2
}
