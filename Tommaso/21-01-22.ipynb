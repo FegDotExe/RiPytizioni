{
 "cells": [
  {
   "cell_type": "markdown",
   "metadata": {},
   "source": [
    "# Programmazione ad oggetti"
   ]
  },
  {
   "cell_type": "code",
   "execution_count": 4,
   "metadata": {},
   "outputs": [
    {
     "name": "stdout",
     "output_type": "stream",
     "text": [
      "5\n",
      "rosso\n"
     ]
    }
   ],
   "source": [
    "class Quadrato():\n",
    "    def __init__(self, lato, colore):\n",
    "        self.lato = lato\n",
    "        self.colore = colore\n",
    "\n",
    "    def area(self):\n",
    "        return self.lato**2 #Lato alla seconda\n",
    "\n",
    "Marco=Quadrato(5,\"rosso\")\n",
    "print(Marco.lato)\n",
    "print(Marco.colore)"
   ]
  },
  {
   "cell_type": "code",
   "execution_count": 21,
   "metadata": {},
   "outputs": [
    {
     "name": "stdout",
     "output_type": "stream",
     "text": [
      "Una classe sta venendo creata\n",
      "Giovanni\n",
      "Classe di 5 studenti\n"
     ]
    }
   ],
   "source": [
    "import random\n",
    "class Classe():\n",
    "    def __init__(self,numero_studenti,lista_studenti) -> None:\n",
    "        print(\"Una classe sta venendo creata\")\n",
    "        self.numero_studenti = numero_studenti\n",
    "        self.studenti = lista_studenti\n",
    "    def __str__(self):\n",
    "        return \"Classe di \" + str(self.numero_studenti) + \" studenti\"\n",
    "    def scegli_studente_a_caso(self):\n",
    "        return self.studenti[random.randint(0,self.numero_studenti-1)]\n",
    "\n",
    "prima_c=Classe(5,['Tommaso','Giovanni','Luca','Marco','Fabio'])\n",
    "\n",
    "print(prima_c.scegli_studente_a_caso())\n",
    "print(prima_c)"
   ]
  },
  {
   "cell_type": "markdown",
   "metadata": {},
   "source": [
    "# Documentazione\n",
    "\n",
    "Spiegazioni che aiutano a capire il funzionamento dei metodi"
   ]
  },
  {
   "cell_type": "code",
   "execution_count": null,
   "metadata": {},
   "outputs": [],
   "source": [
    "def somma_lista(lista):\n",
    "    \"\"\"\n",
    "    Bisogna fornirgli una lista di numeri\n",
    "\n",
    "    Restituisce la somma di tutti i numeri della lista\n",
    "    \"\"\"\n",
    "    return sum(lista)\n",
    "\n",
    "print(somma_lista([1,2,3,4,5]))"
   ]
  },
  {
   "cell_type": "markdown",
   "metadata": {},
   "source": [
    "Per documentazioni più complesse, si possono aggiungere più cose"
   ]
  },
  {
   "cell_type": "code",
   "execution_count": null,
   "metadata": {},
   "outputs": [],
   "source": [
    "def funzione_complicata():\n",
    "    \"\"\"\n",
    "    Introduzione\n",
    "    --\n",
    "    Questa funzione è complicata\n",
    "\n",
    "    Variabili\n",
    "    --\n",
    "    Si devono passare millemila variabili per far funzionare questa funzione:\n",
    "    - numero_di_variabili\n",
    "    - lista_di_variabili\n",
    "    - variabile_di_tipo_stringa\n",
    "    \"\"\"\n",
    "    pass"
   ]
  },
  {
   "cell_type": "markdown",
   "metadata": {},
   "source": [
    "# Telegram"
   ]
  },
  {
   "cell_type": "code",
   "execution_count": 40,
   "metadata": {},
   "outputs": [],
   "source": [
    "import telebot\n",
    "import random\n",
    "\n",
    "token=\"5207848245:AAFaHwDKXEsOWq5EdbtIDc4p4a_hhV8hFhA\"\n",
    "\n",
    "bot=telebot.TeleBot(token)\n",
    "\n",
    "def factorial(n):\n",
    "        if n == 0:\n",
    "            return 1\n",
    "        else:\n",
    "            return n * factorial(n-1)\n",
    "\n",
    "class Mostro():\n",
    "    def __init__(self,vita,resistenza) -> None:\n",
    "        self.vita=vita\n",
    "        self.vita_massima=vita\n",
    "        self.resistenza=resistenza\n",
    "    def colpisci(self):\n",
    "        danno=random.randint(1,5)-self.resistenza\n",
    "        if danno<0:\n",
    "            danno=0\n",
    "        self.vita-=danno\n",
    "    def barra_della_vita(self):\n",
    "        vita_decimale=int((self.vita*10)/self.vita_massima)\n",
    "        output=\"\"\n",
    "        for i in range(vita_decimale):\n",
    "            output=output+\"█\"\n",
    "        return output\n",
    "\n",
    "class Variabili():\n",
    "    mostro=Mostro(100,10)\n",
    "\n",
    "@bot.message_handler(commands=['start'])\n",
    "def start(message):\n",
    "    bot.send_message(message.chat.id, \"Ciao {user}!\".format(user=message.from_user.first_name))\n",
    "\n",
    "\n",
    "@bot.message_handler(commands=['fattoriale'])\n",
    "def fattoriale(message):\n",
    "    numero=int(message.text.split(\" \")[1])\n",
    "    bot.send_message(message.chat.id, \"Il fattoriale di {numero} è {fattoriale}\".format(numero=numero,fattoriale=factorial(numero)))\n",
    "\n",
    "\n",
    "@bot.message_handler(commands=['mostro'])\n",
    "def mostro(message): #Il messaggio sarà: /mostro vita resistenza\n",
    "    try:\n",
    "        dati=message.text.split(\" \")\n",
    "        vita=int(dati[1])\n",
    "        resistenza=int(dati[2])\n",
    "        Variabili.mostro=Mostro(vita,resistenza)\n",
    "    except Exception as e:\n",
    "        bot.send_message(message.chat.id, \"Errore: {errore}\".format(errore=e))\n",
    "\n",
    "\n",
    "@bot.message_handler(commands=['colpisci'])\n",
    "def colpisci(message):\n",
    "    bot.send_message(message.chat.id, \"Mostro: {vita}/{vita_massima} [{barra}]\".format(vita=Variabili.mostro.vita,vita_massima=Variabili.mostro.vita_massima,barra=Variabili.mostro.barra_della_vita()))\n",
    "    bot.send_message(message.chat.id, \"Hai colpito il mostro!\")\n",
    "    Variabili.mostro.colpisci()\n",
    "    bot.send_message(message.chat.id, \"Mostro: {vita}/{vita_massima} [{barra}]\".format(vita=Variabili.mostro.vita,vita_massima=Variabili.mostro.vita_massima,barra=Variabili.mostro.barra_della_vita()))\n",
    "\n",
    "def start_polling():\n",
    "    bot.polling()\n",
    "\n",
    "start_polling()"
   ]
  },
  {
   "cell_type": "code",
   "execution_count": 29,
   "metadata": {},
   "outputs": [
    {
     "name": "stdout",
     "output_type": "stream",
     "text": [
      "Ciao a tutti\n",
      "['Ciao', 'a', 'tutti']\n"
     ]
    }
   ],
   "source": [
    "stringa=\"Ciao a tutti\"\n",
    "print(stringa)\n",
    "print(stringa.split(\" \"))"
   ]
  }
 ],
 "metadata": {
  "interpreter": {
   "hash": "e083722571f9f0ec84a5baf48f347dbe11928b35218b5666fd9f4885e1b3b744"
  },
  "kernelspec": {
   "display_name": "Python 3.9.0 64-bit",
   "language": "python",
   "name": "python3"
  },
  "language_info": {
   "codemirror_mode": {
    "name": "ipython",
    "version": 3
   },
   "file_extension": ".py",
   "mimetype": "text/x-python",
   "name": "python",
   "nbconvert_exporter": "python",
   "pygments_lexer": "ipython3",
   "version": "3.9.0"
  },
  "orig_nbformat": 4
 },
 "nbformat": 4,
 "nbformat_minor": 2
}
