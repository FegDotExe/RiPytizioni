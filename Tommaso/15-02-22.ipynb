{
 "cells": [
  {
   "cell_type": "markdown",
   "metadata": {},
   "source": [
    "# Ripasso liste"
   ]
  },
  {
   "cell_type": "code",
   "execution_count": 3,
   "metadata": {},
   "outputs": [
    {
     "name": "stdout",
     "output_type": "stream",
     "text": [
      "C\n",
      "i\n",
      "a\n",
      "o\n"
     ]
    }
   ],
   "source": [
    "stringa=\"Ciao\"\n",
    "\n",
    "for i in range(0,len(stringa)):\n",
    "    print(stringa[i])"
   ]
  },
  {
   "cell_type": "code",
   "execution_count": 4,
   "metadata": {},
   "outputs": [
    {
     "name": "stdout",
     "output_type": "stream",
     "text": [
      "C\n",
      "i\n",
      "a\n",
      "o\n"
     ]
    }
   ],
   "source": [
    "for lettera in stringa:\n",
    "    print(lettera)"
   ]
  },
  {
   "cell_type": "markdown",
   "metadata": {},
   "source": [
    "## Lunghezza della stringa"
   ]
  },
  {
   "cell_type": "code",
   "execution_count": 5,
   "metadata": {},
   "outputs": [
    {
     "name": "stdout",
     "output_type": "stream",
     "text": [
      "8\n"
     ]
    }
   ],
   "source": [
    "stringa=\"Cammello\"\n",
    "print(len(stringa))"
   ]
  },
  {
   "cell_type": "markdown",
   "metadata": {},
   "source": [
    "## Riferimenti per indici"
   ]
  },
  {
   "cell_type": "code",
   "execution_count": 10,
   "metadata": {},
   "outputs": [
    {
     "name": "stdout",
     "output_type": "stream",
     "text": [
      "Rinoceronte 0\n",
      "Ciao a tutti\n",
      "R\n"
     ]
    }
   ],
   "source": [
    "stringa=\"Rinoceronte\"\n",
    "\n",
    "print(stringa, 0)\n",
    "print(\"Ciao\",\"a\",\"tutti\")\n",
    "\n",
    "#stringa(0) Questo si potrebbe fare se stringa fosse una funzione\n",
    "print(stringa[0])"
   ]
  },
  {
   "cell_type": "markdown",
   "metadata": {},
   "source": [
    "### Fare il print dell'ultima lettera"
   ]
  },
  {
   "cell_type": "code",
   "execution_count": 17,
   "metadata": {},
   "outputs": [
    {
     "name": "stdout",
     "output_type": "stream",
     "text": [
      "4\n",
      "o\n"
     ]
    }
   ],
   "source": [
    "#print(len(stringa)+1)\n",
    "\n",
    "#print(stringa[len(stringa)]) Questo si va a prendere il carattere DOPO l'ultimo\n",
    "stringa2=\"Ciao\"\n",
    "print(len(stringa2))\n",
    "\n",
    "print(stringa2[len(stringa2)-1]) #Così stampa l'ultimo carattere"
   ]
  },
  {
   "cell_type": "markdown",
   "metadata": {},
   "source": [
    "Maniera più semplice:"
   ]
  },
  {
   "cell_type": "code",
   "execution_count": 16,
   "metadata": {},
   "outputs": [
    {
     "name": "stdout",
     "output_type": "stream",
     "text": [
      "e\n"
     ]
    }
   ],
   "source": [
    "print(stringa2[-1])"
   ]
  },
  {
   "cell_type": "markdown",
   "metadata": {},
   "source": [
    "La stessa cosa funziona anche con altre lettere e altri indici"
   ]
  },
  {
   "cell_type": "code",
   "execution_count": 19,
   "metadata": {},
   "outputs": [
    {
     "name": "stdout",
     "output_type": "stream",
     "text": [
      "a\n"
     ]
    }
   ],
   "source": [
    "print(stringa2[-2])"
   ]
  },
  {
   "cell_type": "markdown",
   "metadata": {},
   "source": [
    "# Esercizi"
   ]
  },
  {
   "cell_type": "markdown",
   "metadata": {},
   "source": [
    "Scrivi una funzione che si chiama piuFrequente(s) che data una stringa s passata come parametro ritorna contemporaneamente due valori:\n",
    "- il carattere più frequente\n",
    "- la frequenza dello stesso"
   ]
  },
  {
   "cell_type": "code",
   "execution_count": 3,
   "metadata": {},
   "outputs": [
    {
     "name": "stdout",
     "output_type": "stream",
     "text": [
      "('c', 2)\n"
     ]
    }
   ],
   "source": [
    "def conta(s,c):\n",
    "    #cont=+1 Sbagliato perché crea cont con valore pari a 1\n",
    "    #cont+=1 Sbagliato perché aggiunge a cont prima che cont sia creato\n",
    "    cont=0\n",
    "    for lettera in s:\n",
    "        if lettera==c:\n",
    "            cont+=1\n",
    "    return cont\n",
    "\n",
    "def piuFrequente(s):\n",
    "    letteraPiuFreq=s[0]\n",
    "    volte=conta(s,s[0])\n",
    "    for lettera in s:\n",
    "        volteLettera=conta(s,lettera)\n",
    "        if volteLettera>volte:\n",
    "            letteraPiuFreq=lettera\n",
    "            volte=conta(s,lettera)\n",
    "    return (letteraPiuFreq,volte)\n",
    "\n",
    "test=\"cimice\"\n",
    "#print(conta(test,\"c\"))\n",
    "print(piuFrequente(test))#Dovrebbe restituire (o,3)"
   ]
  },
  {
   "cell_type": "markdown",
   "metadata": {},
   "source": [
    "- Un programma può fare le cose solo una per una\n",
    "- Di solito, quando un programma deve fare le cose una per una, si usa un *loop*"
   ]
  },
  {
   "cell_type": "markdown",
   "metadata": {},
   "source": [
    "# Attenzione!!\n",
    "Per stampare tutte le lettere in una parola, una per una:\n",
    "\n",
    "```python\n",
    "for lettera in parola:\n",
    "    print(lettera)\n",
    "```"
   ]
  }
 ],
 "metadata": {
  "interpreter": {
   "hash": "e083722571f9f0ec84a5baf48f347dbe11928b35218b5666fd9f4885e1b3b744"
  },
  "kernelspec": {
   "display_name": "Python 3.9.0 64-bit",
   "language": "python",
   "name": "python3"
  },
  "language_info": {
   "codemirror_mode": {
    "name": "ipython",
    "version": 3
   },
   "file_extension": ".py",
   "mimetype": "text/x-python",
   "name": "python",
   "nbconvert_exporter": "python",
   "pygments_lexer": "ipython3",
   "version": "3.9.0"
  },
  "orig_nbformat": 4
 },
 "nbformat": 4,
 "nbformat_minor": 2
}
