{
 "cells": [
  {
   "cell_type": "markdown",
   "metadata": {},
   "source": [
    "# Riassunto liste"
   ]
  },
  {
   "cell_type": "code",
   "execution_count": 8,
   "metadata": {},
   "outputs": [
    {
     "name": "stdout",
     "output_type": "stream",
     "text": [
      "1\n"
     ]
    }
   ],
   "source": [
    "lista=[1,2,3,4,5,6,7]\n",
    "\n",
    "print(lista[2::2])"
   ]
  },
  {
   "cell_type": "code",
   "execution_count": 7,
   "metadata": {},
   "outputs": [
    {
     "name": "stdout",
     "output_type": "stream",
     "text": [
      "[1, 2, 3, 4, 5, 6, 'ciao']\n"
     ]
    }
   ],
   "source": [
    "lista=[1,2,3,4,5,6,7]\n",
    "\n",
    "lista[-1]=\"ciao\"\n",
    "\n",
    "print(lista)"
   ]
  },
  {
   "cell_type": "code",
   "execution_count": 8,
   "metadata": {},
   "outputs": [
    {
     "name": "stdout",
     "output_type": "stream",
     "text": [
      "[1, 2, 3, 4, 5, 6, 7, 8]\n"
     ]
    }
   ],
   "source": [
    "lista=[1,2,3,4,5,6,7]\n",
    "lista.append(8)\n",
    "print(lista)"
   ]
  },
  {
   "cell_type": "code",
   "execution_count": 10,
   "metadata": {},
   "outputs": [
    {
     "name": "stdout",
     "output_type": "stream",
     "text": [
      "[1, 1.5, 2, 3, 4, 5, 6, 7]\n",
      "['Inizio', 1, 1.5, 2, 3, 4, 5, 6, 7]\n"
     ]
    }
   ],
   "source": [
    "lista=[1,2,3,4,5,6,7]\n",
    "lista.insert(1,1.5)\n",
    "print(lista)\n",
    "lista.insert(0,\"Inizio\")\n",
    "print(lista)"
   ]
  },
  {
   "cell_type": "code",
   "execution_count": 12,
   "metadata": {},
   "outputs": [
    {
     "name": "stdout",
     "output_type": "stream",
     "text": [
      "[4, 5, 6, 1, 2, 3]\n"
     ]
    }
   ],
   "source": [
    "lista1=[1,2,3]\n",
    "lista2=[4,5,6]\n",
    "listaFinale=lista2+lista1\n",
    "print(listaFinale)"
   ]
  },
  {
   "cell_type": "code",
   "execution_count": 14,
   "metadata": {},
   "outputs": [
    {
     "name": "stdout",
     "output_type": "stream",
     "text": [
      "7\n",
      "1\n",
      "2\n",
      "3\n",
      "4\n",
      "5\n",
      "6\n",
      "7\n"
     ]
    }
   ],
   "source": [
    "lista=[1,2,3,4,5,6,7]\n",
    "print(len(lista))\n",
    "for elemento in lista:\n",
    "    print(elemento)"
   ]
  },
  {
   "cell_type": "markdown",
   "metadata": {},
   "source": [
    "# Esercitazione 1"
   ]
  },
  {
   "cell_type": "markdown",
   "metadata": {},
   "source": [
    "Scrivere una funzione piattoOrdinato(seq1,seq2,nome), che prenda come seq1 una sequenza di invitati, come seq2 una sequenza di piatti che corrisponde agli invitati e come nome una stringa di una persona.\n",
    "La funzione deve restituire quale piatto ha ordinato la persona con il nome fornito.\n",
    "\n",
    "Esempio:\n",
    "`piattoOrdinato([\"Marco\",\"Giovanni\",\"Alberto\"],[\"Margherita\",\"Diavola\",\"Salsiccia\"],\"Alberto\")->\"Salsiccia\"`"
   ]
  },
  {
   "cell_type": "markdown",
   "metadata": {},
   "source": [
    "Come esercizio intermedio, scrivere una funzione `personeOrdini(seq1,seq2)` che scriva il nome di ogni persona e il suo ordine\n",
    "\n",
    "\n",
    "Esempio:\n",
    "```python\n",
    "personeOrdini([\"Marco\",\"Giovanni\",\"Alberto\"],[\"Margherita\",\"Diavola\",\"Salsiccia\"])\n",
    "#Marco: Margherita\n",
    "#Giovanni: Diavola\n",
    "#Alberto: Salsiccia\n",
    "```"
   ]
  },
  {
   "cell_type": "code",
   "execution_count": 27,
   "metadata": {},
   "outputs": [
    {
     "name": "stdout",
     "output_type": "stream",
     "text": [
      "Marco: Margherita\n",
      "Giovanni: Diavola\n",
      "Alberto: Salsiccia\n",
      "Tommaso: Diavola\n"
     ]
    }
   ],
   "source": [
    "def personeOrdini(seq1,seq2):\n",
    "    # i=100000\n",
    "    for i in range(len(seq1)): #DA TENERE A MENTE\n",
    "        # print(i)\n",
    "        # for i in range(len(seq2)):\n",
    "        #     print(i)\n",
    "        print(seq1[i]+\": \"+seq2[i])\n",
    "\n",
    "personeOrdini([\"Marco\",\"Giovanni\",\"Alberto\",\"Tommaso\"],[\"Margherita\",\"Diavola\",\"Salsiccia\",\"Diavola\"])"
   ]
  },
  {
   "cell_type": "code",
   "execution_count": 34,
   "metadata": {},
   "outputs": [
    {
     "name": "stdout",
     "output_type": "stream",
     "text": [
      "Margherita\n"
     ]
    }
   ],
   "source": [
    "def piattoOrdinato(seq1,seq2,nome):\n",
    "    for i in range(len(seq1)):\n",
    "        if seq1[i]==nome:\n",
    "            return seq2[i]\n",
    "\n",
    "print(piattoOrdinato([\"Marco\",\"Giovanni\",\"Alberto\",\"Tommaso\"],[\"Margherita\",\"Diavola\",\"Salsiccia\",\"Diavola\"],\"Marco\"))"
   ]
  },
  {
   "cell_type": "markdown",
   "metadata": {},
   "source": [
    "# Esercitazione 2"
   ]
  },
  {
   "cell_type": "markdown",
   "metadata": {},
   "source": [
    "Scrivere una funzione `ordineAlfaB(seq)` che restituisce la sequenza di stringhe fornita ordinata in ordine alfabetico.\n",
    "\n",
    "Esempio:\n",
    "`ordineAlfaB([\"Stefano\",\"Alberto\",\"Caterina\"])->[\"Alberto\",\"Caterina\",\"Stefano\"]`"
   ]
  },
  {
   "cell_type": "code",
   "execution_count": 37,
   "metadata": {},
   "outputs": [
    {
     "name": "stdout",
     "output_type": "stream",
     "text": [
      "True\n",
      "False\n"
     ]
    }
   ],
   "source": [
    "print(\"Stefano\">\"Alberto\")\n",
    "print(\"Antonio\"<\"Alberto\")"
   ]
  },
  {
   "cell_type": "markdown",
   "metadata": {},
   "source": [
    "## Soluzione"
   ]
  },
  {
   "cell_type": "code",
   "execution_count": 38,
   "metadata": {},
   "outputs": [
    {
     "name": "stdout",
     "output_type": "stream",
     "text": [
      "['Alberto', 'Caterina', 'Stefano', 'Tommaso']\n"
     ]
    }
   ],
   "source": [
    "def ordineAlfaB(seq):\n",
    "    output=[]\n",
    "    for i in range(len(seq)):\n",
    "        if i==0:\n",
    "            output.append(seq[i])\n",
    "        else:\n",
    "            for j in range(len(output)):\n",
    "                if seq[i]<output[j]:\n",
    "                    output.insert(j,seq[i])\n",
    "                    break\n",
    "    return output\n",
    "\n",
    "print(ordineAlfaB([\"Tommaso\",\"Stefano\",\"Alberto\",\"Caterina\"]))"
   ]
  }
 ],
 "metadata": {
  "interpreter": {
   "hash": "e083722571f9f0ec84a5baf48f347dbe11928b35218b5666fd9f4885e1b3b744"
  },
  "kernelspec": {
   "display_name": "Python 3.9.0 64-bit",
   "language": "python",
   "name": "python3"
  },
  "language_info": {
   "codemirror_mode": {
    "name": "ipython",
    "version": 3
   },
   "file_extension": ".py",
   "mimetype": "text/x-python",
   "name": "python",
   "nbconvert_exporter": "python",
   "pygments_lexer": "ipython3",
   "version": "3.9.0"
  },
  "orig_nbformat": 4
 },
 "nbformat": 4,
 "nbformat_minor": 2
}
