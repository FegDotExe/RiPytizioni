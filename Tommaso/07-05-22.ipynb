{
 "cells": [
  {
   "cell_type": "markdown",
   "metadata": {},
   "source": [
    "# Esercizio"
   ]
  },
  {
   "cell_type": "markdown",
   "metadata": {},
   "source": [
    "scambia([\"a\",\"b\",\"c\"],0,2)->[\"c\",\"b\",\"a\"]"
   ]
  },
  {
   "cell_type": "code",
   "execution_count": 20,
   "metadata": {},
   "outputs": [
    {
     "data": {
      "text/plain": [
       "['e', 'b', 'c', 'd', 'a']"
      ]
     },
     "execution_count": 20,
     "metadata": {},
     "output_type": "execute_result"
    }
   ],
   "source": [
    "def scambia(seq,i1,i2):\n",
    "    output=[]\n",
    "    for i in range(len(seq)):\n",
    "        # print(i)\n",
    "        if i==i1:\n",
    "            # print(f\"L'indice {i} va scambiato\")\n",
    "            output.append(seq[i2])\n",
    "        elif i==i2:\n",
    "            # print(f\"Anche l'indice {i} va scambiato\")\n",
    "            output.append(seq[i1])\n",
    "        else:\n",
    "            # print(f\"L'indice {i} non va scambiato\")\n",
    "            output.append(seq[i])\n",
    "    return output\n",
    "\n",
    "scambia([\"a\",\"b\",\"c\",\"d\",\"e\"],0,4)"
   ]
  },
  {
   "cell_type": "code",
   "execution_count": 21,
   "metadata": {},
   "outputs": [
    {
     "data": {
      "text/plain": [
       "['e', 'b', 'c', 'd', 'a']"
      ]
     },
     "execution_count": 21,
     "metadata": {},
     "output_type": "execute_result"
    }
   ],
   "source": [
    "def scambia(seq, i1, i2):\n",
    "    temp=seq[i1]\n",
    "    seq[i1]=seq[i2]\n",
    "    seq[i2]=temp\n",
    "    return seq\n",
    "\n",
    "scambia([\"a\",\"b\",\"c\",\"d\",\"e\"],0,4)"
   ]
  },
  {
   "cell_type": "markdown",
   "metadata": {},
   "source": [
    "# Media"
   ]
  },
  {
   "cell_type": "code",
   "execution_count": 27,
   "metadata": {},
   "outputs": [
    {
     "data": {
      "text/plain": [
       "5.5"
      ]
     },
     "execution_count": 27,
     "metadata": {},
     "output_type": "execute_result"
    }
   ],
   "source": [
    "def media(seq):\n",
    "    somma=0\n",
    "    for i in range(len(seq)):\n",
    "        somma+=seq[i]\n",
    "    return somma/len(seq)\n",
    "\n",
    "media([7,3,10,2])"
   ]
  }
 ],
 "metadata": {
  "interpreter": {
   "hash": "ad0bde7d7f50bc082869a74b98121bcd367071a3ca0bcf1838fa0731e0e55dce"
  },
  "kernelspec": {
   "display_name": "Python 3.9.0 64-bit",
   "language": "python",
   "name": "python3"
  },
  "language_info": {
   "codemirror_mode": {
    "name": "ipython",
    "version": 3
   },
   "file_extension": ".py",
   "mimetype": "text/x-python",
   "name": "python",
   "nbconvert_exporter": "python",
   "pygments_lexer": "ipython3",
   "version": "3.9.0"
  },
  "orig_nbformat": 4
 },
 "nbformat": 4,
 "nbformat_minor": 2
}
