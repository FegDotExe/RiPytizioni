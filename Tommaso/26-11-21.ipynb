{
 "cells": [
  {
   "cell_type": "markdown",
   "metadata": {},
   "source": [
    "# Jupyter notebook\n",
    "Bisogna fare attenzione all'ordine in cui si esegue il codice"
   ]
  },
  {
   "cell_type": "code",
   "execution_count": 1,
   "metadata": {},
   "outputs": [],
   "source": [
    "a=10"
   ]
  },
  {
   "cell_type": "code",
   "execution_count": 1,
   "metadata": {},
   "outputs": [
    {
     "ename": "NameError",
     "evalue": "name 'a' is not defined",
     "output_type": "error",
     "traceback": [
      "\u001b[1;31m---------------------------------------------------------------------------\u001b[0m",
      "\u001b[1;31mNameError\u001b[0m                                 Traceback (most recent call last)",
      "\u001b[1;32m~\\AppData\\Local\\Temp/ipykernel_3876/1189138062.py\u001b[0m in \u001b[0;36m<module>\u001b[1;34m\u001b[0m\n\u001b[1;32m----> 1\u001b[1;33m \u001b[0mprint\u001b[0m\u001b[1;33m(\u001b[0m\u001b[0ma\u001b[0m\u001b[1;33m)\u001b[0m\u001b[1;33m\u001b[0m\u001b[1;33m\u001b[0m\u001b[0m\n\u001b[0m",
      "\u001b[1;31mNameError\u001b[0m: name 'a' is not defined"
     ]
    }
   ],
   "source": [
    "print(a)"
   ]
  },
  {
   "cell_type": "markdown",
   "metadata": {},
   "source": [
    "# Fattori\n",
    "Dobbiamo stampare tutti i numeri per cui un numero può avere divisione intera, cioè numero/fattore ha resto 0\n",
    "\n",
    "Sappiamo il numero per cui dobbiamo trovare i fattori;  \n",
    "Partiamo da 1 per trovarne i fattori;  \n",
    "Un certo numero è un fattore se numero%possibile_fattore==0\n",
    "\n",
    "Basta che la funzione stampi i valori"
   ]
  },
  {
   "cell_type": "code",
   "execution_count": 10,
   "metadata": {},
   "outputs": [],
   "source": [
    "def fattori(numero):\n",
    "    i=1\n",
    "    while i<=numero:\n",
    "        if numero%i==0:\n",
    "            if i!=numero:\n",
    "                print(i,end=\", \")\n",
    "            else:\n",
    "                print(i,end=\"\")\n",
    "        i+=1"
   ]
  },
  {
   "cell_type": "code",
   "execution_count": 19,
   "metadata": {},
   "outputs": [
    {
     "name": "stdout",
     "output_type": "stream",
     "text": [
      "1, 2, 3, 4, 5, 6, 10, 12, 15, 20, 30, 60"
     ]
    }
   ],
   "source": [
    "#numero_scelto=input(\"Scrivi un numero>\")->così è sbagliato perché restituisce una stringa\n",
    "numero_scelto=int(input(\"Scrivi un numero>\"))\n",
    "\n",
    "fattori(numero=numero_scelto)"
   ]
  },
  {
   "cell_type": "markdown",
   "metadata": {},
   "source": [
    "## Else if\n",
    "Una condizione alternativa"
   ]
  },
  {
   "cell_type": "code",
   "execution_count": 26,
   "metadata": {},
   "outputs": [],
   "source": [
    "qualcosa=-2"
   ]
  },
  {
   "cell_type": "code",
   "execution_count": 27,
   "metadata": {},
   "outputs": [
    {
     "name": "stdout",
     "output_type": "stream",
     "text": [
      "Non è maggiore di 5\n"
     ]
    }
   ],
   "source": [
    "if qualcosa>5:\n",
    "    print(\"Maggiore di 5\")\n",
    "else:\n",
    "    print(\"Non è maggiore di 5\")"
   ]
  },
  {
   "cell_type": "markdown",
   "metadata": {},
   "source": [
    "Ma se io volessi dire \"non è maggiore di 5, ma è maggiore di 0\""
   ]
  },
  {
   "cell_type": "code",
   "execution_count": 28,
   "metadata": {},
   "outputs": [
    {
     "name": "stdout",
     "output_type": "stream",
     "text": [
      "Non è maggiore di 5 e nemmeno di 0\n"
     ]
    }
   ],
   "source": [
    "if qualcosa>5:\n",
    "    print(\"Maggiore di 5\")\n",
    "elif qualcosa>0:\n",
    "    print(\"Non è maggiore di 5, ma è maggiore di 0\")\n",
    "else:\n",
    "    print(\"Non è maggiore di 5 e nemmeno di 0\")"
   ]
  },
  {
   "cell_type": "markdown",
   "metadata": {},
   "source": [
    "Si può fare un if senza else e senza elif e si può fare un elif senza else\n",
    "\n",
    "Nell'elif si entra solo se l'if iniziale è falso"
   ]
  },
  {
   "cell_type": "markdown",
   "metadata": {},
   "source": [
    "# Fattori parte 2"
   ]
  },
  {
   "cell_type": "markdown",
   "metadata": {},
   "source": [
    "## Tentativo 1"
   ]
  },
  {
   "cell_type": "code",
   "execution_count": null,
   "metadata": {},
   "outputs": [],
   "source": [
    "def fattori(numero):\n",
    "    i=1\n",
    "    i+1=i\n",
    "    while numero>0\n",
    "        "
   ]
  },
  {
   "cell_type": "markdown",
   "metadata": {},
   "source": [
    "Se trovi scritto nome(), significa che hai a che fare con una funzione"
   ]
  },
  {
   "cell_type": "markdown",
   "metadata": {},
   "source": [
    "`i+1=i` non ha senso come scrittura; bisogna mettere all'inizio il nome della variabile e poi il suo valore, quindi `i=i+1`\n",
    "\n",
    "In senso più generico: `variabile=valore`"
   ]
  },
  {
   "cell_type": "markdown",
   "metadata": {},
   "source": [
    "## Tentativo 2"
   ]
  },
  {
   "cell_type": "code",
   "execution_count": 35,
   "metadata": {},
   "outputs": [],
   "source": [
    "def fattori(numero):\n",
    "    i=1\n",
    "    while i<=numero:\n",
    "        print(i) #numero/i ha resto 0\n",
    "        i=i+1"
   ]
  },
  {
   "cell_type": "code",
   "execution_count": 36,
   "metadata": {},
   "outputs": [
    {
     "name": "stdout",
     "output_type": "stream",
     "text": [
      "1\n",
      "2\n",
      "3\n",
      "4\n",
      "5\n",
      "6\n",
      "7\n",
      "8\n",
      "9\n",
      "10\n"
     ]
    }
   ],
   "source": [
    "fattori(10)"
   ]
  },
  {
   "cell_type": "markdown",
   "metadata": {},
   "source": [
    "## Tentativo 3"
   ]
  },
  {
   "cell_type": "code",
   "execution_count": 37,
   "metadata": {},
   "outputs": [],
   "source": [
    "def fattori(numero):\n",
    "    i=1\n",
    "    while i<=numero:\n",
    "        if numero%i==0: #numero/i ha resto 0\n",
    "            print(\"i\")\n",
    "        i=i+1"
   ]
  },
  {
   "cell_type": "code",
   "execution_count": 38,
   "metadata": {},
   "outputs": [
    {
     "name": "stdout",
     "output_type": "stream",
     "text": [
      "i\n",
      "i\n",
      "i\n",
      "i\n"
     ]
    }
   ],
   "source": [
    "fattori(10)"
   ]
  },
  {
   "cell_type": "markdown",
   "metadata": {},
   "source": [
    "## Tentativo 4"
   ]
  },
  {
   "cell_type": "code",
   "execution_count": 53,
   "metadata": {},
   "outputs": [],
   "source": [
    "def fattori(numero):\n",
    "    i=1\n",
    "    while i<=numero:\n",
    "        if numero%i==0: #numero/i ha resto 0\n",
    "            print(i,end=\" \")\n",
    "        i=i+1"
   ]
  },
  {
   "cell_type": "code",
   "execution_count": 54,
   "metadata": {},
   "outputs": [
    {
     "name": "stdout",
     "output_type": "stream",
     "text": [
      "1 2 5 10 "
     ]
    }
   ],
   "source": [
    "fattori(10)"
   ]
  },
  {
   "cell_type": "markdown",
   "metadata": {},
   "source": [
    "Scrivere \"i\" è diverso da scrivere i\n",
    "\n",
    "\"i\" è una stringa che vale \"i\"  \n",
    "i è un intero che vale 1 e poi altri numeri"
   ]
  },
  {
   "cell_type": "markdown",
   "metadata": {},
   "source": [
    "# Parentesi?"
   ]
  },
  {
   "cell_type": "markdown",
   "metadata": {},
   "source": [
    "## Parentesi tonde\n",
    "\n",
    "- Si usano per le funzioni (esempio: `funzione()`): si usano sia per definire (`def funzione(parametri):`) una funzione, che per usarla (in gergo tecnico, chiamarla). In generale quando trovi un nome con attaccate delle parentesi tonde, si sta parlando di una funzione.\n",
    "- Per raggruppare condizioni complesse\n",
    "```python\n",
    "if (a and b) or ((b and c) or (c and d)):\n",
    "    print(\"Evviva\")\n",
    "```"
   ]
  },
  {
   "cell_type": "code",
   "execution_count": 61,
   "metadata": {},
   "outputs": [],
   "source": [
    "#Modifica pure a piacimento\n",
    "b=True\n",
    "c=True\n",
    "d=False"
   ]
  },
  {
   "cell_type": "code",
   "execution_count": 62,
   "metadata": {},
   "outputs": [
    {
     "name": "stdout",
     "output_type": "stream",
     "text": [
      "True\n",
      "False\n",
      "True\n"
     ]
    }
   ],
   "source": [
    "print((b and c))\n",
    "print((c and d))\n",
    "\n",
    "print((b and c) or (c and d))"
   ]
  },
  {
   "cell_type": "markdown",
   "metadata": {},
   "source": [
    "- Per fare conti complessi: se ad esempio hai $(10\\cdot3)-5$ e $10\\cdot(3-5)$, sono cose completamente diverse. In python si distinguono mettendo le parentesi nell'ordine giusto"
   ]
  },
  {
   "cell_type": "code",
   "execution_count": 64,
   "metadata": {},
   "outputs": [
    {
     "name": "stdout",
     "output_type": "stream",
     "text": [
      "25\n",
      "-20\n"
     ]
    }
   ],
   "source": [
    "print((10*3)-5)\n",
    "\n",
    "print(10*(3-5))"
   ]
  }
 ],
 "metadata": {
  "interpreter": {
   "hash": "e083722571f9f0ec84a5baf48f347dbe11928b35218b5666fd9f4885e1b3b744"
  },
  "kernelspec": {
   "display_name": "Python 3.9.0 64-bit",
   "language": "python",
   "name": "python3"
  },
  "language_info": {
   "codemirror_mode": {
    "name": "ipython",
    "version": 3
   },
   "file_extension": ".py",
   "mimetype": "text/x-python",
   "name": "python",
   "nbconvert_exporter": "python",
   "pygments_lexer": "ipython3",
   "version": "3.9.0"
  },
  "orig_nbformat": 4
 },
 "nbformat": 4,
 "nbformat_minor": 2
}
